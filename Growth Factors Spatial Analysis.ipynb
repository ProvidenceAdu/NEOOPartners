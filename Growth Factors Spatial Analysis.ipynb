{
 "cells": [
  {
   "cell_type": "markdown",
   "id": "bf9bd7f2",
   "metadata": {},
   "source": [
    "### Import Libraries"
   ]
  },
  {
   "cell_type": "code",
   "execution_count": 1,
   "id": "840cab85",
   "metadata": {},
   "outputs": [],
   "source": [
    "import arcpy\n",
    "import pandas as pd\n",
    "import numpy as np\n",
    "import os\n",
    "import censusdata as cs\n",
    "from census import Census\n",
    "pd.set_option('display.max_rows',None, 'display.max_columns',None,'display.max_colwidth', None)"
   ]
  },
  {
   "cell_type": "markdown",
   "id": "ef983448",
   "metadata": {},
   "source": [
    "## Set Directory"
   ]
  },
  {
   "cell_type": "code",
   "execution_count": 2,
   "id": "da05de5b",
   "metadata": {},
   "outputs": [],
   "source": [
    "path = 'C:\\\\Users\\\\Thepr\\\\Documents\\\\Consulting\\\\Growth Factors'\n",
    "os.chdir(path)"
   ]
  },
  {
   "cell_type": "code",
   "execution_count": 5,
   "id": "319344ab",
   "metadata": {},
   "outputs": [],
   "source": [
    "ProjectGDB =  r\"C:\\\\Users\\\\Thepr\\\\Documents\\\\Consulting\\\\Growth Factors\\\\Growth Factors.gdb\\\\\"\n",
    "arcpy.env.overwriteOutput = True\n",
    "arcpy.env.workspace = ProjectGDB"
   ]
  },
  {
   "cell_type": "markdown",
   "id": "123bb257",
   "metadata": {},
   "source": [
    "- Residential Permits"
   ]
  },
  {
   "cell_type": "code",
   "execution_count": 35,
   "id": "fab19f86",
   "metadata": {},
   "outputs": [
    {
     "name": "stdout",
     "output_type": "stream",
     "text": [
      "10463\n"
     ]
    }
   ],
   "source": [
    "ResidentialPermits = arcpy.management.SelectLayerByAttribute(\n",
    "    \"Issued_Permits\",\n",
    "    \"NEW_SELECTION\",\n",
    "    \"\"\" SUBDESC IN ('Single-Family','Two-Family','Residential','Residential Pool Barrier','Residential Privacy',\n",
    "        'Residential Spa','Residential Swimming Pool','Garage Conversion','Detached Garage',\n",
    "        'Permanent Storage/Accy Building (over 320 sq ft)','Portable Storage/Accy Building (320 sq ft and under)',\n",
    "        'Patio Cover/Gazebo','Carport','Retaining Wall' )\n",
    "        \n",
    "    AND WORKDESC IN ('Addition','Demolition', 'Foundation','Interior Finish','Move','New','New Construction',\n",
    "    'New Construction - Shell','Remodel/Alterations/Repairs','Remove/Replace','Repair', 'Repair / Replacement','Reroof',\n",
    "    'Solar Panel', 'Window/Door Replacement')\n",
    "    \"\"\")\n",
    "\n",
    "ResidentialPermcount = int(arcpy.management.GetCount(ResidentialPermits)[0])\n",
    "print(ResidentialPermcount)"
   ]
  },
  {
   "cell_type": "code",
   "execution_count": 21,
   "id": "b16ca043",
   "metadata": {},
   "outputs": [
    {
     "data": {
      "text/html": [
       "<div class='gpresult'><h2>Messages</h2><div id='messages' data-messages='[\"Start Time: Tuesday, June 3, 2025 6:19:13 PM\",\"Succeeded at Tuesday, June 3, 2025 6:19:14 PM (Elapsed Time: 1.72 seconds)\"]' data-show='true'><div id = 'default' /></div></div>"
      ],
      "text/plain": [
       "<Result 'C:\\\\Users\\\\Thepr\\\\Documents\\\\Consulting\\\\Growth Factors\\\\Growth Factors.gdb\\\\ResidentialPermits'>"
      ]
     },
     "execution_count": 21,
     "metadata": {},
     "output_type": "execute_result"
    }
   ],
   "source": [
    "fieldmapping = arcpy.FieldMappings()\n",
    "fieldmapping.addTable(ResidentialPermits)\n",
    "\n",
    "analysisfields = ['FOLDERYEAR', 'STATUSDESC', 'ISSUEDATE', 'FINALDATE', 'SUBDESC', 'FOLDERNAME',\n",
    "                  'Constructi','MainUse','LandUseDes','Structure','Census','NameofBusi','SignConstr',\n",
    "                  'ServiceGri','FOLDERCOND','ImportDate']\n",
    "\n",
    "for field in fieldmapping.fields:\n",
    "    if field.name not in analysisfields:\n",
    "        fieldmapping.removeFieldMap(fieldmapping.findFieldMapIndex(field.name))\n",
    "        \n",
    "if arcpy.Exists('ResidentialPermits'):\n",
    "    arcpy.Delete_management('ResidentialPermits')\n",
    "\n",
    "arcpy.conversion.ExportFeatures(ResidentialPermits,\"ResidentialPermits\",\"\",\"NOT_USE_ALIAS\",fieldmapping,None)"
   ]
  },
  {
   "cell_type": "markdown",
   "id": "63de0edc",
   "metadata": {},
   "source": [
    "- Residential Demolitions "
   ]
  },
  {
   "cell_type": "code",
   "execution_count": 36,
   "id": "56d554df",
   "metadata": {},
   "outputs": [
    {
     "name": "stdout",
     "output_type": "stream",
     "text": [
      "78\n"
     ]
    }
   ],
   "source": [
    "ResidentialDemolitions = arcpy.management.SelectLayerByAttribute(\n",
    "    \"Issued_Permits\",\n",
    "    \"NEW_SELECTION\",\n",
    "    \"\"\" SUBDESC IN ('Single-Family','Two-Family','Residential','Residential Pool Barrier','Residential Privacy',\n",
    "        'Residential Spa','Residential Swimming Pool','Garage Conversion','Detached Garage',\n",
    "        'Permanent Storage/Accy Building (over 320 sq ft)','Portable Storage/Accy Building (320 sq ft and under)',\n",
    "        'Patio Cover/Gazebo','Carport','Retaining Wall' )\n",
    "        \n",
    "    AND WORKDESC = 'Demolition'\"\"\")\n",
    "\n",
    "ResidentialDemcount = int(arcpy.management.GetCount(ResidentialDemolitions)[0])\n",
    "print(ResidentialDemcount)"
   ]
  },
  {
   "cell_type": "code",
   "execution_count": 31,
   "id": "1fa9f55b",
   "metadata": {},
   "outputs": [
    {
     "data": {
      "text/html": [
       "<div class='gpresult'><h2>Messages</h2><div id='messages' data-messages='[\"Start Time: Tuesday, June 3, 2025 6:52:11 PM\",\"Succeeded at Tuesday, June 3, 2025 6:52:11 PM (Elapsed Time: 0.39 seconds)\"]' data-show='true'><div id = 'default' /></div></div>"
      ],
      "text/plain": [
       "<Result 'C:\\\\Users\\\\Thepr\\\\Documents\\\\Consulting\\\\Growth Factors\\\\Growth Factors.gdb\\\\ResidentialDemolitions'>"
      ]
     },
     "execution_count": 31,
     "metadata": {},
     "output_type": "execute_result"
    }
   ],
   "source": [
    "fieldmapping = arcpy.FieldMappings()\n",
    "fieldmapping.addTable(ResidentialDemolitions)\n",
    "\n",
    "analysisfields = ['FOLDERYEAR', 'STATUSDESC', 'ISSUEDATE', 'FINALDATE', 'SUBDESC', 'FOLDERNAME',\n",
    "                  'Constructi','MainUse','LandUseDes','Structure','Census','NameofBusi','SignConstr',\n",
    "                  'ServiceGri','FOLDERCOND','ImportDate']\n",
    "\n",
    "for field in fieldmapping.fields:\n",
    "    if field.name not in analysisfields:\n",
    "        fieldmapping.removeFieldMap(fieldmapping.findFieldMapIndex(field.name))\n",
    "        \n",
    "if arcpy.Exists('ResidentialDemolitions'):\n",
    "    arcpy.Delete_management('ResidentialDemolitions')\n",
    "    \n",
    "arcpy.conversion.ExportFeatures(ResidentialDemolitions,\"ResidentialDemolitions\",\"\",\"NOT_USE_ALIAS\",fieldmapping,None)"
   ]
  },
  {
   "cell_type": "markdown",
   "id": "8157aa3f",
   "metadata": {},
   "source": [
    "- Commercial Permits"
   ]
  },
  {
   "cell_type": "code",
   "execution_count": 27,
   "id": "5855950d",
   "metadata": {},
   "outputs": [
    {
     "name": "stdout",
     "output_type": "stream",
     "text": [
      "4595\n"
     ]
    }
   ],
   "source": [
    "CommercialPermits = arcpy.management.SelectLayerByAttribute(\n",
    " \"Issued_Permits\",\n",
    "    \"NEW_SELECTION\",\n",
    "    \"\"\"\n",
    "    SUBDESC IN ('Assembly','Awning', 'Billboard', 'Boat Dock', 'Building Identification Sign', 'Business',\n",
    "    'Canopy / Fascia Sign', 'Clean and Show', 'Commercial Privacy', 'Commercial Screening', 'Decks',\n",
    "    'Directional',  'Directory',  'Educational',  'Entryway Sign',  'Existing Business/New Owner',\n",
    "    'Expanding Lease Space',  'Factory',  'Ground',  'Institutional', 'Manufactured Housing',\n",
    "    'Marquee Sign','Menu Board', 'Mercantile',  'Multi Tenant Ground Sign', 'New Tenant',\n",
    "    'Onsite Development', 'Other Undefined Sign', 'Pole Sign','Projecting (Blade) Sign',\n",
    "    'Same Business Owner/New Business Name','Shell Building/House Lights', 'Storage',\n",
    "    'Subdivision Screening Wall', 'Temporary Construction Office', 'Temporary Sales Office',\n",
    "    'Utility & Miscellaneous', 'Wall Sign'\n",
    "    )\n",
    "    AND WORKDESC IN ( 'New','New Construction','New Construction - Shell','Interior Finish',\n",
    "    'Remodel/Alterations/Repairs', 'Repair', 'Repair / Replacement','Remove/Replace', 'Reroof',\n",
    "    'Face Change', 'Foundation', 'Solar Panel', 'Window/Door Replacement','Demolition' )\n",
    "    \"\"\"\n",
    ")\n",
    "\n",
    "CommercialPermcount = int(arcpy.management.GetCount(CommercialPermits)[0])\n",
    "print(CommercialPermcount)"
   ]
  },
  {
   "cell_type": "code",
   "execution_count": 32,
   "id": "aed2a059",
   "metadata": {},
   "outputs": [
    {
     "data": {
      "text/html": [
       "<div class='gpresult'><h2>Messages</h2><div id='messages' data-messages='[\"Start Time: Tuesday, June 3, 2025 6:57:39 PM\",\"Succeeded at Tuesday, June 3, 2025 6:57:40 PM (Elapsed Time: 0.44 seconds)\"]' data-show='true'><div id = 'default' /></div></div>"
      ],
      "text/plain": [
       "<Result 'C:\\\\Users\\\\Thepr\\\\Documents\\\\Consulting\\\\Growth Factors\\\\Growth Factors.gdb\\\\CommercialPermits'>"
      ]
     },
     "execution_count": 32,
     "metadata": {},
     "output_type": "execute_result"
    }
   ],
   "source": [
    "fieldmapping = arcpy.FieldMappings()\n",
    "fieldmapping.addTable(CommercialPermits)\n",
    "\n",
    "analysisfields = ['FOLDERYEAR', 'STATUSDESC', 'ISSUEDATE', 'FINALDATE', 'SUBDESC', 'FOLDERNAME',\n",
    "                  'Constructi','MainUse','LandUseDes','Structure','Census','NameofBusi','SignConstr',\n",
    "                  'ServiceGri','FOLDERCOND','ImportDate']\n",
    "\n",
    "for field in fieldmapping.fields:\n",
    "    if field.name not in analysisfields:\n",
    "        fieldmapping.removeFieldMap(fieldmapping.findFieldMapIndex(field.name))\n",
    "        \n",
    "if arcpy.Exists('CommercialPermits'):\n",
    "    arcpy.Delete_management('CommercialPermits')\n",
    "\n",
    "arcpy.conversion.ExportFeatures(CommercialPermits,\"CommercialPermits\",\"\",\"NOT_USE_ALIAS\",fieldmapping,None)"
   ]
  },
  {
   "cell_type": "markdown",
   "id": "54ed3bc6",
   "metadata": {},
   "source": [
    "- Commercial Demolitions"
   ]
  },
  {
   "cell_type": "code",
   "execution_count": 60,
   "id": "a1d1a948",
   "metadata": {},
   "outputs": [
    {
     "name": "stdout",
     "output_type": "stream",
     "text": [
      "66\n"
     ]
    }
   ],
   "source": [
    "CommercialDemolitions = arcpy.management.SelectLayerByAttribute(\n",
    " \"Issued_Permits\",\n",
    "    \"NEW_SELECTION\",\n",
    "    \"\"\"\n",
    "    SUBDESC IN ('Assembly','Awning', 'Billboard', 'Boat Dock', 'Building Identification Sign', 'Business',\n",
    "    'Canopy / Fascia Sign', 'Clean and Show', 'Commercial Privacy', 'Commercial Screening', 'Decks',\n",
    "    'Directional',  'Directory',  'Educational',  'Entryway Sign',  'Existing Business/New Owner',\n",
    "    'Expanding Lease Space',  'Factory',  'Ground',  'Institutional', 'Manufactured Housing',\n",
    "    'Marquee Sign','Menu Board', 'Mercantile',  'Multi Tenant Ground Sign', 'New Tenant',\n",
    "    'Onsite Development', 'Other Undefined Sign', 'Pole Sign','Projecting (Blade) Sign',\n",
    "    'Same Business Owner/New Business Name','Shell Building/House Lights', 'Storage',\n",
    "    'Subdivision Screening Wall', 'Temporary Construction Office', 'Temporary Sales Office',\n",
    "    'Utility & Miscellaneous', 'Wall Sign'\n",
    "    )\n",
    "    AND WORKDESC = 'Demolition' \n",
    "    \"\"\"\n",
    ")\n",
    "\n",
    "CommercialDemoCount = int(arcpy.management.GetCount(CommercialDemolitions)[0])\n",
    "print(CommercialDemoCount)"
   ]
  },
  {
   "cell_type": "code",
   "execution_count": 61,
   "id": "7e78882c",
   "metadata": {},
   "outputs": [
    {
     "data": {
      "text/html": [
       "<div class='gpresult'><h2>Messages</h2><div id='messages' data-messages='[\"Start Time: Tuesday, June 3, 2025 8:00:11 PM\",\"Succeeded at Tuesday, June 3, 2025 8:00:12 PM (Elapsed Time: 0.62 seconds)\"]' data-show='true'><div id = 'default' /></div></div>"
      ],
      "text/plain": [
       "<Result 'C:\\\\Users\\\\Thepr\\\\Documents\\\\Consulting\\\\Growth Factors\\\\Growth Factors.gdb\\\\CommercialDemolitions'>"
      ]
     },
     "execution_count": 61,
     "metadata": {},
     "output_type": "execute_result"
    }
   ],
   "source": [
    "fieldmapping = arcpy.FieldMappings()\n",
    "fieldmapping.addTable(CommercialDemolitions)\n",
    "\n",
    "analysisfields = ['FOLDERYEAR', 'STATUSDESC', 'ISSUEDATE', 'FINALDATE', 'SUBDESC', 'FOLDERNAME',\n",
    "                  'Constructi','MainUse','LandUseDes','Structure','Census','NameofBusi','SignConstr',\n",
    "                  'ServiceGri','FOLDERCOND','ImportDate']\n",
    "\n",
    "for field in fieldmapping.fields:\n",
    "    if field.name not in analysisfields:\n",
    "        fieldmapping.removeFieldMap(fieldmapping.findFieldMapIndex(field.name))\n",
    "        \n",
    "if arcpy.Exists('CommercialDemolitions'):\n",
    "    arcpy.Delete_management('CommercialDemolitions')\n",
    "\n",
    "arcpy.conversion.ExportFeatures(CommercialDemolitions,\"CommercialDemolitions\",\"\",\"NOT_USE_ALIAS\",fieldmapping,None)"
   ]
  },
  {
   "cell_type": "markdown",
   "id": "41b394cb",
   "metadata": {},
   "source": [
    "- Compute Acreage for BlockGroups"
   ]
  },
  {
   "cell_type": "code",
   "execution_count": 37,
   "id": "e92146dc",
   "metadata": {},
   "outputs": [
    {
     "data": {
      "text/html": [
       "<div class='gpresult'><h2>Messages</h2><div id='messages' data-messages='[\"Start Time: Tuesday, June 3, 2025 7:04:25 PM\",\"Adding Acreage to ArlingtonBlockgroups...\",\"Succeeded at Tuesday, June 3, 2025 7:04:25 PM (Elapsed Time: 0.23 seconds)\"]' data-show='true'><div id = 'default' /></div></div>"
      ],
      "text/plain": [
       "<Result 'C:\\\\Users\\\\Thepr\\\\Documents\\\\Consulting\\\\Growth Factors\\\\Growth Factors.gdb\\\\ArlingtonBlockgroups'>"
      ]
     },
     "execution_count": 37,
     "metadata": {},
     "output_type": "execute_result"
    }
   ],
   "source": [
    "arcpy.management.AddField(\"ArlingtonBlockgroups\",\"Acreage\",\"DOUBLE\",None,None,None,\"Acreage\",\"NULLABLE\",\n",
    "                          \"NON_REQUIRED\",\"\")"
   ]
  },
  {
   "cell_type": "code",
   "execution_count": 38,
   "id": "64a79974",
   "metadata": {},
   "outputs": [
    {
     "data": {
      "text/html": [
       "<div class='gpresult'><h2>Messages</h2><div id='messages' data-messages='[\"Start Time: Tuesday, June 3, 2025 7:05:23 PM\",\"Transformation  was used when projecting C:\\\\Users\\\\Thepr\\\\Documents\\\\Consulting\\\\Growth Factors\\\\Growth Factors.gdb\\\\ArlingtonBlockgroups from GCS_North_American_1983 to NAD_1983_StatePlane_Texas_North_Central_FIPS_4202_Feet.\",\"Succeeded at Tuesday, June 3, 2025 7:05:24 PM (Elapsed Time: 0.54 seconds)\"]' data-show='true'><div id = 'default' /></div></div>"
      ],
      "text/plain": [
       "<Result 'C:\\\\Users\\\\Thepr\\\\Documents\\\\Consulting\\\\Growth Factors\\\\Growth Factors.gdb\\\\ArlingtonBlockgroups'>"
      ]
     },
     "execution_count": 38,
     "metadata": {},
     "output_type": "execute_result"
    }
   ],
   "source": [
    "arcpy.management.CalculateGeometryAttributes(\"ArlingtonBlockgroups\",\"Acreage AREA\",\"\",\"ACRES\",\n",
    "                                             arcpy.SpatialReference(102738),\"SAME_AS_INPUT\")"
   ]
  },
  {
   "cell_type": "markdown",
   "id": "d211e854",
   "metadata": {},
   "source": [
    "- **Join Permits to Arlington Blockgroups**"
   ]
  },
  {
   "cell_type": "code",
   "execution_count": 39,
   "id": "915ccbef",
   "metadata": {},
   "outputs": [
    {
     "name": "stdout",
     "output_type": "stream",
     "text": [
      "ArlingtonBlockgroups\n",
      "Issued_Permits\n",
      "ResidentialPermits\n",
      "ResidentialDemolitions\n",
      "CommercialPermits\n",
      "CommercialDemolitions\n"
     ]
    }
   ],
   "source": [
    "feature_classes = arcpy.ListFeatureClasses()\n",
    "for row in feature_classes:\n",
    "    print(row)"
   ]
  },
  {
   "cell_type": "markdown",
   "id": "d02a5737",
   "metadata": {},
   "source": [
    "### Sequence of Spatial Joins "
   ]
  },
  {
   "cell_type": "markdown",
   "id": "c420dd0a",
   "metadata": {},
   "source": [
    "- **All Permits**"
   ]
  },
  {
   "cell_type": "code",
   "execution_count": 55,
   "id": "a33ed3b4",
   "metadata": {},
   "outputs": [
    {
     "data": {
      "text/html": [
       "<div class='gpresult'><h2>Messages</h2><div id='messages' data-messages='[\"Start Time: Tuesday, June 3, 2025 7:30:16 PM\",\"Succeeded at Tuesday, June 3, 2025 7:30:16 PM (Elapsed Time: 0.21 seconds)\"]' data-show='true'><div id = 'default' /></div></div>"
      ],
      "text/plain": [
       "<Result 'C:\\\\Users\\\\Thepr\\\\Documents\\\\Consulting\\\\Growth Factors\\\\Growth Factors.gdb\\\\ArlingtonAllPermits'>"
      ]
     },
     "execution_count": 55,
     "metadata": {},
     "output_type": "execute_result"
    }
   ],
   "source": [
    "fieldmapping = arcpy.FieldMappings()\n",
    "fieldmapping.addTable('ArlingtonBlockgroups')\n",
    "fieldmapping.addTable('Issued_Permits')\n",
    "\n",
    "analysisfields = ['GEOID','Acreage',]\n",
    "\n",
    "for field in fieldmapping.fields:\n",
    "    if field.name not in analysisfields:\n",
    "        fieldmapping.removeFieldMap(fieldmapping.findFieldMapIndex(field.name))\n",
    "        \n",
    "if arcpy.Exists('ArlingtonAllPermits'):\n",
    "    arcpy.Delete_management('ArlingtonAllPermits')\n",
    "\n",
    "arcpy.analysis.SpatialJoin(\"ArlingtonBlockgroups\",\"Issued_Permits\",\"ArlingtonAllPermits\",\n",
    "                           \"JOIN_ONE_TO_ONE\",\"KEEP_ALL\",fieldmapping,\"COMPLETELY_CONTAINS\",None,\"\",None)\n",
    "\n",
    "arcpy.management.AlterField(\"ArlingtonAllPermits\",\"Join_Count\",\"AllPermits\",\"AllPermits\",\"LONG\",4,\n",
    "                            \"NULLABLE\",\"DO_NOT_CLEAR\")\n"
   ]
  },
  {
   "cell_type": "markdown",
   "id": "83ca96bc",
   "metadata": {},
   "source": [
    "- **Residential Permits** "
   ]
  },
  {
   "cell_type": "code",
   "execution_count": 57,
   "id": "741a5986",
   "metadata": {},
   "outputs": [
    {
     "data": {
      "text/html": [
       "<div class='gpresult'><h2>Messages</h2><div id='messages' data-messages='[\"Start Time: Tuesday, June 3, 2025 7:41:38 PM\",\"Succeeded at Tuesday, June 3, 2025 7:41:38 PM (Elapsed Time: 0.22 seconds)\"]' data-show='true'><div id = 'default' /></div></div>"
      ],
      "text/plain": [
       "<Result 'C:\\\\Users\\\\Thepr\\\\Documents\\\\Consulting\\\\Growth Factors\\\\Growth Factors.gdb\\\\ArlingtonResPermits'>"
      ]
     },
     "execution_count": 57,
     "metadata": {},
     "output_type": "execute_result"
    }
   ],
   "source": [
    "fieldmapping = arcpy.FieldMappings()\n",
    "fieldmapping.addTable('ArlingtonAllPermits')\n",
    "fieldmapping.addTable('ResidentialPermits')\n",
    "\n",
    "analysisfields = ['GEOID','Acreage','AllPermits']\n",
    "\n",
    "for field in fieldmapping.fields:\n",
    "    if field.name not in analysisfields:\n",
    "        fieldmapping.removeFieldMap(fieldmapping.findFieldMapIndex(field.name))\n",
    "        \n",
    "if arcpy.Exists('ArlingtonResPermits'):\n",
    "    arcpy.Delete_management('ArlingtonResPermits')\n",
    "\n",
    "arcpy.analysis.SpatialJoin(\"ArlingtonAllPermits\",\"ResidentialPermits\",\"ArlingtonResPermits\",\n",
    "                           \"JOIN_ONE_TO_ONE\",\"KEEP_ALL\",fieldmapping,\"COMPLETELY_CONTAINS\",None,\"\",None)\n",
    "\n",
    "arcpy.management.AlterField(\"ArlingtonResPermits\",\"Join_Count\",\"ResPermits\",\"ResPermits\",\"LONG\",4,\n",
    "                            \"NULLABLE\",\"DO_NOT_CLEAR\")\n"
   ]
  },
  {
   "cell_type": "markdown",
   "id": "a63a89ab",
   "metadata": {},
   "source": [
    "- **Commercial Permits**"
   ]
  },
  {
   "cell_type": "code",
   "execution_count": 58,
   "id": "37004414",
   "metadata": {},
   "outputs": [
    {
     "data": {
      "text/html": [
       "<div class='gpresult'><h2>Messages</h2><div id='messages' data-messages='[\"Start Time: Tuesday, June 3, 2025 7:51:19 PM\",\"Succeeded at Tuesday, June 3, 2025 7:51:19 PM (Elapsed Time: 0.21 seconds)\"]' data-show='true'><div id = 'default' /></div></div>"
      ],
      "text/plain": [
       "<Result 'C:\\\\Users\\\\Thepr\\\\Documents\\\\Consulting\\\\Growth Factors\\\\Growth Factors.gdb\\\\ArlingtonCommPermits'>"
      ]
     },
     "execution_count": 58,
     "metadata": {},
     "output_type": "execute_result"
    }
   ],
   "source": [
    "fieldmapping = arcpy.FieldMappings()\n",
    "fieldmapping.addTable('ArlingtonResPermits')\n",
    "fieldmapping.addTable('CommercialPermits')\n",
    "\n",
    "analysisfields = ['GEOID','Acreage','AllPermits','ResPermits']\n",
    "\n",
    "for field in fieldmapping.fields:\n",
    "    if field.name not in analysisfields:\n",
    "        fieldmapping.removeFieldMap(fieldmapping.findFieldMapIndex(field.name))\n",
    "        \n",
    "if arcpy.Exists('ArlingtonCommPermits'):\n",
    "    arcpy.Delete_management('ArlingtonCommPermits')\n",
    "\n",
    "arcpy.analysis.SpatialJoin(\"ArlingtonResPermits\",\"CommercialPermits\",\"ArlingtonCommPermits\",\n",
    "                           \"JOIN_ONE_TO_ONE\",\"KEEP_ALL\",fieldmapping,\"COMPLETELY_CONTAINS\",None,\"\",None)\n",
    "\n",
    "arcpy.management.AlterField(\"ArlingtonCommPermits\",\"Join_Count\",\"CommPermits\",\"CommPermits\",\"LONG\",4,\n",
    "                            \"NULLABLE\",\"DO_NOT_CLEAR\")\n"
   ]
  },
  {
   "cell_type": "markdown",
   "id": "79c959b4",
   "metadata": {},
   "source": [
    "- **Commercial Demolitions**"
   ]
  },
  {
   "cell_type": "code",
   "execution_count": 62,
   "id": "78355e50",
   "metadata": {},
   "outputs": [
    {
     "data": {
      "text/html": [
       "<div class='gpresult'><h2>Messages</h2><div id='messages' data-messages='[\"Start Time: Tuesday, June 3, 2025 8:00:29 PM\",\"Succeeded at Tuesday, June 3, 2025 8:00:30 PM (Elapsed Time: 0.20 seconds)\"]' data-show='true'><div id = 'default' /></div></div>"
      ],
      "text/plain": [
       "<Result 'C:\\\\Users\\\\Thepr\\\\Documents\\\\Consulting\\\\Growth Factors\\\\Growth Factors.gdb\\\\ArlingtonCommDemoPermits'>"
      ]
     },
     "execution_count": 62,
     "metadata": {},
     "output_type": "execute_result"
    }
   ],
   "source": [
    "fieldmapping = arcpy.FieldMappings()\n",
    "fieldmapping.addTable('ArlingtonCommPermits')\n",
    "fieldmapping.addTable('CommercialDemolitions')\n",
    "\n",
    "analysisfields = ['GEOID','Acreage','AllPermits','ResPermits','CommPermits']\n",
    "\n",
    "for field in fieldmapping.fields:\n",
    "    if field.name not in analysisfields:\n",
    "        fieldmapping.removeFieldMap(fieldmapping.findFieldMapIndex(field.name))\n",
    "        \n",
    "if arcpy.Exists('ArlingtonCommDemoPermits'):\n",
    "    arcpy.Delete_management('ArlingtonCommDemoPermits')\n",
    "\n",
    "arcpy.analysis.SpatialJoin(\"ArlingtonCommPermits\",\"CommercialDemolitions\",\"ArlingtonCommDemoPermits\",\n",
    "                           \"JOIN_ONE_TO_ONE\",\"KEEP_ALL\",fieldmapping,\"COMPLETELY_CONTAINS\",None,\"\",None)\n",
    "\n",
    "arcpy.management.AlterField(\"ArlingtonCommDemoPermits\",\"Join_Count\",\"CommDemoPermits\",\"CommDemoPermits\",\"LONG\",4,\n",
    "                            \"NULLABLE\",\"DO_NOT_CLEAR\")\n"
   ]
  },
  {
   "cell_type": "markdown",
   "id": "3e9f77e8",
   "metadata": {},
   "source": [
    "- **Residential Demolitions**"
   ]
  },
  {
   "cell_type": "code",
   "execution_count": 63,
   "id": "4f861203",
   "metadata": {},
   "outputs": [
    {
     "data": {
      "text/html": [
       "<div class='gpresult'><h2>Messages</h2><div id='messages' data-messages='[\"Start Time: Tuesday, June 3, 2025 8:06:12 PM\",\"Succeeded at Tuesday, June 3, 2025 8:06:12 PM (Elapsed Time: 0.17 seconds)\"]' data-show='true'><div id = 'default' /></div></div>"
      ],
      "text/plain": [
       "<Result 'C:\\\\Users\\\\Thepr\\\\Documents\\\\Consulting\\\\Growth Factors\\\\Growth Factors.gdb\\\\ArlingtonResDemoPermits'>"
      ]
     },
     "execution_count": 63,
     "metadata": {},
     "output_type": "execute_result"
    }
   ],
   "source": [
    "fieldmapping = arcpy.FieldMappings()\n",
    "fieldmapping.addTable('ArlingtonCommDemoPermits')\n",
    "fieldmapping.addTable('ResidentialDemolitions')\n",
    "\n",
    "analysisfields = ['GEOID','Acreage','AllPermits','ResPermits','CommPermits','CommDemoPermits']\n",
    "\n",
    "for field in fieldmapping.fields:\n",
    "    if field.name not in analysisfields:\n",
    "        fieldmapping.removeFieldMap(fieldmapping.findFieldMapIndex(field.name))\n",
    "        \n",
    "if arcpy.Exists('ArlingtonResDemoPermits'):\n",
    "    arcpy.Delete_management('ArlingtonResDemoPermits')\n",
    "\n",
    "arcpy.analysis.SpatialJoin(\"ArlingtonCommDemoPermits\",\"ResidentialDemolitions\",\"ArlingtonResDemoPermits\",\n",
    "                           \"JOIN_ONE_TO_ONE\",\"KEEP_ALL\",fieldmapping,\"COMPLETELY_CONTAINS\",None,\"\",None)\n",
    "\n",
    "arcpy.management.AlterField(\"ArlingtonResDemoPermits\",\"Join_Count\",\"ResDemoPermits\",\"ResDemoPermits\",\"LONG\",4,\n",
    "                            \"NULLABLE\",\"DO_NOT_CLEAR\")\n"
   ]
  },
  {
   "cell_type": "code",
   "execution_count": 65,
   "id": "6b4092f4",
   "metadata": {},
   "outputs": [
    {
     "data": {
      "text/html": [
       "<div class='gpresult'><h2>Messages</h2><div id='messages' data-messages='[\"Start Time: Tuesday, June 3, 2025 8:09:31 PM\",\"Succeeded at Tuesday, June 3, 2025 8:09:32 PM (Elapsed Time: 0.39 seconds)\"]' data-show='true'><div id = 'default' /></div></div>"
      ],
      "text/plain": [
       "<Result 'C:\\\\Users\\\\Thepr\\\\Documents\\\\Consulting\\\\Growth Factors\\\\Growth Factors.gdb\\\\ArlingtonPermitFinal'>"
      ]
     },
     "execution_count": 65,
     "metadata": {},
     "output_type": "execute_result"
    }
   ],
   "source": [
    "fieldmapping = arcpy.FieldMappings()\n",
    "fieldmapping.addTable('ArlingtonResDemoPermits')\n",
    "\n",
    "\n",
    "analysisfields = ['GEOID','Acreage','AllPermits','ResPermits','CommPermits','CommDemoPermits','ResDemoPermits']\n",
    "\n",
    "for field in fieldmapping.fields:\n",
    "    if field.name not in analysisfields:\n",
    "        fieldmapping.removeFieldMap(fieldmapping.findFieldMapIndex(field.name))\n",
    "        \n",
    "if arcpy.Exists('ArlingtonPermitFinal'):\n",
    "    arcpy.Delete_management('ArlingtonPermitFinal')\n",
    "\n",
    "arcpy.conversion.ExportFeatures('ArlingtonResDemoPermits',\"ArlingtonPermitFinal\",\"\",\"NOT_USE_ALIAS\",fieldmapping,None)"
   ]
  }
 ],
 "metadata": {
  "kernelspec": {
   "display_name": "Python 3 (ipykernel)",
   "language": "python",
   "name": "python3"
  },
  "language_info": {
   "codemirror_mode": {
    "name": "ipython",
    "version": 3
   },
   "file_extension": ".py",
   "mimetype": "text/x-python",
   "name": "python",
   "nbconvert_exporter": "python",
   "pygments_lexer": "ipython3",
   "version": "3.9.18"
  }
 },
 "nbformat": 4,
 "nbformat_minor": 5
}
