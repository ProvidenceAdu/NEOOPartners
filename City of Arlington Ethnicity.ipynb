{
 "cells": [
  {
   "cell_type": "markdown",
   "metadata": {
    "id": "5mAZXxZeQhyu"
   },
   "source": [
    "### Import Libraries"
   ]
  },
  {
   "cell_type": "markdown",
   "metadata": {
    "id": "mHRt1oGzQhyw"
   },
   "source": [
    "\n",
    "\n",
    "- To run this script we need the libraries below\n",
    "- Pandas : For creating DataFrames\n",
    "- Numpy:  For computations \n",
    "- OS : For modifying working directories \n",
    "- censusdata: This is a library for accessing US Census Bureau, we use some of its function to preview variables *\n",
    "- Census: Main library for accessing the US Census Bureau API *\n",
    "- pd.set_option allows us to view our entire output instead of it being truncated in jupyter notebook\n",
    "\n",
    "\n",
    "\n",
    " * You need to install these packages before you can use. Census = pip install census | censusdata = pip install CensusData"
   ]
  },
  {
   "cell_type": "code",
   "execution_count": 1,
   "metadata": {
    "colab": {
     "base_uri": "https://localhost:8080/",
     "height": 373
    },
    "id": "Z-Z4dA4rQhyx",
    "outputId": "ed591eaf-4f1e-4f00-c189-e8c933e6c23a"
   },
   "outputs": [],
   "source": [
    "import pandas as pd\n",
    "import numpy as np\n",
    "import os\n",
    "import censusdata as cs\n",
    "from census import Census\n",
    "import warnings\n",
    "\n",
    "pd.set_option('display.max_rows',None, 'display.max_columns',None,'display.max_colwidth', None)\n",
    "\n",
    "warnings.filterwarnings(\"ignore\", message=\".*DataFrame is highly fragmented.*\")"
   ]
  },
  {
   "cell_type": "code",
   "execution_count": 2,
   "metadata": {
    "colab": {
     "base_uri": "https://localhost:8080/",
     "height": 35
    },
    "id": "_TCdnGoyQhyz",
    "outputId": "736324b3-9ca3-4fe7-852f-e23472440256"
   },
   "outputs": [
    {
     "data": {
      "text/plain": [
       "'C:\\\\Users\\\\Thepr\\\\Downloads'"
      ]
     },
     "execution_count": 2,
     "metadata": {},
     "output_type": "execute_result"
    }
   ],
   "source": [
    "pwd"
   ]
  },
  {
   "cell_type": "markdown",
   "metadata": {
    "id": "MOWKQYPcQhyz"
   },
   "source": [
    "##### Pass your API Key\n",
    "\n",
    "- Go to this [website](https://api.census.gov/data/key_signup.html 'sign up for your personal API key') and sign up your personal API key \n",
    "\n",
    "- Once you get your API key, call the Census function and pass your API key. Eg. Census(\"API Key\") "
   ]
  },
  {
   "cell_type": "code",
   "execution_count": 3,
   "metadata": {
    "colab": {
     "base_uri": "https://localhost:8080/",
     "height": 165
    },
    "id": "J2UXok-AQhy0",
    "outputId": "365c75b5-55d7-41fe-836e-f5f1f5ba326a"
   },
   "outputs": [],
   "source": [
    "c = Census(\"e0577a26a616f4dda60446eae987e3b6d0d944a3\")"
   ]
  },
  {
   "cell_type": "markdown",
   "metadata": {
    "id": "gGNkgVI9Qhy0"
   },
   "source": [
    "#### Preview ACS variable "
   ]
  },
  {
   "cell_type": "code",
   "execution_count": 4,
   "metadata": {
    "id": "yMXJhN4EQhy0"
   },
   "outputs": [
    {
     "name": "stdout",
     "output_type": "stream",
     "text": [
      "Variable     | Table                          | Label                                                    | Type \n",
      "-------------------------------------------------------------------------------------------------------------------\n",
      "B03002_001E  | HISPANIC OR LATINO ORIGIN BY R | !! Estimate Total:                                       | int  \n",
      "B03002_002E  | HISPANIC OR LATINO ORIGIN BY R | !! !! Estimate Total: Not Hispanic or Latino:            | int  \n",
      "B03002_003E  | HISPANIC OR LATINO ORIGIN BY R | !! !! !! Estimate Total: Not Hispanic or Latino: White a | int  \n",
      "B03002_004E  | HISPANIC OR LATINO ORIGIN BY R | !! !! !! Estimate Total: Not Hispanic or Latino: Black o | int  \n",
      "B03002_005E  | HISPANIC OR LATINO ORIGIN BY R | !! !! !! Estimate Total: Not Hispanic or Latino: America | int  \n",
      "B03002_006E  | HISPANIC OR LATINO ORIGIN BY R | !! !! !! Estimate Total: Not Hispanic or Latino: Asian a | int  \n",
      "B03002_007E  | HISPANIC OR LATINO ORIGIN BY R | !! !! !! Estimate Total: Not Hispanic or Latino: Native  | int  \n",
      "B03002_008E  | HISPANIC OR LATINO ORIGIN BY R | !! !! !! Estimate Total: Not Hispanic or Latino: Some ot | int  \n",
      "B03002_009E  | HISPANIC OR LATINO ORIGIN BY R | !! !! !! Estimate Total: Not Hispanic or Latino: Two or  | int  \n",
      "B03002_010E  | HISPANIC OR LATINO ORIGIN BY R | !! !! !! !! Estimate Total: Not Hispanic or Latino: Two  | int  \n",
      "B03002_011E  | HISPANIC OR LATINO ORIGIN BY R | !! !! !! !! Estimate Total: Not Hispanic or Latino: Two  | int  \n",
      "B03002_012E  | HISPANIC OR LATINO ORIGIN BY R | !! !! Estimate Total: Hispanic or Latino:                | int  \n",
      "B03002_013E  | HISPANIC OR LATINO ORIGIN BY R | !! !! !! Estimate Total: Hispanic or Latino: White alone | int  \n",
      "B03002_014E  | HISPANIC OR LATINO ORIGIN BY R | !! !! !! Estimate Total: Hispanic or Latino: Black or Af | int  \n",
      "B03002_015E  | HISPANIC OR LATINO ORIGIN BY R | !! !! !! Estimate Total: Hispanic or Latino: American In | int  \n",
      "B03002_016E  | HISPANIC OR LATINO ORIGIN BY R | !! !! !! Estimate Total: Hispanic or Latino: Asian alone | int  \n",
      "B03002_017E  | HISPANIC OR LATINO ORIGIN BY R | !! !! !! Estimate Total: Hispanic or Latino: Native Hawa | int  \n",
      "B03002_018E  | HISPANIC OR LATINO ORIGIN BY R | !! !! !! Estimate Total: Hispanic or Latino: Some other  | int  \n",
      "B03002_019E  | HISPANIC OR LATINO ORIGIN BY R | !! !! !! Estimate Total: Hispanic or Latino: Two or more | int  \n",
      "B03002_020E  | HISPANIC OR LATINO ORIGIN BY R | !! !! !! !! Estimate Total: Hispanic or Latino: Two or m | int  \n",
      "B03002_021E  | HISPANIC OR LATINO ORIGIN BY R | !! !! !! !! Estimate Total: Hispanic or Latino: Two or m | int  \n",
      "-------------------------------------------------------------------------------------------------------------------\n"
     ]
    }
   ],
   "source": [
    "cs.printtable(cs.censustable('acs5',2019,'B03002'))"
   ]
  },
  {
   "cell_type": "markdown",
   "metadata": {},
   "source": [
    "### ACS 5-Year Estimates"
   ]
  },
  {
   "cell_type": "markdown",
   "metadata": {},
   "source": [
    "\n",
    "- **Race and Ethnicty**"
   ]
  },
  {
   "cell_type": "code",
   "execution_count": 12,
   "metadata": {},
   "outputs": [
    {
     "data": {
      "text/html": [
       "<div>\n",
       "<style scoped>\n",
       "    .dataframe tbody tr th:only-of-type {\n",
       "        vertical-align: middle;\n",
       "    }\n",
       "\n",
       "    .dataframe tbody tr th {\n",
       "        vertical-align: top;\n",
       "    }\n",
       "\n",
       "    .dataframe thead th {\n",
       "        text-align: right;\n",
       "    }\n",
       "</style>\n",
       "<table border=\"1\" class=\"dataframe\">\n",
       "  <thead>\n",
       "    <tr style=\"text-align: right;\">\n",
       "      <th></th>\n",
       "      <th>Ethnicity</th>\n",
       "      <th>Ethnicity/Race Total</th>\n",
       "      <th>Percent Ethnicity/Race</th>\n",
       "    </tr>\n",
       "  </thead>\n",
       "  <tbody>\n",
       "    <tr>\n",
       "      <th>0</th>\n",
       "      <td>White</td>\n",
       "      <td>141166</td>\n",
       "      <td>35.76</td>\n",
       "    </tr>\n",
       "    <tr>\n",
       "      <th>1</th>\n",
       "      <td>Black</td>\n",
       "      <td>86497</td>\n",
       "      <td>21.91</td>\n",
       "    </tr>\n",
       "    <tr>\n",
       "      <th>2</th>\n",
       "      <td>Asian or Pacific Islander</td>\n",
       "      <td>30004</td>\n",
       "      <td>7.60</td>\n",
       "    </tr>\n",
       "    <tr>\n",
       "      <th>3</th>\n",
       "      <td>Other</td>\n",
       "      <td>14189</td>\n",
       "      <td>3.59</td>\n",
       "    </tr>\n",
       "    <tr>\n",
       "      <th>4</th>\n",
       "      <td>Hispanic or Latino</td>\n",
       "      <td>122467</td>\n",
       "      <td>31.02</td>\n",
       "    </tr>\n",
       "  </tbody>\n",
       "</table>\n",
       "</div>"
      ],
      "text/plain": [
       "                   Ethnicity  Ethnicity/Race Total  Percent Ethnicity/Race\n",
       "0                      White                141166                   35.76\n",
       "1                      Black                 86497                   21.91\n",
       "2  Asian or Pacific Islander                 30004                    7.60\n",
       "3                      Other                 14189                    3.59\n",
       "4         Hispanic or Latino                122467                   31.02"
      ]
     },
     "execution_count": 12,
     "metadata": {},
     "output_type": "execute_result"
    }
   ],
   "source": [
    "import pandas as pd\n",
    "\n",
    "Years = [2023]\n",
    "AllData = []\n",
    "\n",
    "\n",
    "variables = {\n",
    "    'B03002_001E': 'Total Population',\n",
    "    'B03002_003E': 'White Alone, Not Hispanic',\n",
    "    'B03002_004E': 'Black or African American Alone',\n",
    "    'B03002_006E': 'Asian Alone',\n",
    "    'B03002_007E': 'Pacific Islander Alone',\n",
    "    'B03002_008E': 'Some Other Race Alone',\n",
    "    'B03002_009E': 'Two or More Races',\n",
    "    'B03002_012E': 'Hispanic or Latino'\n",
    "}\n",
    "\n",
    "for year in Years:\n",
    "    ACS = c.acs5.get(list(variables.keys()), {'for': 'place:04000', 'in': 'state:48'}, year=year)\n",
    "    \n",
    "    Data = pd.DataFrame(ACS)\n",
    "    Data['year'] = year\n",
    "\n",
    "\n",
    "    Data.rename(columns=variables, inplace=True)\n",
    "\n",
    "\n",
    "    for col in variables.values():\n",
    "        Data[col] = Data[col].astype(int)\n",
    "\n",
    "    # Combine relevant categories\n",
    "    Data['White'] = Data['White Alone, Not Hispanic']\n",
    "    Data['Black'] = Data['Black or African American Alone']\n",
    "    Data['Asian or Pacific Islander'] = Data['Asian Alone'] + Data['Pacific Islander Alone']\n",
    "    Data['Other'] = Data['Some Other Race Alone'] + Data['Two or More Races']\n",
    "    Data['Hispanic or Latino'] = Data['Hispanic or Latino']\n",
    "\n",
    "    total = Data['Total Population'].iloc[0]\n",
    "\n",
    " \n",
    "    rows = [\n",
    "        (\"White\", Data['White'].iloc[0], round(Data['White'].iloc[0] / total * 100, 2)),\n",
    "        (\"Black\", Data['Black'].iloc[0], round(Data['Black'].iloc[0] / total * 100, 2)),\n",
    "        (\"Asian or Pacific Islander\", Data['Asian or Pacific Islander'].iloc[0], round(Data['Asian or Pacific Islander'].iloc[0] / total * 100, 2)),\n",
    "        (\"Other\", Data['Other'].iloc[0], round(Data['Other'].iloc[0] / total * 100, 2)),\n",
    "        (\"Hispanic or Latino\", Data['Hispanic or Latino'].iloc[0], round(Data['Hispanic or Latino'].iloc[0] / total * 100, 2)),\n",
    "    ]\n",
    "\n",
    "    EthnicityData = pd.DataFrame(rows, columns=['Ethnicity', 'Ethnicity/Race Total', 'Percent Ethnicity/Race'])\n",
    "    AllData.append(EthnicityData)\n",
    "\n",
    "\n",
    "FinalData = pd.concat(AllData, axis=0).reset_index(drop=True)\n",
    "FinalData.to_csv('Arlington Ethnicity 5-Year Estimate ACS.csv')\n",
    "FinalData\n"
   ]
  },
  {
   "cell_type": "markdown",
   "metadata": {
    "editable": false,
    "id": "szBM2FclQhzP"
   },
   "source": [
    "#### Veterans"
   ]
  },
  {
   "cell_type": "markdown",
   "metadata": {
    "deletable": false,
    "editable": false,
    "id": "szBM2FclQhzP"
   },
   "source": [
    "#### Veterans"
   ]
  }
 ],
 "metadata": {
  "colab": {
   "name": "Quality of Life Explorer.ipynb",
   "provenance": [],
   "toc_visible": true
  },
  "kernelspec": {
   "display_name": "Python 3 (ipykernel)",
   "language": "python",
   "name": "python3"
  },
  "language_info": {
   "codemirror_mode": {
    "name": "ipython",
    "version": 3
   },
   "file_extension": ".py",
   "mimetype": "text/x-python",
   "name": "python",
   "nbconvert_exporter": "python",
   "pygments_lexer": "ipython3",
   "version": "3.9.18"
  }
 },
 "nbformat": 4,
 "nbformat_minor": 1
}
