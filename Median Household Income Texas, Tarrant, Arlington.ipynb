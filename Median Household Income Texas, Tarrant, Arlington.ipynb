{
 "cells": [
  {
   "cell_type": "markdown",
   "id": "c3e9998d",
   "metadata": {},
   "source": [
    "## Import Libraries"
   ]
  },
  {
   "cell_type": "code",
   "execution_count": 1,
   "id": "8fecf7ae",
   "metadata": {},
   "outputs": [],
   "source": [
    "import pandas as pd\n",
    "import numpy as np\n",
    "import os\n",
    "import censusdata as cs\n",
    "from census import Census\n",
    "import warnings\n",
    "\n",
    "pd.set_option('display.max_rows',None, 'display.max_columns',None,'display.max_colwidth', None)"
   ]
  },
  {
   "cell_type": "markdown",
   "id": "b900732d",
   "metadata": {},
   "source": [
    "### Pass API Key"
   ]
  },
  {
   "cell_type": "code",
   "execution_count": 2,
   "id": "ceab9db6",
   "metadata": {},
   "outputs": [],
   "source": [
    "c = Census(\"e0577a26a616f4dda60446eae987e3b6d0d944a3\")"
   ]
  },
  {
   "cell_type": "markdown",
   "id": "a6ecd1c3",
   "metadata": {},
   "source": [
    "### Preview Variable"
   ]
  },
  {
   "cell_type": "code",
   "execution_count": 3,
   "id": "14660f44",
   "metadata": {},
   "outputs": [
    {
     "name": "stdout",
     "output_type": "stream",
     "text": [
      "Variable     | Table                          | Label                                                    | Type \n",
      "-------------------------------------------------------------------------------------------------------------------\n",
      "B19013_001E  | MEDIAN HOUSEHOLD INCOME IN THE | !! Estimate Median household income in the past 12 month | int  \n",
      "-------------------------------------------------------------------------------------------------------------------\n"
     ]
    }
   ],
   "source": [
    "cs.printtable(cs.censustable('acs5',2019,'B19013'))"
   ]
  },
  {
   "cell_type": "markdown",
   "id": "248126a3",
   "metadata": {},
   "source": [
    "### Set Geographies\n",
    "\n",
    "- Arlington\n",
    "- Tarrant County\n",
    "- Dallas Fort Worth\n",
    "- Texas"
   ]
  },
  {
   "cell_type": "code",
   "execution_count": 4,
   "id": "8fb91819",
   "metadata": {},
   "outputs": [],
   "source": [
    "geographies = {\n",
    "    'Arlington, TX': {'for': 'place:04000', 'in': 'state:48'},  \n",
    "    'Tarrant County, TX': {'for': 'county:439', 'in': 'state:48'},\n",
    "    'Dallas-Fort Worth-Arlington MSA': {'for': 'metropolitan statistical area/micropolitan statistical area:19100'},\n",
    "    'Texas State': {'for': 'state:48'}\n",
    "}"
   ]
  },
  {
   "cell_type": "markdown",
   "id": "54e55899",
   "metadata": {},
   "source": [
    "### Get Data"
   ]
  },
  {
   "cell_type": "markdown",
   "id": "62ba7477",
   "metadata": {},
   "source": [
    "- **ACS 5-Year Estimate**"
   ]
  },
  {
   "cell_type": "code",
   "execution_count": 5,
   "id": "6ca753f2",
   "metadata": {},
   "outputs": [],
   "source": [
    "AllData = []\n",
    "\n",
    "Years = [2010,2020]\n",
    "\n",
    "for year in Years:\n",
    "\n",
    "    for geo in geographies:\n",
    "\n",
    "        juris = geographies[geo]\n",
    "        ACS = c.acs5.get(['B19013_001E'],juris,year=year)\n",
    "\n",
    "        Data = pd.DataFrame(ACS)\n",
    "        Data['Geography'] = geo\n",
    "        Data['Year'] = year\n",
    "        \n",
    "\n",
    "        AllData.append(Data)\n",
    "\n",
    "combinedData = pd.concat(AllData,ignore_index=True)\n",
    "\n",
    "combinedData = combinedData[['Year', 'Geography', 'B19013_001E']]\n",
    "combinedData.rename(columns={'B19013_001E': 'Median Household Income'}, inplace=True)\n",
    "\n",
    "DataPivot = combinedData.pivot(index='Geography', columns='Year', values='Median Household Income')\n",
    "\n",
    "\n",
    "# Grab Arlington Median and divide by Median for other geographies \n",
    "DataPivot['Arlington Compared 2010'] = (DataPivot.loc['Arlington, TX', 2010] / DataPivot[2010]) * 100 \n",
    "DataPivot['Arlington Compared 2020'] = (DataPivot.loc['Arlington, TX', 2020] / DataPivot[2020]) * 100\n",
    "\n",
    "# Set Arlington's number to NA\n",
    "DataPivot.loc['Arlington, TX', 'Arlington Compared 2010'] = np.nan\n",
    "DataPivot.loc['Arlington, TX', 'Arlington Compared 2020'] = np.nan\n",
    "\n",
    "# Absolute difference (change in income)\n",
    "DataPivot['Absolute Change Income (2020-2010)'] = DataPivot[2020] - DataPivot[2010]\n",
    "\n",
    "# Percentage change\n",
    "DataPivot['Percentage Change Income (2010-2020)'] = ((DataPivot[2020] / DataPivot[2010]) - 1) * 100\n",
    "\n",
    "\n",
    "# Format $\n",
    "DataPivotFormat = DataPivot.copy()\n",
    "DataPivotFormat[2010] = DataPivotFormat[2010].apply(lambda x: \"${:,.0f}\".format(x))   \n",
    "DataPivotFormat[2020] = DataPivotFormat[2020].apply(lambda x: \"${:,.0f}\".format(x))\n",
    "DataPivotFormat['Absolute Change Income (2020-2010)'] = DataPivotFormat['Absolute Change Income (2020-2010)'].apply(lambda x: \"${:,.0f}\".format(x))\n",
    "\n",
    "\n",
    "# Format %\n",
    "DataPivotFormat['Arlington Compared 2010'] = DataPivotFormat['Arlington Compared 2010'].apply(\n",
    "lambda x: \"{:.0f}%\".format(x) if pd.notnull(x) else \"\")\n",
    "\n",
    "DataPivotFormat['Arlington Compared 2020'] = DataPivotFormat['Arlington Compared 2020'].apply(\n",
    "    lambda x: \"{:.0f}%\".format(x) if pd.notnull(x) else \"\")\n",
    "\n",
    "DataPivotFormat['Percentage Change Income (2010-2020)'] = DataPivotFormat['Percentage Change Income (2010-2020)'].apply(\n",
    "    lambda x: \"{:.1f}%\".format(x) if pd.notnull(x) else \"\")\n",
    "\n",
    "\n",
    "\n",
    "DataPivotFormat.rename(index={'Arlington, TX': 'City of Arlington, TX'}, inplace=True)\n",
    "\n",
    "DataPivotFormat.reset_index(inplace= True)\n",
    "DataPivotFormat.columns.name = None \n",
    "\n",
    "DataPivotFormat['Geography'] = DataPivotFormat['Geography'].replace({'Arlington, TX': 'City of Arlington'})\n",
    "\n",
    "DataPivotFormat.to_csv('Median Household Income.csv', index = False)"
   ]
  },
  {
   "cell_type": "code",
   "execution_count": 6,
   "id": "e070bb5b",
   "metadata": {
    "scrolled": true
   },
   "outputs": [
    {
     "data": {
      "text/html": [
       "<div>\n",
       "<style scoped>\n",
       "    .dataframe tbody tr th:only-of-type {\n",
       "        vertical-align: middle;\n",
       "    }\n",
       "\n",
       "    .dataframe tbody tr th {\n",
       "        vertical-align: top;\n",
       "    }\n",
       "\n",
       "    .dataframe thead th {\n",
       "        text-align: right;\n",
       "    }\n",
       "</style>\n",
       "<table border=\"1\" class=\"dataframe\">\n",
       "  <thead>\n",
       "    <tr style=\"text-align: right;\">\n",
       "      <th></th>\n",
       "      <th>Geography</th>\n",
       "      <th>2010</th>\n",
       "      <th>2020</th>\n",
       "      <th>Arlington Compared 2010</th>\n",
       "      <th>Arlington Compared 2020</th>\n",
       "      <th>Absolute Change Income (2020-2010)</th>\n",
       "      <th>Percentage Change Income (2010-2020)</th>\n",
       "    </tr>\n",
       "  </thead>\n",
       "  <tbody>\n",
       "    <tr>\n",
       "      <th>0</th>\n",
       "      <td>City of Arlington, TX</td>\n",
       "      <td>$52,094</td>\n",
       "      <td>$63,351</td>\n",
       "      <td></td>\n",
       "      <td></td>\n",
       "      <td>$11,257</td>\n",
       "      <td>21.6%</td>\n",
       "    </tr>\n",
       "    <tr>\n",
       "      <th>1</th>\n",
       "      <td>Dallas-Fort Worth-Arlington MSA</td>\n",
       "      <td>$56,349</td>\n",
       "      <td>$72,882</td>\n",
       "      <td>92%</td>\n",
       "      <td>87%</td>\n",
       "      <td>$16,533</td>\n",
       "      <td>29.3%</td>\n",
       "    </tr>\n",
       "    <tr>\n",
       "      <th>2</th>\n",
       "      <td>Tarrant County, TX</td>\n",
       "      <td>$55,306</td>\n",
       "      <td>$70,306</td>\n",
       "      <td>94%</td>\n",
       "      <td>90%</td>\n",
       "      <td>$15,000</td>\n",
       "      <td>27.1%</td>\n",
       "    </tr>\n",
       "    <tr>\n",
       "      <th>3</th>\n",
       "      <td>Texas State</td>\n",
       "      <td>$49,646</td>\n",
       "      <td>$63,826</td>\n",
       "      <td>105%</td>\n",
       "      <td>99%</td>\n",
       "      <td>$14,180</td>\n",
       "      <td>28.6%</td>\n",
       "    </tr>\n",
       "  </tbody>\n",
       "</table>\n",
       "</div>"
      ],
      "text/plain": [
       "                         Geography     2010     2020 Arlington Compared 2010  \\\n",
       "0            City of Arlington, TX  $52,094  $63,351                           \n",
       "1  Dallas-Fort Worth-Arlington MSA  $56,349  $72,882                     92%   \n",
       "2               Tarrant County, TX  $55,306  $70,306                     94%   \n",
       "3                      Texas State  $49,646  $63,826                    105%   \n",
       "\n",
       "  Arlington Compared 2020 Absolute Change Income (2020-2010)  \\\n",
       "0                                                    $11,257   \n",
       "1                     87%                            $16,533   \n",
       "2                     90%                            $15,000   \n",
       "3                     99%                            $14,180   \n",
       "\n",
       "  Percentage Change Income (2010-2020)  \n",
       "0                                21.6%  \n",
       "1                                29.3%  \n",
       "2                                27.1%  \n",
       "3                                28.6%  "
      ]
     },
     "execution_count": 6,
     "metadata": {},
     "output_type": "execute_result"
    }
   ],
   "source": [
    "DataPivotFormat"
   ]
  },
  {
   "cell_type": "code",
   "execution_count": null,
   "id": "6496fcac",
   "metadata": {},
   "outputs": [],
   "source": []
  }
 ],
 "metadata": {
  "kernelspec": {
   "display_name": "Python 3 (ipykernel)",
   "language": "python",
   "name": "python3"
  },
  "language_info": {
   "codemirror_mode": {
    "name": "ipython",
    "version": 3
   },
   "file_extension": ".py",
   "mimetype": "text/x-python",
   "name": "python",
   "nbconvert_exporter": "python",
   "pygments_lexer": "ipython3",
   "version": "3.9.18"
  }
 },
 "nbformat": 4,
 "nbformat_minor": 5
}
