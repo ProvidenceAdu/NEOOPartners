{
 "cells": [
  {
   "cell_type": "markdown",
   "id": "43624b29",
   "metadata": {},
   "source": [
    "## Import Libraries"
   ]
  },
  {
   "cell_type": "code",
   "execution_count": 1,
   "id": "2d726d01",
   "metadata": {},
   "outputs": [],
   "source": [
    "import pandas as pd\n",
    "import numpy as np\n",
    "import os\n",
    "import censusdata as cs\n",
    "from census import Census\n",
    "import warnings\n",
    "\n",
    "pd.set_option('display.max_rows',None, 'display.max_columns',None,'display.max_colwidth', None)"
   ]
  },
  {
   "cell_type": "markdown",
   "id": "e6b152c9",
   "metadata": {},
   "source": [
    "### Pass API Key"
   ]
  },
  {
   "cell_type": "code",
   "execution_count": 2,
   "id": "533f040d",
   "metadata": {},
   "outputs": [],
   "source": [
    "c = Census(\"e0577a26a616f4dda60446eae987e3b6d0d944a3\")"
   ]
  },
  {
   "cell_type": "markdown",
   "id": "576f8dcb",
   "metadata": {},
   "source": [
    "### Preview Variable"
   ]
  },
  {
   "cell_type": "code",
   "execution_count": 3,
   "id": "fbc47d9e",
   "metadata": {},
   "outputs": [
    {
     "name": "stdout",
     "output_type": "stream",
     "text": [
      "Variable     | Table                          | Label                                                    | Type \n",
      "-------------------------------------------------------------------------------------------------------------------\n",
      "B08301_001E  | MEANS OF TRANSPORTATION TO WOR | !! Estimate Total:                                       | int  \n",
      "B08301_002E  | MEANS OF TRANSPORTATION TO WOR | !! !! Estimate Total: Car, truck, or van:                | int  \n",
      "B08301_003E  | MEANS OF TRANSPORTATION TO WOR | !! !! !! Estimate Total: Car, truck, or van: Drove alone | int  \n",
      "B08301_004E  | MEANS OF TRANSPORTATION TO WOR | !! !! !! Estimate Total: Car, truck, or van: Carpooled:  | int  \n",
      "B08301_005E  | MEANS OF TRANSPORTATION TO WOR | !! !! !! !! Estimate Total: Car, truck, or van: Carpoole | int  \n",
      "B08301_006E  | MEANS OF TRANSPORTATION TO WOR | !! !! !! !! Estimate Total: Car, truck, or van: Carpoole | int  \n",
      "B08301_007E  | MEANS OF TRANSPORTATION TO WOR | !! !! !! !! Estimate Total: Car, truck, or van: Carpoole | int  \n",
      "B08301_008E  | MEANS OF TRANSPORTATION TO WOR | !! !! !! !! Estimate Total: Car, truck, or van: Carpoole | int  \n",
      "B08301_009E  | MEANS OF TRANSPORTATION TO WOR | !! !! !! !! Estimate Total: Car, truck, or van: Carpoole | int  \n",
      "B08301_010E  | MEANS OF TRANSPORTATION TO WOR | !! !! Estimate Total: Public transportation (excluding t | int  \n",
      "B08301_011E  | MEANS OF TRANSPORTATION TO WOR | !! !! !! Estimate Total: Public transportation (excludin | int  \n",
      "B08301_012E  | MEANS OF TRANSPORTATION TO WOR | !! !! !! Estimate Total: Public transportation (excludin | int  \n",
      "B08301_013E  | MEANS OF TRANSPORTATION TO WOR | !! !! !! Estimate Total: Public transportation (excludin | int  \n",
      "B08301_014E  | MEANS OF TRANSPORTATION TO WOR | !! !! !! Estimate Total: Public transportation (excludin | int  \n",
      "B08301_015E  | MEANS OF TRANSPORTATION TO WOR | !! !! !! Estimate Total: Public transportation (excludin | int  \n",
      "B08301_016E  | MEANS OF TRANSPORTATION TO WOR | !! !! Estimate Total: Taxicab                            | int  \n",
      "B08301_017E  | MEANS OF TRANSPORTATION TO WOR | !! !! Estimate Total: Motorcycle                         | int  \n",
      "B08301_018E  | MEANS OF TRANSPORTATION TO WOR | !! !! Estimate Total: Bicycle                            | int  \n",
      "B08301_019E  | MEANS OF TRANSPORTATION TO WOR | !! !! Estimate Total: Walked                             | int  \n",
      "B08301_020E  | MEANS OF TRANSPORTATION TO WOR | !! !! Estimate Total: Other means                        | int  \n",
      "B08301_021E  | MEANS OF TRANSPORTATION TO WOR | !! !! Estimate Total: Worked from home                   | int  \n",
      "-------------------------------------------------------------------------------------------------------------------\n"
     ]
    }
   ],
   "source": [
    "cs.printtable(cs.censustable('acs5',2019,'B08301'))"
   ]
  },
  {
   "cell_type": "markdown",
   "id": "190fab8d",
   "metadata": {},
   "source": [
    "### Get Data"
   ]
  },
  {
   "cell_type": "markdown",
   "id": "18b10d93",
   "metadata": {},
   "source": [
    "- **ACS 1 Year**"
   ]
  },
  {
   "cell_type": "code",
   "execution_count": 4,
   "id": "7b15de5f",
   "metadata": {},
   "outputs": [],
   "source": [
    "Years = [2019,2023]\n",
    "AllData = []\n",
    "\n",
    "for year in Years:\n",
    "    \n",
    "\n",
    "    ACS = c.acs1.get(\n",
    "        [\"B08301_001E\",'B08301_003E','B08301_004E','B08301_010E','B08301_019E','B08301_018E','B08301_016E',\n",
    "        'B08301_017E','B08301_020E','B08301_021E'],\n",
    "        {'for': 'place:04000', 'in': 'state:48'}, year  = year)\n",
    "\n",
    "    Data = pd.DataFrame(ACS)\n",
    "    \n",
    "    Data.rename(columns={'B08301_001E': 'Total','B08301_003E': 'Drove Alone','B08301_004E': 'Carpool',\n",
    "                          'B08301_010E': 'Public Transit','B08301_019E': 'Walked','B08301_018E': 'Bicycle',\n",
    "                          'B08301_017E': 'Motorcycle','B08301_020E': 'Other','B08301_021E': 'Work From Home',\n",
    "                          'B08301_016E': 'Taxicab'},  inplace = True)\n",
    "    \n",
    "    CP = ['Drove Alone', 'Carpool', 'Public Transit', 'Walked','Bicycle', 'Taxicab', \n",
    "          'Motorcycle', 'Other', 'Work From Home']\n",
    "   \n",
    "\n",
    "    for row in CP:\n",
    "        Data[row] = (Data[row].astype(float) / Data['Total'].astype(float)) * 100  # Calculate Percentage\n",
    "        \n",
    "        \n",
    "    Data = pd.DataFrame(Data[CP])\n",
    "\n",
    "    Data.to_csv(f'Commuting Patterns {year} ACS 1 year Estimate.csv',index = False) #Export Data\n",
    "\n",
    "    DataLong = Data.melt(id_vars=[], value_vars=CP,var_name='Commute Mode', value_name= 'Percentage')  # convert to Long\n",
    "    DataLong['Year'] = year\n",
    "\n",
    "    AllData.append(DataLong)\n",
    "        \n",
    "\n",
    "Datacombined = pd.concat(AllData) # combine all\n",
    "\n",
    "Datacombined['Year'] = Datacombined['Year'].astype(str) \n",
    "\n",
    "DataPivot = Datacombined.pivot(index='Commute Mode', columns='Year', values='Percentage').reset_index() # Make year columns\n",
    "\n",
    "\n",
    "DataPivot['Percentage Points Difference (2019-2023)'] = DataPivot['2023'] - DataPivot['2019']\n",
    "\n",
    "DataPivot['Percentage Change (2019-2023)'] = ((DataPivot['2023'] - DataPivot['2019']) / DataPivot['2019']) * 100\n",
    "\n",
    "DataPivot = DataPivot.round(2)\n",
    "\n",
    "DataPivot.to_csv(f'Commuting Patterns 2019-2023 ACS 1-year City of Arlington.csv', index=False)"
   ]
  },
  {
   "cell_type": "markdown",
   "id": "626ed682",
   "metadata": {},
   "source": [
    "- **ACS 5 Year**"
   ]
  },
  {
   "cell_type": "code",
   "execution_count": 5,
   "id": "e4dee823",
   "metadata": {},
   "outputs": [],
   "source": [
    "Years = [2019,2023]\n",
    "AllData = []\n",
    "\n",
    "for year in Years:\n",
    "    \n",
    "\n",
    "    ACS = c.acs5.get(\n",
    "        [\"B08301_001E\",'B08301_003E','B08301_004E','B08301_010E','B08301_019E','B08301_018E','B08301_016E',\n",
    "        'B08301_017E','B08301_020E','B08301_021E'],\n",
    "        {'for': 'place:04000', 'in': 'state:48'}, year  = year)\n",
    "\n",
    "    Data = pd.DataFrame(ACS)\n",
    "    \n",
    "    Data.rename(columns={'B08301_001E': 'Total','B08301_003E': 'Drove Alone','B08301_004E': 'Carpool',\n",
    "                          'B08301_010E': 'Public Transit','B08301_019E': 'Walked','B08301_018E': 'Bicycle',\n",
    "                          'B08301_017E': 'Motorcycle','B08301_020E': 'Other','B08301_021E': 'Work From Home',\n",
    "                          'B08301_016E': 'Taxicab'},  inplace = True)\n",
    "    \n",
    "    CP = ['Drove Alone', 'Carpool', 'Public Transit', 'Walked','Bicycle', 'Taxicab', \n",
    "          'Motorcycle', 'Other', 'Work From Home']\n",
    "   \n",
    "\n",
    "    for row in CP:\n",
    "        Data[row] = (Data[row].astype(float) / Data['Total'].astype(float)) * 100  # Calculate Percentage\n",
    "        \n",
    "        \n",
    "    Data = pd.DataFrame(Data[CP])\n",
    "\n",
    "    Data.to_csv(f'Commuting Patterns {year} ACS 5-year Estimate.csv',index = False) #Export Data\n",
    "\n",
    "    DataLong = Data.melt(id_vars=[], value_vars=CP,var_name='Commute Mode', value_name= 'Percentage')  # convert to Long\n",
    "    DataLong['Year'] = year\n",
    "\n",
    "    AllData.append(DataLong)\n",
    "        \n",
    "\n",
    "Datacombined = pd.concat(AllData) # combine all\n",
    "\n",
    "Datacombined['Year'] = Datacombined['Year'].astype(str) \n",
    "\n",
    "DataPivot = Datacombined.pivot(index='Commute Mode', columns='Year', values='Percentage').reset_index() # Make year columns\n",
    "\n",
    "\n",
    "DataPivot['Percentage Points Difference (2019-2023)'] = DataPivot['2023'] - DataPivot['2019']\n",
    "\n",
    "DataPivot['Percentage Change (2019-2023)'] = ((DataPivot['2023'] - DataPivot['2019']) / DataPivot['2019']) * 100\n",
    "\n",
    "DataPivot = DataPivot.round(2)\n",
    "\n",
    "DataPivot.to_csv(f'Commuting Patterns 2019-2023 ACS 5-year City of Arlington.csv', index=False)"
   ]
  }
 ],
 "metadata": {
  "kernelspec": {
   "display_name": "Python 3 (ipykernel)",
   "language": "python",
   "name": "python3"
  },
  "language_info": {
   "codemirror_mode": {
    "name": "ipython",
    "version": 3
   },
   "file_extension": ".py",
   "mimetype": "text/x-python",
   "name": "python",
   "nbconvert_exporter": "python",
   "pygments_lexer": "ipython3",
   "version": "3.9.18"
  }
 },
 "nbformat": 4,
 "nbformat_minor": 5
}
