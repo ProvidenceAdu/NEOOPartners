{
 "cells": [
  {
   "cell_type": "markdown",
   "id": "a4f54d7c",
   "metadata": {},
   "source": [
    "## Import Libraries"
   ]
  },
  {
   "cell_type": "code",
   "execution_count": 1,
   "id": "06844f6b",
   "metadata": {},
   "outputs": [],
   "source": [
    "import arcpy \n",
    "import pandas as pd \n",
    "import numpy as np\n",
    "import os\n",
    "import glob as gb"
   ]
  },
  {
   "cell_type": "markdown",
   "id": "f8192f3e",
   "metadata": {},
   "source": [
    "## Set Directory"
   ]
  },
  {
   "cell_type": "code",
   "execution_count": 2,
   "id": "18052bda",
   "metadata": {},
   "outputs": [],
   "source": [
    "path = 'C:\\\\Users\\\\Thepr\\\\Documents\\\\Consulting\\\\Soft Parcel Analysis'\n",
    "os.chdir(path)"
   ]
  },
  {
   "cell_type": "code",
   "execution_count": 3,
   "id": "081f06ab",
   "metadata": {},
   "outputs": [],
   "source": [
    "ProjectGDB =  r\"C:\\\\Users\\\\Thepr\\\\Documents\\\\Consulting\\\\Soft Parcel Analysis\\\\Soft Parcel Analysis.gdb\"\n",
    "arcpy.env.overwriteOutput = True\n",
    "arcpy.env.workspace = ProjectGDB"
   ]
  },
  {
   "cell_type": "markdown",
   "id": "0b112e63",
   "metadata": {},
   "source": [
    "# Zoning "
   ]
  },
  {
   "cell_type": "markdown",
   "id": "77e2cc89",
   "metadata": {},
   "source": [
    "- Convert Zoning Districts to Point\n",
    "- Join the Zoning Districts to the Arlington Parcel Using Spatial Join"
   ]
  },
  {
   "cell_type": "code",
   "execution_count": 4,
   "id": "1920ed56",
   "metadata": {},
   "outputs": [
    {
     "data": {
      "text/html": [
       "<div class='gpresult'><h2>Messages</h2><div id='messages' data-messages='[\"Start Time: Monday, May 26, 2025 9:00:08 PM\",\"Succeeded at Monday, May 26, 2025 9:00:09 PM (Elapsed Time: 0.82 seconds)\"]' data-show='true'><div id = 'default' /></div></div>"
      ],
      "text/plain": [
       "<Result 'C:\\\\\\\\Users\\\\\\\\Thepr\\\\\\\\Documents\\\\\\\\Consulting\\\\\\\\Soft Parcel Analysis\\\\\\\\Soft Parcel Analysis.gdb\\\\ZoningDistrictsPoints'>"
      ]
     },
     "execution_count": 4,
     "metadata": {},
     "output_type": "execute_result"
    }
   ],
   "source": [
    "if arcpy.Exists('ZoningDistrictsPoints'):\n",
    "    arcpy.Delete_management('ZoningDistrictsPoints')\n",
    "    \n",
    "arcpy.management.FeatureToPoint(\"ZoningDistricts\",\"ZoningDistrictsPoints\",\"CENTROID\")"
   ]
  },
  {
   "cell_type": "code",
   "execution_count": 5,
   "id": "c7e0d385",
   "metadata": {},
   "outputs": [
    {
     "name": "stdout",
     "output_type": "stream",
     "text": [
      "['OBJECTID_1', 'Shape', 'OBJECTID', 'ZONINGDETA', 'DISTRICT', 'PD_RESIDEN', 'PART', 'ZONINGCASE', 'ORDINANCE', 'EFFECTIVED', 'ZONINGDESC', 'SHAPESTAre', 'SHAPESTLen', 'Shape_Length', 'Shape_Area', 'Zoning', 'DensityCompatible']\n"
     ]
    }
   ],
   "source": [
    "Zfields = []\n",
    "for row in arcpy.ListFields('ZoningDistricts'):\n",
    "    Zfields.append(row.name)\n",
    "print(Zfields)"
   ]
  },
  {
   "cell_type": "markdown",
   "id": "cf4f6ac0",
   "metadata": {},
   "source": [
    "# Zoning Desgination "
   ]
  },
  {
   "cell_type": "markdown",
   "id": "8d3caaaa",
   "metadata": {},
   "source": [
    "- Create **Zoning Dictionary**\n",
    "- Add a new field \n",
    "- Calculate full zoning names into the new fields"
   ]
  },
  {
   "cell_type": "code",
   "execution_count": 6,
   "id": "46f164e8",
   "metadata": {},
   "outputs": [],
   "source": [
    "zoning = {'ETJ': 'Extra Territorial Jurisdiction', 'RMU': 'Regional Mixed-Use', 'NMU': 'Neighborhood Mixed-Use', \n",
    "          'IM': 'Industrial Manufacturing', 'LI': 'Light Industrial', 'FH': 'Flex Hybrid', 'BP': 'Business Park', \n",
    "          'DB': 'Downtown Business', 'HC': 'Highway Commercial', 'GC': 'General Commercial', 'CC': 'Community Commercial', \n",
    "          'NC': 'Neighborhood Commercial', 'OC': 'Office Commercial', 'LO': 'Limited Office', 'PD': 'Planned Development',\n",
    "          'MH': 'Manufactured Housing', 'VG': 'Village on the Green', 'RMF-22': 'Residential Multi-Family 22', \n",
    "          'RM-12': 'Residential Medium Density', 'RS-5': 'Residential Single-Family 5', \n",
    "          'RS-7.2': 'Residential Single-Family 7.2', 'RS-15': 'Residential Single-Family 15',\n",
    "          'RS-20': 'Residential Single-Family 20', 'RE': 'Residential Estate', 'UTA': 'UT Arlington',\n",
    "          'APO': 'Airport Overlay', 'DNO': 'Downtown Neighborhood Overlay', 'EDO': 'Entertainment District Overlay', \n",
    "          'CDO': 'Conservation District Overlay', 'LPO': 'Landmark Preservation Overlay', \n",
    "          'LCMUO': 'Lamar Collins Mixed-Use Overlay',\n",
    "          'PD07-5R4-DP14': 'Planned Development (PD07-5R4-DP14)', 'PD07-5R4-DP16': 'Planned Development (PD07-5R4-DP16)',\n",
    "          'APO-CC': 'Airport Overlay - Community Commercial', 'APO-GC': 'Airport Overlay - General Commercial',\n",
    "          'APO-IM': 'Airport Overlay - Industrial Manufacturing', 'APO-LI': 'Airport Overlay - Light Industrial',\n",
    "          'APO-LI-PD': 'Airport Overlay - Light Industrial - Planned Development',\n",
    "          'APO-NC': 'Airport Overlay - Neighborhood Commercial', 'APO-OC': 'Airport Overlay - Office Commercial', \n",
    "          'APO-PD': 'Airport Overlay - Planned Development', 'APO-RE': 'Airport Overlay - Residential Estate',\n",
    "          'APO-RM-12': 'Airport Overlay - Residential Medium Density', \n",
    "          'APO-RMF-22': 'Airport Overlay - Residential Multi-Family 22', \n",
    "          'APO-RS-5': 'Airport Overlay - Residential Single-Family 5', \n",
    "          'APO-RS-7.2': 'Airport Overlay - Residential Single-Family 7.2', 'BP-PD': 'Business Park - Planned Development',\n",
    "          'CC-PD-RMF-22': 'Community Commercial - Planned Development - Residential Multi-Family 22',\n",
    "          'CDO-RS-7.2': 'Conservation District Overlay - Residential Single-Family 7.2', \n",
    "          'DNO-CC': 'Downtown Neighborhood Overlay - Community Commercial', \n",
    "          'DNO-GC': 'Downtown Neighborhood Overlay - General Commercial', \n",
    "          'DNO-LI': 'Downtown Neighborhood Overlay - Light Industrial', \n",
    "          'DNO-LO': 'Downtown Neighborhood Overlay - Limited Office',\n",
    "          'DNO-LPO-GC': 'Downtown Neighborhood Overlay - Landmark Preservation Overlay - General Commercial',\n",
    "          'DNO-LPO-NC': 'Downtown Neighborhood Overlay - Landmark Preservation Overlay - Neighborhood Commercial',\n",
    "          'DNO-NC': 'Downtown Neighborhood Overlay - Neighborhood Commercial', \n",
    "          'DNO-OC': 'Downtown Neighborhood Overlay - Office Commercial', \n",
    "          'DNO-PD': 'Downtown Neighborhood Overlay - Planned Development', \n",
    "          'DNO-PD-DB': 'Downtown Neighborhood Overlay - Planned Development - Downtown Business', \n",
    "          'DNO-PD-RM-12': 'Downtown Neighborhood Overlay - Planned Development - Residential Medium Density', \n",
    "          'DNO-PD-RMF-22': 'Downtown Neighborhood Overlay - Planned Development - Residential Multi-Family 22',\n",
    "          'DNO-RM-12': 'Downtown Neighborhood Overlay - Residential Medium Density',\n",
    "          'DNO-RMF-22': 'Downtown Neighborhood Overlay - Residential Multi-Family 22', \n",
    "          'DNO-RS-7.2': 'Downtown Neighborhood Overlay - Residential Single-Family 7.2',\n",
    "          'EDO-CC': 'Entertainment District Overlay - Community Commercial', \n",
    "          'EDO-GC': 'Entertainment District Overlay - General Commercial',\n",
    "          'EDO-IM': 'Entertainment District Overlay - Industrial Manufacturing',\n",
    "          'EDO-LI': 'Entertainment District Overlay - Light Industrial',\n",
    "          'EDO-NC': 'Entertainment District Overlay - Neighborhood Commercial', \n",
    "          'EDO-OC': 'Entertainment District Overlay - Office Commercial', \n",
    "          'EDO-PD': 'Entertainment District Overlay - Planned Development', \n",
    "          'EDO-PD-RM-12': 'Entertainment District Overlay - Planned Development - Residential Medium Density', \n",
    "          'EDO-RM-12': 'Entertainment District Overlay - Residential Medium Density',\n",
    "          'EDO-RMF-22': 'Entertainment District Overlay - Residential Multi-Family 22',\n",
    "          'EDO-RS-7.2': 'Entertainment District Overlay - Residential Single-Family 7.2', \n",
    "          'LCMUO-CC': 'Lamar Collins Mixed-Use Overlay - Community Commercial', \n",
    "          'LCMUO-GC': 'Lamar Collins Mixed-Use Overlay - General Commercial', \n",
    "          'LCMUO-PD': 'Lamar Collins Mixed-Use Overlay - Planned Development',\n",
    "          'LCMUO-RMF-22': 'Lamar Collins Mixed-Use Overlay - Residential Multi-Family 22',\n",
    "          'LPO-CC': 'Landmark Preservation Overlay - Community Commercial',\n",
    "          'LPO-DB': 'Landmark Preservation Overlay - Downtown Business',\n",
    "          'LPO-NC': 'Landmark Preservation Overlay - Neighborhood Commercial', \n",
    "          'LPO-RM-12': 'Landmark Preservation Overlay - Residential Medium Density',\n",
    "          'LPO-RS-7.2': 'Landmark Preservation Overlay - Residential Single-Family 7.2', \n",
    "          'PD EDO-RM-12': 'Planned Development - Entertainment District Overlay - Residential Medium Density', \n",
    "          'PD RMF-22': 'Planned Development - Residential Multi-Family 22', \n",
    "          'PD-APO-GC': 'Planned Development - Airport Overlay - General Commercial', \n",
    "          'PD-CA': 'Planned Development - Civic Area', 'PD-CC': 'Planned Development - Community Commercial', \n",
    "          'PD-DB': 'Planned Development - Downtown Business', \n",
    "          'PD-DNO-RMF-22': 'Planned Development - Downtown Neighborhood Overlay - Residential Multi-Family 22',\n",
    "          'PD-EDO-CC': 'Planned Development - Entertainment District Overlay - Community Commercial', \n",
    "          'PD-EDO-RMU': 'Planned Development - Entertainment District Overlay - Regional Mixed-Use', \n",
    "          'PD-GC': 'Planned Development - General Commercial', 'PD-IM': 'Planned Development - Industrial Manufacturing', \n",
    "          'PD-LI': 'Planned Development - Light Industrial', \n",
    "          'PD-LI-CC': 'Planned Development - Light Industrial - Community Commercial',\n",
    "          'PD-LO': 'Planned Development - Limited Office', 'PD-OC': 'Planned Development - Office Commercial',\n",
    "          'PD-RE': 'Planned Development - Residential Estate', 'PD-RM12': 'Planned Development - Residential Medium Density', \n",
    "          'PD-RM-12': 'Planned Development - Residential Medium Density',\n",
    "          'PD-RM-12-CC': 'Planned Development - Residential Medium Density - Community Commercial', \n",
    "          'PD-RM-12-NC': 'Planned Development - Residential Medium Density - Neighborhood Commercial',\n",
    "          'PD-RM-12-RMF-22': 'Planned Development - Residential Medium Density - Residential Multi-Family 22',\n",
    "          'PD-RMF22': 'Planned Development - Residential Multi-Family 22', \n",
    "          'PD-RMF-22': 'Planned Development - Residential Multi-Family 22',\n",
    "          'PD-RMF-22-CC': 'Planned Development - Residential Multi-Family 22 - Community Commercial', \n",
    "          'PD-RMF-22-GC': 'Planned Development - Residential Multi-Family 22 - General Commercial', \n",
    "          'PD-RS-15': 'Planned Development - Residential Single-Family 15',\n",
    "          'PD-RS-5': 'Planned Development - Residential Single-Family 5', \n",
    "          'PD-RS-5-CC': 'Planned Development - Residential Single-Family 5 - Community Commercial', \n",
    "          'PD-RS-7.2': 'Planned Development - Residential Single-Family 7.2', \n",
    "          'PD-RS-7.2-RM-12-CC': 'Planned Development - Residential Single-Family 7.2 - Residential Medium Density - Community Commercial'}"
   ]
  },
  {
   "cell_type": "code",
   "execution_count": 7,
   "id": "64e73569",
   "metadata": {},
   "outputs": [
    {
     "data": {
      "text/html": [
       "<div class='gpresult'><h2>Messages</h2><div id='messages' data-messages='[\"Start Time: Monday, May 26, 2025 9:00:10 PM\",\"WARNING 000012: Zoning already exists\",\"Succeeded at Monday, May 26, 2025 9:00:10 PM (Elapsed Time: 0.18 seconds)\"]' data-show='true'><div id = 'default' /></div></div>"
      ],
      "text/plain": [
       "<Result 'C:\\\\\\\\Users\\\\\\\\Thepr\\\\\\\\Documents\\\\\\\\Consulting\\\\\\\\Soft Parcel Analysis\\\\\\\\Soft Parcel Analysis.gdb\\\\ZoningDistricts'>"
      ]
     },
     "execution_count": 7,
     "metadata": {},
     "output_type": "execute_result"
    }
   ],
   "source": [
    "arcpy.management.AddField(\"ZoningDistricts\",\"Zoning\",\"TEXT\",None,None,1000,\"Zoning\",\"NULLABLE\",\n",
    "                          \"NON_REQUIRED\",\"\")"
   ]
  },
  {
   "cell_type": "code",
   "execution_count": 8,
   "id": "d786a226",
   "metadata": {},
   "outputs": [],
   "source": [
    "with arcpy.da.UpdateCursor('ZoningDistricts', ['ZONINGDETA', 'Zoning']) as cursor:\n",
    "    for row in cursor:\n",
    "        code = row[0]\n",
    "        if code in zoning:\n",
    "            row[1] = zoning[code]\n",
    "        cursor.updateRow(row)"
   ]
  },
  {
   "cell_type": "markdown",
   "id": "f641cfd2",
   "metadata": {},
   "source": [
    "# High Density and Mixed Use Compatible\n",
    "\n",
    "- Create a list of Zoning Compatible with Mixed Use or High Density\n",
    "- Add Field \n",
    "- Calculate Compatible Zones into those fields"
   ]
  },
  {
   "cell_type": "code",
   "execution_count": 9,
   "id": "baf547ce",
   "metadata": {},
   "outputs": [],
   "source": [
    "compatiblezones = [\n",
    "    \"RMU\", \"NMU\", \"LCMUO\", \"LCMUO-CC\", \"LCMUO-GC\", \"LCMUO-PD\", \"LCMUO-RMF-22\",\n",
    "    \"VG\", \"DB\", \"DNO-CC\", \"DNO-GC\", \"DNO-OC\", \"DNO-LO\", \"DNO-RM-12\", \"DNO-RMF-22\",\n",
    "    \"DNO-PD\", \"DNO-PD-DB\", \"DNO-PD-RMF-22\", \"DNO-PD-RM-12\",\n",
    "    \"EDO-CC\", \"EDO-GC\", \"EDO-NC\", \"EDO-OC\", \"EDO-RM-12\", \"EDO-RMF-22\",\n",
    "    \"PD-EDO-CC\", \"PD-EDO-RMU\", \"GC\", \"CC\", \"NC\", \"OC\", \"LO\",\n",
    "    \"RMF-22\", \"RM-12\", \"PD-RMF-22\", \"PD-RM-12\", \"PD-RMF-22-GC\", \"PD-RMF-22-CC\",\n",
    "    \"PD-RM-12-CC\", \"PD-RM-12-NC\", \"PD-RM-12-RMF-22\", \"CC-PD-RMF-22\",\n",
    "    \"PD07-5R4-DP14\", \"PD07-5R4-DP16\", \"APO-CC\", \"APO-GC\", \"APO-NC\", \"APO-OC\",\n",
    "    \"APO-RM-12\", \"APO-RMF-22\", \"APO-LI-PD\", \"APO-PD\", \"PD-APO-GC\"\n",
    "]"
   ]
  },
  {
   "cell_type": "code",
   "execution_count": 10,
   "id": "879c9910",
   "metadata": {},
   "outputs": [
    {
     "data": {
      "text/html": [
       "<div class='gpresult'><h2>Messages</h2><div id='messages' data-messages='[\"Start Time: Monday, May 26, 2025 9:00:10 PM\",\"WARNING 000012: DensityCompatible already exists\",\"Succeeded at Monday, May 26, 2025 9:00:10 PM (Elapsed Time: 0.06 seconds)\"]' data-show='true'><div id = 'default' /></div></div>"
      ],
      "text/plain": [
       "<Result 'C:\\\\\\\\Users\\\\\\\\Thepr\\\\\\\\Documents\\\\\\\\Consulting\\\\\\\\Soft Parcel Analysis\\\\\\\\Soft Parcel Analysis.gdb\\\\ZoningDistricts'>"
      ]
     },
     "execution_count": 10,
     "metadata": {},
     "output_type": "execute_result"
    }
   ],
   "source": [
    "arcpy.management.AddField(\"ZoningDistricts\",\"DensityCompatible\",\"TEXT\",None,None,1000,\"DensityCompatible\",\"NULLABLE\",\n",
    "                          \"NON_REQUIRED\",\"\")"
   ]
  },
  {
   "cell_type": "code",
   "execution_count": 11,
   "id": "c3b98485",
   "metadata": {},
   "outputs": [],
   "source": [
    "with arcpy.da.UpdateCursor('ZoningDistricts', ['ZONINGDETA', \"DensityCompatible\"]) as cursor:\n",
    "    for row in cursor:\n",
    "        zoning = row[0]\n",
    "        if zoning in compatiblezones:\n",
    "            row[1] = \"Yes\"\n",
    "        else:\n",
    "            row[1] = \"No\"\n",
    "        cursor.updateRow(row)"
   ]
  },
  {
   "cell_type": "markdown",
   "id": "d72d7907",
   "metadata": {},
   "source": [
    "- **Join Zoning to Landuse** "
   ]
  },
  {
   "cell_type": "code",
   "execution_count": 12,
   "id": "51454062",
   "metadata": {},
   "outputs": [],
   "source": [
    "fieldmapping = arcpy.FieldMappings()\n",
    "fieldmapping.addTable('ArlingtonParcelLandUse')\n",
    "fieldmapping.addTable('ZoningDistricts')\n",
    "\n",
    "analysisfields = ['TAXPIN', 'ACRES', 'CALCULATED_ACREAGE',  'RP', 'Situs_Addr','LegalDescr',  'County', 'City', \n",
    "                  'Land_Value', 'Improvemen', 'Total_Valu', 'Year_Built', 'Land_Acres','Land_SqFt', \n",
    "                  'Appraised_', 'TaxParcelI','LandCode','LandCode_1','LandCode_2','LandCodeDe',\n",
    "                  'ChangeFlag','ZONINGDETA','DISTRICT','ZONINGDESC','Zoning','DensityCompatible']\n",
    "\n",
    "for field in fieldmapping.fields:\n",
    "    if field.name not in analysisfields:\n",
    "        fieldmapping.removeFieldMap(fieldmapping.findFieldMapIndex(field.name))\n",
    "        \n",
    "if arcpy.Exists('ArlingtonParcelLanduseZoning'):\n",
    "    arcpy.Delete_management('ArlingtonParcelLanduseZoning')\n",
    "        \n",
    "Parcels_Zoning = arcpy.analysis.SpatialJoin(\"ArlingtonParcelLandUse\",\"ZoningDistricts\",\"ArlingtonParcelLanduseZoning\",\n",
    "                                        \"JOIN_ONE_TO_ONE\",\"KEEP_ALL\",fieldmapping,\"LARGEST_OVERLAP\",None,\"\",None)\n"
   ]
  },
  {
   "cell_type": "markdown",
   "id": "18c25385",
   "metadata": {},
   "source": [
    "# Parcels"
   ]
  },
  {
   "cell_type": "markdown",
   "id": "649ab23b",
   "metadata": {},
   "source": [
    "- Land use"
   ]
  },
  {
   "cell_type": "code",
   "execution_count": 13,
   "id": "c1ceb65e",
   "metadata": {},
   "outputs": [
    {
     "name": "stdout",
     "output_type": "stream",
     "text": [
      "['OBJECTID', 'Shape', 'Join_Count', 'TARGET_FID', 'TaxParcelI', 'LandCode', 'LandCodeDe', 'LandCode_1', 'LandCode_2', 'ChangeFlag', 'ZONINGDETA', 'DISTRICT', 'ZONINGDESC', 'Zoning', 'DensityCompatible', 'Shape_Length', 'Shape_Area']\n"
     ]
    }
   ],
   "source": [
    "LUfields = []\n",
    "for row in arcpy.ListFields('ArlingtonParcelLanduseZoning'):\n",
    "    LUfields.append(row.name)\n",
    "print(LUfields)"
   ]
  },
  {
   "cell_type": "code",
   "execution_count": 14,
   "id": "d880370d",
   "metadata": {},
   "outputs": [
    {
     "name": "stdout",
     "output_type": "stream",
     "text": [
      "['OBJECTID_1', 'Shape', 'TAXPIN', 'ACRES', 'PARCELTYPE', 'CALCULATED', 'created_da', 'last_edi_1', 'Shape_STAr', 'Shape_STLe', 'OBJECTID', 'RP', 'Appraisal_Year', 'Account_Number', 'Record_Type', 'Sequence_No', 'PIDN', 'Owner_Name', 'Owner_Address', 'Owner_CityState', 'Owner_Zip', 'Owner_Zip4', 'Owner_CRRT', 'Situs_Address', 'Property_Class', 'TAD_Map', 'MAPSCO', 'Exemption_Code', 'State_Use_Code', 'LegalDescription', 'Notice_Date', 'County', 'City', 'School', 'Num_Special_Dist', 'Spec1', 'Spec2', 'Spec3', 'Spec4', 'Spec5', 'Deed_Date', 'Deed_Book', 'Deed_Page', 'Land_Value', 'Improvement_Value', 'Total_Value', 'Garage_Capacity', 'Num_Bedrooms', 'Num_Bathrooms', 'Year_Built', 'Living_Area', 'Swimming_Pool_Ind', 'ARB_Indicator', 'Ag_Code', 'Land_Acres', 'Land_SqFt', 'Ag_Acres', 'Ag_Value', 'Central_Heat_Ind', 'Central_Air_Ind', 'Structure_Count', 'From_Accts', 'Appraisal_Date', 'Appraised_Value', 'GIS_Link', 'Instrument_No', 'Overlap_Flag', 'Shape_Length_1', 'Shape_Area_1', 'Shape_Length', 'Shape_Area']\n"
     ]
    }
   ],
   "source": [
    "parcelfields = []\n",
    "for row in arcpy.ListFields('TADParcels2024'):\n",
    "    parcelfields.append(row.name)\n",
    "print(parcelfields)"
   ]
  },
  {
   "cell_type": "markdown",
   "id": "2beef9ae",
   "metadata": {},
   "source": [
    "- Convert Parcel to Points\n",
    "- Spatially Join Parcels to Arlington Parcels Landuse"
   ]
  },
  {
   "cell_type": "code",
   "execution_count": 15,
   "id": "57015ca7",
   "metadata": {},
   "outputs": [
    {
     "data": {
      "text/html": [
       "<div class='gpresult'><h2>Messages</h2><div id='messages' data-messages='[\"Start Time: Monday, May 26, 2025 9:00:18 PM\",\"Succeeded at Monday, May 26, 2025 9:00:21 PM (Elapsed Time: 3.26 seconds)\"]' data-show='true'><div id = 'default' /></div></div>"
      ],
      "text/plain": [
       "<Result 'C:\\\\\\\\Users\\\\\\\\Thepr\\\\\\\\Documents\\\\\\\\Consulting\\\\\\\\Soft Parcel Analysis\\\\\\\\Soft Parcel Analysis.gdb\\\\TADParcelsLandUsePoints2023'>"
      ]
     },
     "execution_count": 15,
     "metadata": {},
     "output_type": "execute_result"
    }
   ],
   "source": [
    "if arcpy.Exists('TADParcelsLandUsePoints2023'):\n",
    "    arcpy.Delete_management('TADParcelsLandUsePoints2023')\n",
    "\n",
    "arcpy.management.FeatureToPoint(\"TADParcels2023\",\"TADParcelsLandUsePoints2023\",\"CENTROID\")"
   ]
  },
  {
   "cell_type": "code",
   "execution_count": 16,
   "id": "f4df73da",
   "metadata": {},
   "outputs": [
    {
     "data": {
      "text/html": [
       "<div class='gpresult'><h2>Messages</h2><div id='messages' data-messages='[\"Start Time: Monday, May 26, 2025 9:00:21 PM\",\"Succeeded at Monday, May 26, 2025 9:00:25 PM (Elapsed Time: 4.01 seconds)\"]' data-show='true'><div id = 'default' /></div></div>"
      ],
      "text/plain": [
       "<Result 'C:\\\\\\\\Users\\\\\\\\Thepr\\\\\\\\Documents\\\\\\\\Consulting\\\\\\\\Soft Parcel Analysis\\\\\\\\Soft Parcel Analysis.gdb\\\\TADParcelsLandUsePoints2024'>"
      ]
     },
     "execution_count": 16,
     "metadata": {},
     "output_type": "execute_result"
    }
   ],
   "source": [
    "if arcpy.Exists('TADParcelsLandUsePoints2024'):\n",
    "    arcpy.Delete_management('TADParcelsLandUsePoints2024')\n",
    "    \n",
    "arcpy.management.FeatureToPoint(\"TADParcels2024\",\"TADParcelsLandUsePoints2024\",\"CENTROID\")"
   ]
  },
  {
   "cell_type": "markdown",
   "id": "2397724d",
   "metadata": {},
   "source": [
    "##  **2023**\n",
    "\n",
    "- Spatial Join for all 2023 Parcels\n",
    "- Select only fields needed for the analysis"
   ]
  },
  {
   "cell_type": "code",
   "execution_count": 17,
   "id": "0ede1930",
   "metadata": {},
   "outputs": [],
   "source": [
    "fieldmapping = arcpy.FieldMappings()\n",
    "fieldmapping.addTable('ArlingtonParcelLanduseZoning')\n",
    "fieldmapping.addTable('TADParcelsLandUsePoints2023')\n",
    "\n",
    "analysisfields = ['TAXPIN', 'ACRES', 'CALCULATED_ACREAGE',  'RP', 'Situs_Addr','LegalDescr',  'County', 'City', \n",
    "                  'Land_Value', 'Improvemen', 'Total_Valu', 'Year_Built', 'Land_Acres','Land_SqFt', \n",
    "                  'Appraised_', 'TaxParcelI','LandCode','LandCode_1','LandCode_2','LandCodeDe',\n",
    "                  'ChangeFlag','ZONINGDETA','DISTRICT','ZONINGDESC','Zoning','DensityCompatible']\n",
    "\n",
    "for field in fieldmapping.fields:\n",
    "    if field.name not in analysisfields:\n",
    "        fieldmapping.removeFieldMap(fieldmapping.findFieldMapIndex(field.name))\n",
    "        \n",
    "if arcpy.Exists('TADParcel2023LandUse'):\n",
    "    arcpy.Delete_management('TADParcel2023LandUse')\n",
    "        \n",
    "Parcels_LU = arcpy.analysis.SpatialJoin(\"ArlingtonParcelLanduseZoning\",\"TADParcelsLandUsePoints2023\",\"TADParcel2023LandUse\",\n",
    "                                        \"JOIN_ONE_TO_ONE\",\"KEEP_ALL\",fieldmapping,\"CONTAINS\",None,\"\",None)\n",
    "\n"
   ]
  },
  {
   "cell_type": "markdown",
   "id": "fcdfe6ad",
   "metadata": {},
   "source": [
    "## Field Calculations\n",
    "\n",
    "### 2023\n",
    "\n",
    "- Add fields \n",
    "- Convert Improvement and Total value to Double\n",
    "- Compute improvement to land ratio\n",
    "- Calculate Geometry"
   ]
  },
  {
   "cell_type": "markdown",
   "id": "e7b90a6f",
   "metadata": {},
   "source": [
    "- **Year Built**"
   ]
  },
  {
   "cell_type": "code",
   "execution_count": 18,
   "id": "c20ebc97",
   "metadata": {},
   "outputs": [
    {
     "data": {
      "text/html": [
       "<div class='gpresult'><h2>Messages</h2><div id='messages' data-messages='[\"Start Time: Monday, May 26, 2025 9:00:33 PM\",\"Adding Year to TADParcel2023LandUse...\",\"Succeeded at Monday, May 26, 2025 9:00:33 PM (Elapsed Time: 0.28 seconds)\"]' data-show='true'><div id = 'default' /></div></div>"
      ],
      "text/plain": [
       "<Result 'C:\\\\\\\\Users\\\\\\\\Thepr\\\\\\\\Documents\\\\\\\\Consulting\\\\\\\\Soft Parcel Analysis\\\\\\\\Soft Parcel Analysis.gdb\\\\TADParcel2023LandUse'>"
      ]
     },
     "execution_count": 18,
     "metadata": {},
     "output_type": "execute_result"
    }
   ],
   "source": [
    "arcpy.management.AddField(\"TADParcel2023LandUse\",\"Year\",\"DOUBLE\",None,None,None,\"Year\",\"NULLABLE\",\n",
    "                          \"NON_REQUIRED\",\"\")"
   ]
  },
  {
   "cell_type": "code",
   "execution_count": 19,
   "id": "745ad0f6",
   "metadata": {},
   "outputs": [
    {
     "data": {
      "text/html": [
       "<div class='gpresult'><h2>Messages</h2><div id='messages' data-messages='[\"Start Time: Monday, May 26, 2025 9:00:33 PM\",\"Succeeded at Monday, May 26, 2025 9:00:37 PM (Elapsed Time: 3.77 seconds)\"]' data-show='true'><div id = 'default' /></div></div>"
      ],
      "text/plain": [
       "<Result 'C:\\\\\\\\Users\\\\\\\\Thepr\\\\\\\\Documents\\\\\\\\Consulting\\\\\\\\Soft Parcel Analysis\\\\\\\\Soft Parcel Analysis.gdb\\\\TADParcel2023LandUse'>"
      ]
     },
     "execution_count": 19,
     "metadata": {},
     "output_type": "execute_result"
    }
   ],
   "source": [
    "arcpy.management.CalculateField(\n",
    "    \"TADParcel2023LandUse\",\n",
    "    \"Year\",\n",
    "    \"cal(!Year_Built!)\",\n",
    "    expression_type=\"PYTHON3\",\n",
    "    code_block=\"\"\"\n",
    "def cal(val):\n",
    "    try:\n",
    "        return int(val.strip())\n",
    "    except:\n",
    "        return None\n",
    "\"\"\"\n",
    ")\n"
   ]
  },
  {
   "cell_type": "markdown",
   "id": "7af6a50e",
   "metadata": {},
   "source": [
    "- **Improvement Value**"
   ]
  },
  {
   "cell_type": "code",
   "execution_count": 20,
   "id": "70b04ddc",
   "metadata": {},
   "outputs": [
    {
     "data": {
      "text/html": [
       "<div class='gpresult'><h2>Messages</h2><div id='messages' data-messages='[\"Start Time: Monday, May 26, 2025 9:00:37 PM\",\"Adding IMPvalue to TADParcel2023LandUse...\",\"Succeeded at Monday, May 26, 2025 9:00:39 PM (Elapsed Time: 1.72 seconds)\"]' data-show='true'><div id = 'default' /></div></div>"
      ],
      "text/plain": [
       "<Result 'C:\\\\\\\\Users\\\\\\\\Thepr\\\\\\\\Documents\\\\\\\\Consulting\\\\\\\\Soft Parcel Analysis\\\\\\\\Soft Parcel Analysis.gdb\\\\TADParcel2023LandUse'>"
      ]
     },
     "execution_count": 20,
     "metadata": {},
     "output_type": "execute_result"
    }
   ],
   "source": [
    "arcpy.management.AddField(\"TADParcel2023LandUse\",\"IMPvalue\",\"DOUBLE\",None,None,None,\"IMPvalue\",\"NULLABLE\",\n",
    "                          \"NON_REQUIRED\",\"\")"
   ]
  },
  {
   "cell_type": "code",
   "execution_count": 21,
   "id": "7b5fc1f5",
   "metadata": {},
   "outputs": [
    {
     "data": {
      "text/html": [
       "<div class='gpresult'><h2>Messages</h2><div id='messages' data-messages='[\"Start Time: Monday, May 26, 2025 9:00:39 PM\",\"Succeeded at Monday, May 26, 2025 9:00:43 PM (Elapsed Time: 3.46 seconds)\"]' data-show='true'><div id = 'default' /></div></div>"
      ],
      "text/plain": [
       "<Result 'C:\\\\\\\\Users\\\\\\\\Thepr\\\\\\\\Documents\\\\\\\\Consulting\\\\\\\\Soft Parcel Analysis\\\\\\\\Soft Parcel Analysis.gdb\\\\TADParcel2023LandUse'>"
      ]
     },
     "execution_count": 21,
     "metadata": {},
     "output_type": "execute_result"
    }
   ],
   "source": [
    "arcpy.management.CalculateField(\"TADParcel2023LandUse\",\"IMPvalue\",\"!Improvemen!\",\"PYTHON3\",\"\",\"TEXT\",\"NO_ENFORCE_DOMAINS\")"
   ]
  },
  {
   "cell_type": "markdown",
   "id": "ccf2794a",
   "metadata": {},
   "source": [
    "- **Land Value**"
   ]
  },
  {
   "cell_type": "code",
   "execution_count": 22,
   "id": "daf555b2",
   "metadata": {},
   "outputs": [
    {
     "data": {
      "text/html": [
       "<div class='gpresult'><h2>Messages</h2><div id='messages' data-messages='[\"Start Time: Monday, May 26, 2025 9:00:43 PM\",\"Adding LandValue to TADParcel2023LandUse...\",\"Succeeded at Monday, May 26, 2025 9:00:43 PM (Elapsed Time: 0.31 seconds)\"]' data-show='true'><div id = 'default' /></div></div>"
      ],
      "text/plain": [
       "<Result 'C:\\\\\\\\Users\\\\\\\\Thepr\\\\\\\\Documents\\\\\\\\Consulting\\\\\\\\Soft Parcel Analysis\\\\\\\\Soft Parcel Analysis.gdb\\\\TADParcel2023LandUse'>"
      ]
     },
     "execution_count": 22,
     "metadata": {},
     "output_type": "execute_result"
    }
   ],
   "source": [
    "arcpy.management.AddField(\"TADParcel2023LandUse\",\"LandValue\",\"DOUBLE\",None,None,None,\"LandValue\",\"NULLABLE\",\n",
    "                          \"NON_REQUIRED\",\"\")"
   ]
  },
  {
   "cell_type": "code",
   "execution_count": 23,
   "id": "53f20e87",
   "metadata": {},
   "outputs": [
    {
     "data": {
      "text/html": [
       "<div class='gpresult'><h2>Messages</h2><div id='messages' data-messages='[\"Start Time: Monday, May 26, 2025 9:00:43 PM\",\"Succeeded at Monday, May 26, 2025 9:00:47 PM (Elapsed Time: 3.60 seconds)\"]' data-show='true'><div id = 'default' /></div></div>"
      ],
      "text/plain": [
       "<Result 'C:\\\\\\\\Users\\\\\\\\Thepr\\\\\\\\Documents\\\\\\\\Consulting\\\\\\\\Soft Parcel Analysis\\\\\\\\Soft Parcel Analysis.gdb\\\\TADParcel2023LandUse'>"
      ]
     },
     "execution_count": 23,
     "metadata": {},
     "output_type": "execute_result"
    }
   ],
   "source": [
    "arcpy.management.CalculateField(\"TADParcel2023LandUse\",\"LandValue\",\"!Land_Value!\",\"PYTHON3\",\"\",\"TEXT\",\"NO_ENFORCE_DOMAINS\")"
   ]
  },
  {
   "cell_type": "markdown",
   "id": "340d528c",
   "metadata": {},
   "source": [
    "- **Improvement Ratio**"
   ]
  },
  {
   "cell_type": "code",
   "execution_count": 24,
   "id": "3f3edc32",
   "metadata": {},
   "outputs": [
    {
     "data": {
      "text/html": [
       "<div class='gpresult'><h2>Messages</h2><div id='messages' data-messages='[\"Start Time: Monday, May 26, 2025 9:00:47 PM\",\"Adding ILR to TADParcel2023LandUse...\",\"Succeeded at Monday, May 26, 2025 9:00:47 PM (Elapsed Time: 0.26 seconds)\"]' data-show='true'><div id = 'default' /></div></div>"
      ],
      "text/plain": [
       "<Result 'C:\\\\\\\\Users\\\\\\\\Thepr\\\\\\\\Documents\\\\\\\\Consulting\\\\\\\\Soft Parcel Analysis\\\\\\\\Soft Parcel Analysis.gdb\\\\TADParcel2023LandUse'>"
      ]
     },
     "execution_count": 24,
     "metadata": {},
     "output_type": "execute_result"
    }
   ],
   "source": [
    "arcpy.management.AddField(\"TADParcel2023LandUse\",\"ILR\",\"DOUBLE\",None,None,None,\"ILR\",\"NULLABLE\",\n",
    "                          \"NON_REQUIRED\",\"\")\n"
   ]
  },
  {
   "cell_type": "code",
   "execution_count": 25,
   "id": "f3510c96",
   "metadata": {},
   "outputs": [
    {
     "data": {
      "text/html": [
       "<div class='gpresult'><h2>Messages</h2><div id='messages' data-messages='[\"Start Time: Monday, May 26, 2025 9:00:47 PM\",\"Succeeded at Monday, May 26, 2025 9:00:52 PM (Elapsed Time: 4.27 seconds)\"]' data-show='true'><div id = 'default' /></div></div>"
      ],
      "text/plain": [
       "<Result 'C:\\\\\\\\Users\\\\\\\\Thepr\\\\\\\\Documents\\\\\\\\Consulting\\\\\\\\Soft Parcel Analysis\\\\\\\\Soft Parcel Analysis.gdb\\\\TADParcel2023LandUse'>"
      ]
     },
     "execution_count": 25,
     "metadata": {},
     "output_type": "execute_result"
    }
   ],
   "source": [
    "arcpy.management.CalculateField(\"TADParcel2023LandUse\",\"ILR\",\"calc(!IMPvalue!, !LandValue!)\",\"PYTHON3\",\n",
    "    \"\"\"\n",
    "def calc(imp, land):\n",
    "    try:\n",
    "        if imp is None or land is None or land == 0:\n",
    "            return None\n",
    "        return round(imp / land, 2)\n",
    "    except:\n",
    "        return None\n",
    "\"\"\",\n",
    "    \"DOUBLE\",\n",
    "    \"NO_ENFORCE_DOMAINS\"\n",
    ")"
   ]
  },
  {
   "cell_type": "markdown",
   "id": "c51e52a8",
   "metadata": {},
   "source": [
    "- **Acreage**"
   ]
  },
  {
   "cell_type": "code",
   "execution_count": 26,
   "id": "2f2b4b1e",
   "metadata": {},
   "outputs": [
    {
     "data": {
      "text/html": [
       "<div class='gpresult'><h2>Messages</h2><div id='messages' data-messages='[\"Start Time: Monday, May 26, 2025 9:00:52 PM\",\"Adding Acreage to TADParcel2023LandUse...\",\"Succeeded at Monday, May 26, 2025 9:00:52 PM (Elapsed Time: 0.28 seconds)\"]' data-show='true'><div id = 'default' /></div></div>"
      ],
      "text/plain": [
       "<Result 'C:\\\\\\\\Users\\\\\\\\Thepr\\\\\\\\Documents\\\\\\\\Consulting\\\\\\\\Soft Parcel Analysis\\\\\\\\Soft Parcel Analysis.gdb\\\\TADParcel2023LandUse'>"
      ]
     },
     "execution_count": 26,
     "metadata": {},
     "output_type": "execute_result"
    }
   ],
   "source": [
    "arcpy.management.AddField(\"TADParcel2023LandUse\",\"Acreage\",\"DOUBLE\",None,None,None,\"Acreage\",\"NULLABLE\",\n",
    "                          \"NON_REQUIRED\",\"\")"
   ]
  },
  {
   "cell_type": "code",
   "execution_count": 27,
   "id": "73fcd114",
   "metadata": {},
   "outputs": [
    {
     "data": {
      "text/html": [
       "<div class='gpresult'><h2>Messages</h2><div id='messages' data-messages='[\"Start Time: Monday, May 26, 2025 9:00:52 PM\",\"Succeeded at Monday, May 26, 2025 9:01:01 PM (Elapsed Time: 8.33 seconds)\"]' data-show='true'><div id = 'default' /></div></div>"
      ],
      "text/plain": [
       "<Result 'C:\\\\\\\\Users\\\\\\\\Thepr\\\\\\\\Documents\\\\\\\\Consulting\\\\\\\\Soft Parcel Analysis\\\\\\\\Soft Parcel Analysis.gdb\\\\TADParcel2023LandUse'>"
      ]
     },
     "execution_count": 27,
     "metadata": {},
     "output_type": "execute_result"
    }
   ],
   "source": [
    "arcpy.management.CalculateGeometryAttributes(\"TADParcel2023LandUse\",\"Acreage AREA\",\"\",\"ACRES\",\n",
    "                                             arcpy.SpatialReference(102738),\"SAME_AS_INPUT\")"
   ]
  },
  {
   "cell_type": "markdown",
   "id": "b4a6b46f",
   "metadata": {},
   "source": [
    "# Selection Criteria 2023\n",
    "\n",
    "- ILR is less than or equal to 0.5\n",
    "- Landuse is Vacant or Parking \n",
    "- Zoning Designation is not Conservation District Overlay or Planned Development \n",
    "- Year Built is 0 or Year Built is on or Before 2005"
   ]
  },
  {
   "cell_type": "code",
   "execution_count": 28,
   "id": "4b3da14c",
   "metadata": {},
   "outputs": [],
   "source": [
    "Softparcels2023 = arcpy.management.SelectLayerByAttribute(\n",
    "    \"TADParcel2023LandUse\",\n",
    "    \"NEW_SELECTION\",\n",
    "    (\n",
    "        \"ILR <= 0.5 AND \"\n",
    "        \"LandCode_2 IN (\"\n",
    "            \"'Vacant - Under Development (14)', \"\n",
    "            \"'Vacant-Developable (2)', \"\n",
    "            \"'Parking (13)'\"\n",
    "        \") AND \"\n",
    "        \"Zoning NOT IN (\"\n",
    "            \"'Conservation District Overlay - Residential Single-Family 7.2', \"\n",
    "            \"'Planned Development', \"\n",
    "            \"'Planned Development - Airport Overlay - General Commercial', \"\n",
    "            \"'Planned Development - Civic Area', \"\n",
    "            \"'Planned Development - Community Commercial', \"\n",
    "            \"'Planned Development - Entertainment District Overlay - Community Commercial', \"\n",
    "            \"'Planned Development - Entertainment District Overlay - Regional Mixed-Use', \"\n",
    "            \"'Planned Development - General Commercial', \"\n",
    "            \"'Planned Development - Industrial Manufacturing', \"\n",
    "            \"'Planned Development - Light Industrial', \"\n",
    "            \"'Planned Development - Office Commercial', \"\n",
    "            \"'Planned Development - Residential Medium Density', \"\n",
    "            \"'Planned Development - Residential Medium Density - Community Commercial', \"\n",
    "            \"'Planned Development - Residential Medium Density - Neighborhood Commercial', \"\n",
    "            \"'Planned Development - Residential Medium Density - Residential Multi-Family 22', \"\n",
    "            \"'Planned Development - Residential Multi-Family 22', \"\n",
    "            \"'Planned Development - Residential Multi-Family 22 - Community Commercial', \"\n",
    "            \"'Planned Development - Residential Multi-Family 22 - General Commercial', \"\n",
    "            \"'Planned Development - Residential Single-Family 15', \"\n",
    "            \"'Planned Development - Residential Single-Family 5', \"\n",
    "            \"'Planned Development - Residential Single-Family 5 - Community Commercial', \"\n",
    "            \"'Planned Development - Residential Single-Family 7.2', \"\n",
    "            \"'Planned Development - Residential Single-Family 7.2 - Residential Medium Density - Community Commercial', \"\n",
    "            \"'Planned Development (PD07-5R4-DP14)', \"\n",
    "            \"'Planned Development (PD07-5R4-DP16)'\"\n",
    "        \") AND \"\n",
    "        \"(Year <= 2005) AND \"\n",
    "        \"DensityCompatible = 'Yes'\"\n",
    "    ),\n",
    "    None\n",
    ")\n"
   ]
  },
  {
   "cell_type": "code",
   "execution_count": 29,
   "id": "2781f72d",
   "metadata": {},
   "outputs": [],
   "source": [
    "# Softparcels2023 = arcpy.management.SelectLayerByAttribute(\n",
    "#     \"TADParcel2023LandUse\",\n",
    "#     \"NEW_SELECTION\",\n",
    "#     (\n",
    "#         \"ILR <= 0.5 AND \"\n",
    "#         \"LandCode_2 IN (\"\n",
    "#             \"'Vacant - Under Development (14)', \"\n",
    "#             \"'Vacant-Developable (2)', \"\n",
    "#             \"'Parking (13)'\"\n",
    "#         \") AND \"\n",
    "#         \"Zoning NOT IN (\"\n",
    "#             \"'Conservation District Overlay - Residential Single-Family 7.2'\"\n",
    "#         \") AND \"\n",
    "#         \"(Year <= 2005) AND \"\n",
    "#         \"DensityCompatible = 'Yes'\"\n",
    "#     ),\n",
    "#     None\n",
    "# )\n"
   ]
  },
  {
   "cell_type": "code",
   "execution_count": 30,
   "id": "2fa1877d",
   "metadata": {},
   "outputs": [
    {
     "name": "stdout",
     "output_type": "stream",
     "text": [
      "525\n"
     ]
    }
   ],
   "source": [
    "softparcels = int(arcpy.management.GetCount(Softparcels2023)[0])\n",
    "print(softparcels)"
   ]
  },
  {
   "cell_type": "code",
   "execution_count": 31,
   "id": "d2e9e98c",
   "metadata": {},
   "outputs": [],
   "source": [
    "# fieldmapping = arcpy.FieldMappings()\n",
    "# fieldmapping.addTable(Softparcels2023)\n",
    "\n",
    "# if arcpy.Exists('TADSoftParcels2023'):\n",
    "#     arcpy.Delete_management('TADSoftParcels2023')\n",
    "\n",
    "\n",
    "# arcpy.conversion.ExportFeatures(Softparcels2023,\"TADSoftParcels2023\",\"\",\"NOT_USE_ALIAS\",fieldmapping,None)\n",
    "        "
   ]
  },
  {
   "cell_type": "code",
   "execution_count": 32,
   "id": "33d17eab",
   "metadata": {},
   "outputs": [
    {
     "data": {
      "text/html": [
       "<div class='gpresult'><h2>Messages</h2><div id='messages' data-messages='[\"Start Time: Monday, May 26, 2025 9:01:02 PM\",\"Succeeded at Monday, May 26, 2025 9:01:03 PM (Elapsed Time: 0.69 seconds)\"]' data-show='true'><div id = 'default' /></div></div>"
      ],
      "text/plain": [
       "<Result 'C:\\\\\\\\Users\\\\\\\\Thepr\\\\\\\\Documents\\\\\\\\Consulting\\\\\\\\Soft Parcel Analysis\\\\\\\\Soft Parcel Analysis.gdb\\\\TADSoftParcels2023'>"
      ]
     },
     "execution_count": 32,
     "metadata": {},
     "output_type": "execute_result"
    }
   ],
   "source": [
    "fieldmapping = arcpy.FieldMappings()\n",
    "fieldmapping.addTable(Softparcels2023)\n",
    "\n",
    "analysisfields = ['TAXPIN', 'RP', 'Land_Value', 'Improvemen', 'Total_Valu', 'Year',\n",
    "                  'LandCode_2','LandCodeDe','ZONINGDETA','Acreage','IMPvalue','LandValue','ILR',\n",
    "                  'DISTRICT','ZONINGDESC','Zoning','DensityCompatible']\n",
    "\n",
    "for field in fieldmapping.fields:\n",
    "    if field.name not in analysisfields:\n",
    "        fieldmapping.removeFieldMap(fieldmapping.findFieldMapIndex(field.name))\n",
    "        \n",
    "\n",
    "if arcpy.Exists('TADSoftParcels2023'):\n",
    "    arcpy.Delete_management('TADSoftParcels2023')\n",
    "\n",
    "arcpy.conversion.ExportFeatures(Softparcels2023,\"TADSoftParcels2023\",\"\",\"NOT_USE_ALIAS\",fieldmapping,None)\n",
    "        "
   ]
  },
  {
   "cell_type": "code",
   "execution_count": 33,
   "id": "52c95bbd",
   "metadata": {},
   "outputs": [
    {
     "name": "stdout",
     "output_type": "stream",
     "text": [
      "525\n"
     ]
    }
   ],
   "source": [
    "recordscount = int(arcpy.management.GetCount(\"TADSoftParcels2023\")[0])\n",
    "print(recordscount)"
   ]
  },
  {
   "cell_type": "markdown",
   "id": "5cabcec1",
   "metadata": {},
   "source": [
    "# Clusters 2023\n",
    "\n",
    "\n",
    "\n",
    "- Create Clusters\n",
    "- Calculate acreage\n",
    "- Filter for clusters less than 50 acres"
   ]
  },
  {
   "cell_type": "code",
   "execution_count": 34,
   "id": "0f0a14d1",
   "metadata": {},
   "outputs": [
    {
     "data": {
      "text/html": [
       "<div class='gpresult'><h2>Messages</h2><div id='messages' data-messages='[\"Start Time: Monday, May 26, 2025 9:01:04 PM\",\"Finding polygon clusters...\",\"Constructing polygons (non_orthogonal)...\",\"Succeeded at Monday, May 26, 2025 9:01:05 PM (Elapsed Time: 1.36 seconds)\"]' data-show='true'><div id = 'default' /></div></div>"
      ],
      "text/plain": [
       "<Result 'C:\\\\\\\\Users\\\\\\\\Thepr\\\\\\\\Documents\\\\\\\\Consulting\\\\\\\\Soft Parcel Analysis\\\\\\\\Soft Parcel Analysis.gdb\\\\TADSoftParcelsClusters2023'>"
      ]
     },
     "execution_count": 34,
     "metadata": {},
     "output_type": "execute_result"
    }
   ],
   "source": [
    "if arcpy.Exists('TADSoftParcelsClusters2023'):\n",
    "    arcpy.Delete_management('TADSoftParcelsClusters2023')\n",
    "    \n",
    "if arcpy.Exists('TADSoftParcelsClustersTable2023'):\n",
    "    arcpy.Delete_management('TADSoftParcelsClustersTable2023')\n",
    "\n",
    "\n",
    "arcpy.cartography.AggregatePolygons(\"TADSoftParcels2023\",\n",
    "                                    'TADSoftParcelsClusters2023',\n",
    "                                    \"500 Feet\",\n",
    "                                    \"0 SquareFeetUS\",\n",
    "                                    \"0 SquareFeetUS\",\n",
    "                                    \"NON_ORTHOGONAL\",\n",
    "                                    None,\n",
    "                                    'TADSoftParcelsClustersTable2023'\n",
    "                                    ,None)\n"
   ]
  },
  {
   "cell_type": "code",
   "execution_count": 35,
   "id": "3ebd3263",
   "metadata": {},
   "outputs": [
    {
     "name": "stdout",
     "output_type": "stream",
     "text": [
      "200\n"
     ]
    }
   ],
   "source": [
    "recordscount = int(arcpy.management.GetCount(\"TADSoftParcelsClusters2023\")[0])\n",
    "print(recordscount)"
   ]
  },
  {
   "cell_type": "code",
   "execution_count": 36,
   "id": "cc2ecd65",
   "metadata": {},
   "outputs": [
    {
     "data": {
      "text/html": [
       "<div class='gpresult'><h2>Messages</h2><div id='messages' data-messages='[\"Start Time: Monday, May 26, 2025 9:01:05 PM\",\"Adding clusterAcreage to TADSoftParcelsClusters2023...\",\"Succeeded at Monday, May 26, 2025 9:01:06 PM (Elapsed Time: 0.25 seconds)\"]' data-show='true'><div id = 'default' /></div></div>"
      ],
      "text/plain": [
       "<Result 'C:\\\\\\\\Users\\\\\\\\Thepr\\\\\\\\Documents\\\\\\\\Consulting\\\\\\\\Soft Parcel Analysis\\\\\\\\Soft Parcel Analysis.gdb\\\\TADSoftParcelsClusters2023'>"
      ]
     },
     "execution_count": 36,
     "metadata": {},
     "output_type": "execute_result"
    }
   ],
   "source": [
    "arcpy.management.AddField(\"TADSoftParcelsClusters2023\",\"clusterAcreage\",\"DOUBLE\",None,None,None,\"clusterAcreage\",\"NULLABLE\",\n",
    "                          \"NON_REQUIRED\",\"\")"
   ]
  },
  {
   "cell_type": "code",
   "execution_count": 37,
   "id": "6132d213",
   "metadata": {},
   "outputs": [
    {
     "data": {
      "text/html": [
       "<div class='gpresult'><h2>Messages</h2><div id='messages' data-messages='[\"Start Time: Monday, May 26, 2025 9:01:06 PM\",\"Succeeded at Monday, May 26, 2025 9:01:06 PM (Elapsed Time: 0.43 seconds)\"]' data-show='true'><div id = 'default' /></div></div>"
      ],
      "text/plain": [
       "<Result 'C:\\\\\\\\Users\\\\\\\\Thepr\\\\\\\\Documents\\\\\\\\Consulting\\\\\\\\Soft Parcel Analysis\\\\\\\\Soft Parcel Analysis.gdb\\\\TADSoftParcelsClusters2023'>"
      ]
     },
     "execution_count": 37,
     "metadata": {},
     "output_type": "execute_result"
    }
   ],
   "source": [
    "arcpy.management.CalculateGeometryAttributes(\"TADSoftParcelsClusters2023\",\"clusterAcreage AREA\",\"\",\"ACRES\",\n",
    "                                             arcpy.SpatialReference(102738),\"SAME_AS_INPUT\")"
   ]
  },
  {
   "cell_type": "code",
   "execution_count": 38,
   "id": "289d0ce7",
   "metadata": {},
   "outputs": [
    {
     "data": {
      "text/html": [
       "<div class='gpresult'><h2>Messages</h2><div id='messages' data-messages='[\"Start Time: Monday, May 26, 2025 9:01:07 PM\",\"Succeeded at Monday, May 26, 2025 9:01:07 PM (Elapsed Time: 0.64 seconds)\"]' data-show='true'><div id = 'default' /></div></div>"
      ],
      "text/plain": [
       "<Result 'C:\\\\\\\\Users\\\\\\\\Thepr\\\\\\\\Documents\\\\\\\\Consulting\\\\\\\\Soft Parcel Analysis\\\\\\\\Soft Parcel Analysis.gdb\\\\SoftParcels2023Circles'>"
      ]
     },
     "execution_count": 38,
     "metadata": {},
     "output_type": "execute_result"
    }
   ],
   "source": [
    "if arcpy.Exists('SoftParcels2023Circles'):\n",
    "    arcpy.Delete_management('SoftParcels2023Circles')\n",
    "\n",
    "arcpy.management.MinimumBoundingGeometry(\"TADSoftParcelsClusters2023\",\n",
    "                                         \"SoftParcels2023Circles\",\n",
    "                                         \"CIRCLE\",\n",
    "                                         \"NONE\",\n",
    "                                         None,\n",
    "                                         \"NO_MBG_FIELDS\")"
   ]
  },
  {
   "cell_type": "code",
   "execution_count": 39,
   "id": "b9246821",
   "metadata": {},
   "outputs": [
    {
     "name": "stdout",
     "output_type": "stream",
     "text": [
      "200\n"
     ]
    }
   ],
   "source": [
    "recordscount = int(arcpy.management.GetCount(\"SoftParcels2023Circles\")[0])\n",
    "print(recordscount)"
   ]
  },
  {
   "cell_type": "markdown",
   "id": "757b2e59",
   "metadata": {},
   "source": [
    "# Density Based Clustering 2023\n",
    "- Convert SoftParcels to Points\n",
    "- Run DBSCAN On Points \n",
    "- Adjust DBSCAN for 1000 feet"
   ]
  },
  {
   "cell_type": "code",
   "execution_count": 40,
   "id": "7379faff",
   "metadata": {},
   "outputs": [
    {
     "data": {
      "text/html": [
       "<div class='gpresult'><h2>Messages</h2><div id='messages' data-messages='[\"Start Time: Monday, May 26, 2025 9:01:08 PM\",\"Succeeded at Monday, May 26, 2025 9:01:09 PM (Elapsed Time: 0.66 seconds)\"]' data-show='true'><div id = 'default' /></div></div>"
      ],
      "text/plain": [
       "<Result 'C:\\\\\\\\Users\\\\\\\\Thepr\\\\\\\\Documents\\\\\\\\Consulting\\\\\\\\Soft Parcel Analysis\\\\\\\\Soft Parcel Analysis.gdb\\\\TADSoftParcelsPoints2023'>"
      ]
     },
     "execution_count": 40,
     "metadata": {},
     "output_type": "execute_result"
    }
   ],
   "source": [
    "if arcpy.Exists('TADSoftParcelsPoints2023'):\n",
    "    arcpy.Delete_management('TADSoftParcelsPoints2023')\n",
    "\n",
    "arcpy.management.FeatureToPoint(\"TADSoftParcels2023\",\"TADSoftParcelsPoints2023\",\"CENTROID\")"
   ]
  },
  {
   "cell_type": "code",
   "execution_count": 41,
   "id": "736c789b",
   "metadata": {},
   "outputs": [
    {
     "name": "stdout",
     "output_type": "stream",
     "text": [
      "525\n"
     ]
    }
   ],
   "source": [
    "if arcpy.Exists('TADSoftparcelsDensityBasedClusterDistance2023'):\n",
    "    arcpy.Delete_management('TADSoftparcelsDensityBasedClusterDistance2023')\n",
    "\n",
    "arcpy.stats.DensityBasedClustering(\"TADSoftParcelsPoints2023\",\n",
    "                                   \"TADSoftparcelsDensityBasedClusterDistance2023\",\n",
    "                                   \"DBSCAN\",\n",
    "                                   2,\n",
    "                                   \"500 Feet\",\n",
    "                                   None,\n",
    "                                   None,\n",
    "                                   None)\n",
    "\n",
    "recordscount = int(arcpy.management.GetCount(\"TADSoftparcelsDensityBasedClusterDistance2023\")[0])\n",
    "print(recordscount)"
   ]
  },
  {
   "cell_type": "code",
   "execution_count": 42,
   "id": "c2fafdc2",
   "metadata": {},
   "outputs": [
    {
     "name": "stdout",
     "output_type": "stream",
     "text": [
      "360\n"
     ]
    }
   ],
   "source": [
    "clustersDB2023 = arcpy.management.SelectLayerByAttribute(\"TADSoftparcelsDensityBasedClusterDistance2023\",\n",
    "                                        \"NEW_SELECTION\",\n",
    "                                        \"COLOR_ID > 0\",\n",
    "                                        None)\n",
    "\n",
    "recordscount = int(arcpy.management.GetCount(clustersDB2023)[0])\n",
    "print(recordscount)"
   ]
  },
  {
   "cell_type": "code",
   "execution_count": 43,
   "id": "b2e9da3e",
   "metadata": {},
   "outputs": [
    {
     "name": "stdout",
     "output_type": "stream",
     "text": [
      "360\n"
     ]
    }
   ],
   "source": [
    "if arcpy.Exists('SoftParcelsPreferred2023'):\n",
    "    arcpy.Delete_management('SoftParcelsPreferred2023')\n",
    "\n",
    "arcpy.analysis.SpatialJoin(\"TADSoftParcels2023\",clustersDB2023,\"SoftParcelsPreferred2023\",\n",
    "                                        \"JOIN_ONE_TO_ONE\",\"KEEP_COMMON\",'',\"COMPLETELY_CONTAINS\",None,\"\",None)\n",
    "recordscount = int(arcpy.management.GetCount(\"SoftParcelsPreferred2023\")[0])\n",
    "print(recordscount)"
   ]
  },
  {
   "cell_type": "code",
   "execution_count": 44,
   "id": "0dcfd4fb",
   "metadata": {},
   "outputs": [
    {
     "name": "stdout",
     "output_type": "stream",
     "text": [
      "99\n"
     ]
    }
   ],
   "source": [
    "if arcpy.Exists('SoftParcelsBoundary2023'):\n",
    "    arcpy.Delete_management('SoftParcelsBoundary2023')\n",
    "\n",
    "arcpy.management.MinimumBoundingGeometry(\"SoftParcelsPreferred2023\",\"SoftParcelsBoundary2023\",\"CIRCLE\",\"LIST\",\n",
    "                                         \"CLUSTER_ID;COLOR_ID\",\"NO_MBG_FIELDS\")\n",
    "\n",
    "recordscount = int(arcpy.management.GetCount(\"SoftParcelsBoundary2023\")[0])\n",
    "print(recordscount)"
   ]
  },
  {
   "cell_type": "markdown",
   "id": "253411bf",
   "metadata": {},
   "source": [
    "## **2024**\n",
    "\n",
    "- Spatial Join for all 2024 Parcels\n",
    "- Select only fields needed for the analysis"
   ]
  },
  {
   "cell_type": "code",
   "execution_count": 45,
   "id": "795b255b",
   "metadata": {},
   "outputs": [],
   "source": [
    "fieldmapping = arcpy.FieldMappings()\n",
    "fieldmapping.addTable('ArlingtonParcelLanduseZoning')\n",
    "fieldmapping.addTable('TADParcelsLandUsePoints2024')\n",
    "\n",
    "analysisfields = ['TAXPIN', 'ACRES', 'CALCULATED',  'RP', 'Situs_Addr','LegalDescr',  'County', 'City', \n",
    "                  'Land_Value', 'Improvement_Value', 'Total_Value', 'Year_Built', 'Land_Acres','Land_SqFt', \n",
    "                  'Appraised_', 'TaxParcelI','LandCode','LandCode_1','LandCode_2','LandCodeDe',\n",
    "                  'ChangeFlag','ZONINGDETA','DISTRICT','ZONINGDESC','Zoning','DensityCompatible']\n",
    "\n",
    "for field in fieldmapping.fields:\n",
    "    if field.name not in analysisfields:\n",
    "        fieldmapping.removeFieldMap(fieldmapping.findFieldMapIndex(field.name))\n",
    "        \n",
    "if arcpy.Exists('TADParcel2024LandUse'):\n",
    "    arcpy.Delete_management('TADParcel2024LandUse')\n",
    "        \n",
    "Parcels_LU = arcpy.analysis.SpatialJoin(\"ArlingtonParcelLanduseZoning\",\"TADParcelsLandUsePoints2024\",\"TADParcel2024LandUse\",\n",
    "                                        \"JOIN_ONE_TO_ONE\",\"KEEP_ALL\",fieldmapping,\"CONTAINS\",None,\"\",None)\n",
    "\n"
   ]
  },
  {
   "cell_type": "markdown",
   "id": "e513f022",
   "metadata": {},
   "source": [
    "## Field Calculations\n",
    "\n",
    "### 2024\n",
    "\n",
    "- Add fields \n",
    "- Convert Improvement and Total value to Double\n",
    "- Compute improvement to land ratio\n",
    "- Calculate Geometry"
   ]
  },
  {
   "cell_type": "markdown",
   "id": "5385d982",
   "metadata": {},
   "source": [
    "- **Year Built**"
   ]
  },
  {
   "cell_type": "code",
   "execution_count": 46,
   "id": "cf4ebcf3",
   "metadata": {},
   "outputs": [
    {
     "data": {
      "text/html": [
       "<div class='gpresult'><h2>Messages</h2><div id='messages' data-messages='[\"Start Time: Monday, May 26, 2025 9:01:26 PM\",\"Adding Year to TADParcel2024LandUse...\",\"Succeeded at Monday, May 26, 2025 9:01:26 PM (Elapsed Time: 0.25 seconds)\"]' data-show='true'><div id = 'default' /></div></div>"
      ],
      "text/plain": [
       "<Result 'C:\\\\\\\\Users\\\\\\\\Thepr\\\\\\\\Documents\\\\\\\\Consulting\\\\\\\\Soft Parcel Analysis\\\\\\\\Soft Parcel Analysis.gdb\\\\TADParcel2024LandUse'>"
      ]
     },
     "execution_count": 46,
     "metadata": {},
     "output_type": "execute_result"
    }
   ],
   "source": [
    "arcpy.management.AddField(\"TADParcel2024LandUse\",\"Year\",\"DOUBLE\",None,None,None,\"Year\",\"NULLABLE\",\n",
    "                          \"NON_REQUIRED\",\"\")"
   ]
  },
  {
   "cell_type": "code",
   "execution_count": 47,
   "id": "affcd968",
   "metadata": {},
   "outputs": [
    {
     "data": {
      "text/html": [
       "<div class='gpresult'><h2>Messages</h2><div id='messages' data-messages='[\"Start Time: Monday, May 26, 2025 9:01:26 PM\",\"Succeeded at Monday, May 26, 2025 9:01:30 PM (Elapsed Time: 3.72 seconds)\"]' data-show='true'><div id = 'default' /></div></div>"
      ],
      "text/plain": [
       "<Result 'C:\\\\\\\\Users\\\\\\\\Thepr\\\\\\\\Documents\\\\\\\\Consulting\\\\\\\\Soft Parcel Analysis\\\\\\\\Soft Parcel Analysis.gdb\\\\TADParcel2024LandUse'>"
      ]
     },
     "execution_count": 47,
     "metadata": {},
     "output_type": "execute_result"
    }
   ],
   "source": [
    "arcpy.management.CalculateField(\n",
    "    \"TADParcel2024LandUse\",\n",
    "    \"Year\",\n",
    "    \"cal(!Year_Built!)\",\n",
    "    expression_type=\"PYTHON3\",\n",
    "    code_block=\"\"\"\n",
    "def cal(val):\n",
    "    try:\n",
    "        return int(val)\n",
    "    except:\n",
    "        return None\n",
    "\"\"\"\n",
    ")\n",
    "\n"
   ]
  },
  {
   "cell_type": "markdown",
   "id": "e6cfd089",
   "metadata": {},
   "source": [
    "- **Improvement Value**"
   ]
  },
  {
   "cell_type": "code",
   "execution_count": 48,
   "id": "73190161",
   "metadata": {},
   "outputs": [
    {
     "data": {
      "text/html": [
       "<div class='gpresult'><h2>Messages</h2><div id='messages' data-messages='[\"Start Time: Monday, May 26, 2025 9:01:30 PM\",\"Adding IMPvalue to TADParcel2024LandUse...\",\"Succeeded at Monday, May 26, 2025 9:01:30 PM (Elapsed Time: 0.28 seconds)\"]' data-show='true'><div id = 'default' /></div></div>"
      ],
      "text/plain": [
       "<Result 'C:\\\\\\\\Users\\\\\\\\Thepr\\\\\\\\Documents\\\\\\\\Consulting\\\\\\\\Soft Parcel Analysis\\\\\\\\Soft Parcel Analysis.gdb\\\\TADParcel2024LandUse'>"
      ]
     },
     "execution_count": 48,
     "metadata": {},
     "output_type": "execute_result"
    }
   ],
   "source": [
    "arcpy.management.AddField(\"TADParcel2024LandUse\",\"IMPvalue\",\"DOUBLE\",None,None,None,\"IMPvalue\",\"NULLABLE\",\n",
    "                          \"NON_REQUIRED\",\"\")"
   ]
  },
  {
   "cell_type": "code",
   "execution_count": 49,
   "id": "8883f0a9",
   "metadata": {},
   "outputs": [
    {
     "data": {
      "text/html": [
       "<div class='gpresult'><h2>Messages</h2><div id='messages' data-messages='[\"Start Time: Monday, May 26, 2025 9:01:31 PM\",\"Succeeded at Monday, May 26, 2025 9:01:34 PM (Elapsed Time: 3.49 seconds)\"]' data-show='true'><div id = 'default' /></div></div>"
      ],
      "text/plain": [
       "<Result 'C:\\\\\\\\Users\\\\\\\\Thepr\\\\\\\\Documents\\\\\\\\Consulting\\\\\\\\Soft Parcel Analysis\\\\\\\\Soft Parcel Analysis.gdb\\\\TADParcel2024LandUse'>"
      ]
     },
     "execution_count": 49,
     "metadata": {},
     "output_type": "execute_result"
    }
   ],
   "source": [
    "arcpy.management.CalculateField(\"TADParcel2024LandUse\",\"IMPvalue\",\"!Improvement_Value!\",\"PYTHON3\",\"\",\"TEXT\",\n",
    "                                \"NO_ENFORCE_DOMAINS\")"
   ]
  },
  {
   "cell_type": "markdown",
   "id": "a97c0e7c",
   "metadata": {},
   "source": [
    "- **Land Value**"
   ]
  },
  {
   "cell_type": "code",
   "execution_count": 50,
   "id": "87643606",
   "metadata": {},
   "outputs": [
    {
     "data": {
      "text/html": [
       "<div class='gpresult'><h2>Messages</h2><div id='messages' data-messages='[\"Start Time: Monday, May 26, 2025 9:01:34 PM\",\"Adding LandValue to TADParcel2024LandUse...\",\"Succeeded at Monday, May 26, 2025 9:01:34 PM (Elapsed Time: 0.26 seconds)\"]' data-show='true'><div id = 'default' /></div></div>"
      ],
      "text/plain": [
       "<Result 'C:\\\\\\\\Users\\\\\\\\Thepr\\\\\\\\Documents\\\\\\\\Consulting\\\\\\\\Soft Parcel Analysis\\\\\\\\Soft Parcel Analysis.gdb\\\\TADParcel2024LandUse'>"
      ]
     },
     "execution_count": 50,
     "metadata": {},
     "output_type": "execute_result"
    }
   ],
   "source": [
    "arcpy.management.AddField(\"TADParcel2024LandUse\",\"LandValue\",\"DOUBLE\",None,None,None,\"LandValue\",\"NULLABLE\",\n",
    "                          \"NON_REQUIRED\",\"\")"
   ]
  },
  {
   "cell_type": "code",
   "execution_count": 51,
   "id": "72f99d57",
   "metadata": {},
   "outputs": [
    {
     "data": {
      "text/html": [
       "<div class='gpresult'><h2>Messages</h2><div id='messages' data-messages='[\"Start Time: Monday, May 26, 2025 9:01:35 PM\",\"Succeeded at Monday, May 26, 2025 9:01:38 PM (Elapsed Time: 3.58 seconds)\"]' data-show='true'><div id = 'default' /></div></div>"
      ],
      "text/plain": [
       "<Result 'C:\\\\\\\\Users\\\\\\\\Thepr\\\\\\\\Documents\\\\\\\\Consulting\\\\\\\\Soft Parcel Analysis\\\\\\\\Soft Parcel Analysis.gdb\\\\TADParcel2024LandUse'>"
      ]
     },
     "execution_count": 51,
     "metadata": {},
     "output_type": "execute_result"
    }
   ],
   "source": [
    "arcpy.management.CalculateField(\"TADParcel2024LandUse\",\"LandValue\",\"!Land_Value!\",\"PYTHON3\",\"\",\"TEXT\",\n",
    "                                \"NO_ENFORCE_DOMAINS\")"
   ]
  },
  {
   "cell_type": "markdown",
   "id": "d6ef5f8f",
   "metadata": {},
   "source": [
    "- **Improvement Ratio**"
   ]
  },
  {
   "cell_type": "code",
   "execution_count": 52,
   "id": "76aa6ca1",
   "metadata": {},
   "outputs": [
    {
     "data": {
      "text/html": [
       "<div class='gpresult'><h2>Messages</h2><div id='messages' data-messages='[\"Start Time: Monday, May 26, 2025 9:01:38 PM\",\"Adding ILR to TADParcel2024LandUse...\",\"Succeeded at Monday, May 26, 2025 9:01:39 PM (Elapsed Time: 0.27 seconds)\"]' data-show='true'><div id = 'default' /></div></div>"
      ],
      "text/plain": [
       "<Result 'C:\\\\\\\\Users\\\\\\\\Thepr\\\\\\\\Documents\\\\\\\\Consulting\\\\\\\\Soft Parcel Analysis\\\\\\\\Soft Parcel Analysis.gdb\\\\TADParcel2024LandUse'>"
      ]
     },
     "execution_count": 52,
     "metadata": {},
     "output_type": "execute_result"
    }
   ],
   "source": [
    "arcpy.management.AddField(\"TADParcel2024LandUse\",\"ILR\",\"DOUBLE\",None,None,None,\"ILR\",\"NULLABLE\",\n",
    "                          \"NON_REQUIRED\",\"\")\n"
   ]
  },
  {
   "cell_type": "code",
   "execution_count": 53,
   "id": "56a9d7f5",
   "metadata": {},
   "outputs": [
    {
     "data": {
      "text/html": [
       "<div class='gpresult'><h2>Messages</h2><div id='messages' data-messages='[\"Start Time: Monday, May 26, 2025 9:01:39 PM\",\"Succeeded at Monday, May 26, 2025 9:01:43 PM (Elapsed Time: 4.25 seconds)\"]' data-show='true'><div id = 'default' /></div></div>"
      ],
      "text/plain": [
       "<Result 'C:\\\\\\\\Users\\\\\\\\Thepr\\\\\\\\Documents\\\\\\\\Consulting\\\\\\\\Soft Parcel Analysis\\\\\\\\Soft Parcel Analysis.gdb\\\\TADParcel2024LandUse'>"
      ]
     },
     "execution_count": 53,
     "metadata": {},
     "output_type": "execute_result"
    }
   ],
   "source": [
    "arcpy.management.CalculateField(\"TADParcel2024LandUse\",\"ILR\",\"calc(!IMPvalue!, !LandValue!)\",\"PYTHON3\",\n",
    "    \"\"\"\n",
    "def calc(imp, land):\n",
    "    try:\n",
    "        if imp is None or land is None or land == 0:\n",
    "            return None\n",
    "        return round(imp / land, 2)\n",
    "    except:\n",
    "        return None\n",
    "\"\"\",\n",
    "    \"DOUBLE\",\n",
    "    \"NO_ENFORCE_DOMAINS\"\n",
    ")"
   ]
  },
  {
   "cell_type": "markdown",
   "id": "b14d334b",
   "metadata": {},
   "source": [
    "- **Acreage**"
   ]
  },
  {
   "cell_type": "code",
   "execution_count": 54,
   "id": "897bda02",
   "metadata": {},
   "outputs": [
    {
     "data": {
      "text/html": [
       "<div class='gpresult'><h2>Messages</h2><div id='messages' data-messages='[\"Start Time: Monday, May 26, 2025 9:01:43 PM\",\"Adding Acreage to TADParcel2024LandUse...\",\"Succeeded at Monday, May 26, 2025 9:01:45 PM (Elapsed Time: 1.74 seconds)\"]' data-show='true'><div id = 'default' /></div></div>"
      ],
      "text/plain": [
       "<Result 'C:\\\\\\\\Users\\\\\\\\Thepr\\\\\\\\Documents\\\\\\\\Consulting\\\\\\\\Soft Parcel Analysis\\\\\\\\Soft Parcel Analysis.gdb\\\\TADParcel2024LandUse'>"
      ]
     },
     "execution_count": 54,
     "metadata": {},
     "output_type": "execute_result"
    }
   ],
   "source": [
    "arcpy.management.AddField(\"TADParcel2024LandUse\",\"Acreage\",\"DOUBLE\",None,None,None,\"Acreage\",\"NULLABLE\",\n",
    "                          \"NON_REQUIRED\",\"\")"
   ]
  },
  {
   "cell_type": "code",
   "execution_count": 55,
   "id": "00129db7",
   "metadata": {},
   "outputs": [
    {
     "data": {
      "text/html": [
       "<div class='gpresult'><h2>Messages</h2><div id='messages' data-messages='[\"Start Time: Monday, May 26, 2025 9:01:45 PM\",\"Succeeded at Monday, May 26, 2025 9:01:53 PM (Elapsed Time: 8.03 seconds)\"]' data-show='true'><div id = 'default' /></div></div>"
      ],
      "text/plain": [
       "<Result 'C:\\\\\\\\Users\\\\\\\\Thepr\\\\\\\\Documents\\\\\\\\Consulting\\\\\\\\Soft Parcel Analysis\\\\\\\\Soft Parcel Analysis.gdb\\\\TADParcel2024LandUse'>"
      ]
     },
     "execution_count": 55,
     "metadata": {},
     "output_type": "execute_result"
    }
   ],
   "source": [
    "arcpy.management.CalculateGeometryAttributes(\"TADParcel2024LandUse\",\"Acreage AREA\",\"\",\"ACRES\",\n",
    "                                             arcpy.SpatialReference(102738),\"SAME_AS_INPUT\")"
   ]
  },
  {
   "cell_type": "markdown",
   "id": "a2b7f053",
   "metadata": {},
   "source": [
    "# Selection Criteria 2024\n",
    "\n",
    "- ILR is less than or equal to 0.5\n",
    "- Landuse is Vacant or Parking \n",
    "- Zoning Designation is not Conservation District Overlay or Planned Development \n",
    "- Year Built is 0 or Year Built is on or Before 2005"
   ]
  },
  {
   "cell_type": "code",
   "execution_count": 56,
   "id": "bb4f4957",
   "metadata": {},
   "outputs": [],
   "source": [
    "Softparcels2024 = arcpy.management.SelectLayerByAttribute(\n",
    "    \"TADParcel2024LandUse\",\n",
    "    \"NEW_SELECTION\",\n",
    "    (\n",
    "        \"ILR <= 0.5 AND \"\n",
    "        \"LandCode_2 IN (\"\n",
    "            \"'Vacant - Under Development (14)', \"\n",
    "            \"'Vacant-Developable (2)', \"\n",
    "            \"'Parking (13)'\"\n",
    "        \") AND \"\n",
    "        \"Zoning NOT IN (\"\n",
    "            \"'Conservation District Overlay - Residential Single-Family 7.2', \"\n",
    "            \"'Planned Development', \"\n",
    "            \"'Planned Development - Airport Overlay - General Commercial', \"\n",
    "            \"'Planned Development - Civic Area', \"\n",
    "            \"'Planned Development - Community Commercial', \"\n",
    "            \"'Planned Development - Entertainment District Overlay - Community Commercial', \"\n",
    "            \"'Planned Development - Entertainment District Overlay - Regional Mixed-Use', \"\n",
    "            \"'Planned Development - General Commercial', \"\n",
    "            \"'Planned Development - Industrial Manufacturing', \"\n",
    "            \"'Planned Development - Light Industrial', \"\n",
    "            \"'Planned Development - Office Commercial', \"\n",
    "            \"'Planned Development - Residential Medium Density', \"\n",
    "            \"'Planned Development - Residential Medium Density - Community Commercial', \"\n",
    "            \"'Planned Development - Residential Medium Density - Neighborhood Commercial', \"\n",
    "            \"'Planned Development - Residential Medium Density - Residential Multi-Family 22', \"\n",
    "            \"'Planned Development - Residential Multi-Family 22', \"\n",
    "            \"'Planned Development - Residential Multi-Family 22 - Community Commercial', \"\n",
    "            \"'Planned Development - Residential Multi-Family 22 - General Commercial', \"\n",
    "            \"'Planned Development - Residential Single-Family 15', \"\n",
    "            \"'Planned Development - Residential Single-Family 5', \"\n",
    "            \"'Planned Development - Residential Single-Family 5 - Community Commercial', \"\n",
    "            \"'Planned Development - Residential Single-Family 7.2', \"\n",
    "            \"'Planned Development - Residential Single-Family 7.2 - Residential Medium Density - Community Commercial', \"\n",
    "            \"'Planned Development (PD07-5R4-DP14)', \"\n",
    "            \"'Planned Development (PD07-5R4-DP16)'\"\n",
    "        \") AND \"\n",
    "       \"(Year <= 2005) AND \"\n",
    "        \"DensityCompatible = 'Yes'\"\n",
    "    ),\n",
    "    None\n",
    ")"
   ]
  },
  {
   "cell_type": "code",
   "execution_count": 57,
   "id": "b96881f4",
   "metadata": {},
   "outputs": [],
   "source": [
    "# Softparcels2024 = arcpy.management.SelectLayerByAttribute(\n",
    "#     \"TADParcel2024LandUse\",\n",
    "#     \"NEW_SELECTION\",\n",
    "#     (\n",
    "#         \"ILR <= 0.5 AND \"\n",
    "#         \"LandCode_2 IN (\"\n",
    "#             \"'Vacant - Under Development (14)', \"\n",
    "#             \"'Vacant-Developable (2)', \"\n",
    "#             \"'Parking (13)'\"\n",
    "#         \") AND \"\n",
    "#         \"Zoning NOT IN (\"\n",
    "#             \"'Conservation District Overlay - Residential Single-Family 7.2'\"\n",
    "#         \") AND \"\n",
    "#         \"(Year <= 2005) AND \"\n",
    "#         \"DensityCompatible = 'Yes'\"\n",
    "#     ),\n",
    "#     None\n",
    "# )"
   ]
  },
  {
   "cell_type": "code",
   "execution_count": 58,
   "id": "442bd13a",
   "metadata": {},
   "outputs": [
    {
     "name": "stdout",
     "output_type": "stream",
     "text": [
      "524\n"
     ]
    }
   ],
   "source": [
    "softparcels = int(arcpy.management.GetCount(Softparcels2024)[0])\n",
    "print(softparcels)"
   ]
  },
  {
   "cell_type": "code",
   "execution_count": 59,
   "id": "c587d822",
   "metadata": {},
   "outputs": [
    {
     "name": "stdout",
     "output_type": "stream",
     "text": [
      "OBJECTID\n",
      "Shape\n",
      "Join_Count\n",
      "TARGET_FID\n",
      "TaxParcelI\n",
      "LandCode\n",
      "LandCodeDe\n",
      "LandCode_1\n",
      "LandCode_2\n",
      "ChangeFlag\n",
      "ZONINGDETA\n",
      "DISTRICT\n",
      "ZONINGDESC\n",
      "Zoning\n",
      "DensityCompatible\n",
      "TAXPIN\n",
      "ACRES\n",
      "CALCULATED\n",
      "RP\n",
      "County\n",
      "City\n",
      "Land_Value\n",
      "Improvement_Value\n",
      "Total_Value\n",
      "Year_Built\n",
      "Land_Acres\n",
      "Land_SqFt\n",
      "Year\n",
      "IMPvalue\n",
      "LandValue\n",
      "ILR\n",
      "Acreage\n",
      "Shape_Length\n",
      "Shape_Area\n"
     ]
    }
   ],
   "source": [
    "for row in arcpy.ListFields('TADSoftParcels2024'):\n",
    "    print(row.name)"
   ]
  },
  {
   "cell_type": "code",
   "execution_count": 60,
   "id": "95f72c56",
   "metadata": {},
   "outputs": [
    {
     "data": {
      "text/html": [
       "<div class='gpresult'><h2>Messages</h2><div id='messages' data-messages='[\"Start Time: Monday, May 26, 2025 9:01:54 PM\",\"Succeeded at Monday, May 26, 2025 9:01:55 PM (Elapsed Time: 0.72 seconds)\"]' data-show='true'><div id = 'default' /></div></div>"
      ],
      "text/plain": [
       "<Result 'C:\\\\\\\\Users\\\\\\\\Thepr\\\\\\\\Documents\\\\\\\\Consulting\\\\\\\\Soft Parcel Analysis\\\\\\\\Soft Parcel Analysis.gdb\\\\TADSoftParcels2024'>"
      ]
     },
     "execution_count": 60,
     "metadata": {},
     "output_type": "execute_result"
    }
   ],
   "source": [
    "fieldmapping = arcpy.FieldMappings()\n",
    "fieldmapping.addTable(Softparcels2024)\n",
    "\n",
    "analysisfields = ['TAXPIN', 'RP', 'LandValue', 'Improvement_Value', 'Total_Value','Year',\n",
    "                  'LandCode_2','LandCodeDe','ZONINGDETA','Acreage','IMPvalue','LandValue','ILR',\n",
    "                  'DISTRICT','ZONINGDESC','Zoning','DensityCompatible']\n",
    "\n",
    "for field in fieldmapping.fields:\n",
    "    if field.name not in analysisfields:\n",
    "        fieldmapping.removeFieldMap(fieldmapping.findFieldMapIndex(field.name))\n",
    "        \n",
    "\n",
    "if arcpy.Exists('TADSoftParcels2024'):\n",
    "    arcpy.Delete_management('TADSoftParcels2024')\n",
    "\n",
    "arcpy.conversion.ExportFeatures(Softparcels2024,\"TADSoftParcels2024\",\"\",\"NOT_USE_ALIAS\",fieldmapping,None)\n",
    "        "
   ]
  },
  {
   "cell_type": "code",
   "execution_count": 61,
   "id": "d0d1aba1",
   "metadata": {},
   "outputs": [
    {
     "name": "stdout",
     "output_type": "stream",
     "text": [
      "524\n"
     ]
    }
   ],
   "source": [
    "\n",
    "recordscount = int(arcpy.management.GetCount(\"TADSoftParcels2024\")[0])\n",
    "print(recordscount)"
   ]
  },
  {
   "cell_type": "markdown",
   "id": "70adaecb",
   "metadata": {},
   "source": [
    "# Clusters 2024\n",
    "\n",
    "\n",
    "\n",
    "- Create Clusters\n",
    "- Calculate acreage\n",
    "- Filter for clusters less than 50 acres"
   ]
  },
  {
   "cell_type": "code",
   "execution_count": 62,
   "id": "9dad6d8a",
   "metadata": {},
   "outputs": [
    {
     "data": {
      "text/html": [
       "<div class='gpresult'><h2>Messages</h2><div id='messages' data-messages='[\"Start Time: Monday, May 26, 2025 9:01:56 PM\",\"Finding polygon clusters...\",\"Constructing polygons (non_orthogonal)...\",\"Succeeded at Monday, May 26, 2025 9:01:57 PM (Elapsed Time: 1.38 seconds)\"]' data-show='true'><div id = 'default' /></div></div>"
      ],
      "text/plain": [
       "<Result 'C:\\\\\\\\Users\\\\\\\\Thepr\\\\\\\\Documents\\\\\\\\Consulting\\\\\\\\Soft Parcel Analysis\\\\\\\\Soft Parcel Analysis.gdb\\\\TADSoftParcelsClusters2024'>"
      ]
     },
     "execution_count": 62,
     "metadata": {},
     "output_type": "execute_result"
    }
   ],
   "source": [
    "if arcpy.Exists('TADSoftParcelsClusters2024'):\n",
    "    arcpy.Delete_management('TADSoftParcelsClusters2024')\n",
    "    \n",
    "if arcpy.Exists('TADSoftParcelsClustersTable2024'):\n",
    "    arcpy.Delete_management('TADSoftParcelsClustersTable2024')\n",
    "\n",
    "\n",
    "arcpy.cartography.AggregatePolygons(\"TADSoftParcels2024\",\n",
    "                                    'TADSoftParcelsClusters2024',\n",
    "                                    \"500 Feet\",\n",
    "                                    \"0 SquareFeetUS\",\n",
    "                                    \"0 SquareFeetUS\",\n",
    "                                    \"NON_ORTHOGONAL\",\n",
    "                                    None,\n",
    "                                    'TADSoftParcelsClustersTable2024'\n",
    "                                    ,None)\n"
   ]
  },
  {
   "cell_type": "code",
   "execution_count": 63,
   "id": "6308b440",
   "metadata": {},
   "outputs": [
    {
     "name": "stdout",
     "output_type": "stream",
     "text": [
      "200\n"
     ]
    }
   ],
   "source": [
    "recordscount = int(arcpy.management.GetCount(\"TADSoftParcelsClusters2024\")[0])\n",
    "print(recordscount)"
   ]
  },
  {
   "cell_type": "code",
   "execution_count": 64,
   "id": "05716d49",
   "metadata": {},
   "outputs": [
    {
     "data": {
      "text/html": [
       "<div class='gpresult'><h2>Messages</h2><div id='messages' data-messages='[\"Start Time: Monday, May 26, 2025 9:01:57 PM\",\"Adding clusterAcreage to TADSoftParcelsClusters2024...\",\"Succeeded at Monday, May 26, 2025 9:01:58 PM (Elapsed Time: 0.26 seconds)\"]' data-show='true'><div id = 'default' /></div></div>"
      ],
      "text/plain": [
       "<Result 'C:\\\\\\\\Users\\\\\\\\Thepr\\\\\\\\Documents\\\\\\\\Consulting\\\\\\\\Soft Parcel Analysis\\\\\\\\Soft Parcel Analysis.gdb\\\\TADSoftParcelsClusters2024'>"
      ]
     },
     "execution_count": 64,
     "metadata": {},
     "output_type": "execute_result"
    }
   ],
   "source": [
    "arcpy.management.AddField(\"TADSoftParcelsClusters2024\",\"clusterAcreage\",\"DOUBLE\",None,None,None,\"clusterAcreage\",\"NULLABLE\",\n",
    "                          \"NON_REQUIRED\",\"\")"
   ]
  },
  {
   "cell_type": "code",
   "execution_count": 65,
   "id": "5c6bd941",
   "metadata": {},
   "outputs": [
    {
     "data": {
      "text/html": [
       "<div class='gpresult'><h2>Messages</h2><div id='messages' data-messages='[\"Start Time: Monday, May 26, 2025 9:01:58 PM\",\"Succeeded at Monday, May 26, 2025 9:01:58 PM (Elapsed Time: 0.44 seconds)\"]' data-show='true'><div id = 'default' /></div></div>"
      ],
      "text/plain": [
       "<Result 'C:\\\\\\\\Users\\\\\\\\Thepr\\\\\\\\Documents\\\\\\\\Consulting\\\\\\\\Soft Parcel Analysis\\\\\\\\Soft Parcel Analysis.gdb\\\\TADSoftParcelsClusters2024'>"
      ]
     },
     "execution_count": 65,
     "metadata": {},
     "output_type": "execute_result"
    }
   ],
   "source": [
    "arcpy.management.CalculateGeometryAttributes(\"TADSoftParcelsClusters2024\",\"clusterAcreage AREA\",\"\",\"ACRES\",\n",
    "                                             arcpy.SpatialReference(102738),\"SAME_AS_INPUT\")"
   ]
  },
  {
   "cell_type": "code",
   "execution_count": 66,
   "id": "010e14ee",
   "metadata": {},
   "outputs": [
    {
     "data": {
      "text/html": [
       "<div class='gpresult'><h2>Messages</h2><div id='messages' data-messages='[\"Start Time: Monday, May 26, 2025 9:01:59 PM\",\"Succeeded at Monday, May 26, 2025 9:02:00 PM (Elapsed Time: 0.61 seconds)\"]' data-show='true'><div id = 'default' /></div></div>"
      ],
      "text/plain": [
       "<Result 'C:\\\\\\\\Users\\\\\\\\Thepr\\\\\\\\Documents\\\\\\\\Consulting\\\\\\\\Soft Parcel Analysis\\\\\\\\Soft Parcel Analysis.gdb\\\\SoftParcels2024Circles'>"
      ]
     },
     "execution_count": 66,
     "metadata": {},
     "output_type": "execute_result"
    }
   ],
   "source": [
    "if arcpy.Exists('SoftParcels2024Circles'):\n",
    "    arcpy.Delete_management('SoftParcels2024Circles')\n",
    "\n",
    "arcpy.management.MinimumBoundingGeometry(\"TADSoftParcelsClusters2024\",\n",
    "                                         \"SoftParcels2024Circles\",\n",
    "                                         \"CIRCLE\",\n",
    "                                         \"NONE\",\n",
    "                                         None,\n",
    "                                         \"NO_MBG_FIELDS\")"
   ]
  },
  {
   "cell_type": "code",
   "execution_count": 67,
   "id": "8d457702",
   "metadata": {},
   "outputs": [
    {
     "name": "stdout",
     "output_type": "stream",
     "text": [
      "200\n"
     ]
    }
   ],
   "source": [
    "recordscount = int(arcpy.management.GetCount(\"SoftParcels2024Circles\")[0])\n",
    "print(recordscount)"
   ]
  },
  {
   "cell_type": "markdown",
   "id": "7882d0d8",
   "metadata": {},
   "source": [
    "# Density Based Clustering 2024\n",
    "\n",
    "- Convert SoftParcels to Points\n",
    "- Run DBSCAN On Points \n",
    "- Adjust DBSCAN for 1000 feet"
   ]
  },
  {
   "cell_type": "code",
   "execution_count": 68,
   "id": "84b565d3",
   "metadata": {},
   "outputs": [
    {
     "data": {
      "text/html": [
       "<div class='gpresult'><h2>Messages</h2><div id='messages' data-messages='[\"Start Time: Monday, May 26, 2025 9:02:00 PM\",\"Succeeded at Monday, May 26, 2025 9:02:01 PM (Elapsed Time: 0.63 seconds)\"]' data-show='true'><div id = 'default' /></div></div>"
      ],
      "text/plain": [
       "<Result 'C:\\\\\\\\Users\\\\\\\\Thepr\\\\\\\\Documents\\\\\\\\Consulting\\\\\\\\Soft Parcel Analysis\\\\\\\\Soft Parcel Analysis.gdb\\\\TADSoftParcelsPoints2024'>"
      ]
     },
     "execution_count": 68,
     "metadata": {},
     "output_type": "execute_result"
    }
   ],
   "source": [
    "if arcpy.Exists('TADSoftParcelsPoints2024'):\n",
    "    arcpy.Delete_management('TADSoftParcelsPoints2024')\n",
    "\n",
    "arcpy.management.FeatureToPoint(\"TADSoftParcels2024\",\"TADSoftParcelsPoints2024\",\"CENTROID\")"
   ]
  },
  {
   "cell_type": "code",
   "execution_count": 69,
   "id": "4bec97ec",
   "metadata": {},
   "outputs": [
    {
     "data": {
      "text/html": [
       "<div class='gpresult'><h2>Messages</h2><div id='messages' data-messages='[\"Start Time: Monday, May 26, 2025 9:02:01 PM\",\"Number of Clusters 99\",\"Noise features 164\",\"Succeeded at Monday, May 26, 2025 9:02:02 PM (Elapsed Time: 0.89 seconds)\"]' data-show='true'><div id = 'default' /></div></div>"
      ],
      "text/plain": [
       "<Result 'C:\\\\\\\\Users\\\\\\\\Thepr\\\\\\\\Documents\\\\\\\\Consulting\\\\\\\\Soft Parcel Analysis\\\\\\\\Soft Parcel Analysis.gdb\\\\TADSoftparcelsDensityBasedClusterDistance2024'>"
      ]
     },
     "execution_count": 69,
     "metadata": {},
     "output_type": "execute_result"
    }
   ],
   "source": [
    "if arcpy.Exists('TADSoftparcelsDensityBasedClusterDistance2024'):\n",
    "    arcpy.Delete_management('TADSoftparcelsDensityBasedClusterDistance2024')\n",
    "\n",
    "arcpy.stats.DensityBasedClustering(\"TADSoftParcelsPoints2024\",\n",
    "                                   \"TADSoftparcelsDensityBasedClusterDistance2024\",\n",
    "                                   \"DBSCAN\",\n",
    "                                   2,\n",
    "                                   \"500 Feet\",\n",
    "                                   None,\n",
    "                                   None,\n",
    "                                   None)\n"
   ]
  },
  {
   "cell_type": "code",
   "execution_count": 70,
   "id": "6c9d274e",
   "metadata": {},
   "outputs": [
    {
     "name": "stdout",
     "output_type": "stream",
     "text": [
      "360\n"
     ]
    }
   ],
   "source": [
    "clustersDB2024 = arcpy.management.SelectLayerByAttribute(\"TADSoftparcelsDensityBasedClusterDistance2024\",\n",
    "                                        \"NEW_SELECTION\",\n",
    "                                        \"COLOR_ID > 0\",\n",
    "                                        None)\n",
    "\n",
    "recordscount = int(arcpy.management.GetCount(clustersDB2024)[0])\n",
    "print(recordscount)"
   ]
  },
  {
   "cell_type": "code",
   "execution_count": 71,
   "id": "021828d6",
   "metadata": {},
   "outputs": [
    {
     "name": "stdout",
     "output_type": "stream",
     "text": [
      "360\n"
     ]
    }
   ],
   "source": [
    "if arcpy.Exists('SoftParcelsPreferred2024'):\n",
    "    arcpy.Delete_management('SoftParcelsPreferred2024')\n",
    "\n",
    "arcpy.analysis.SpatialJoin(\"TADSoftParcels2024\",clustersDB2024,\"SoftParcelsPreferred2024\",\n",
    "                                        \"JOIN_ONE_TO_ONE\",\"KEEP_COMMON\",'',\"COMPLETELY_CONTAINS\",None,\"\",None)\n",
    "\n",
    "recordscount = int(arcpy.management.GetCount(\"SoftParcelsPreferred2024\")[0])\n",
    "print(recordscount)"
   ]
  },
  {
   "cell_type": "code",
   "execution_count": 72,
   "id": "d80f483b",
   "metadata": {},
   "outputs": [
    {
     "name": "stdout",
     "output_type": "stream",
     "text": [
      "99\n"
     ]
    }
   ],
   "source": [
    "if arcpy.Exists('SoftParcelsBoundary2024'):\n",
    "    arcpy.Delete_management('SoftParcelsBoundary2024')\n",
    "\n",
    "arcpy.management.MinimumBoundingGeometry(\"SoftParcelsPreferred2024\",\"SoftParcelsBoundary2024\",\"CIRCLE\",\"LIST\",\n",
    "                                         \"CLUSTER_ID;COLOR_ID\",\"NO_MBG_FIELDS\")\n",
    "\n",
    "recordscount = int(arcpy.management.GetCount(\"SoftParcelsBoundary2024\")[0])\n",
    "print(recordscount)"
   ]
  }
 ],
 "metadata": {
  "kernelspec": {
   "display_name": "Python 3 (ipykernel)",
   "language": "python",
   "name": "python3"
  },
  "language_info": {
   "codemirror_mode": {
    "name": "ipython",
    "version": 3
   },
   "file_extension": ".py",
   "mimetype": "text/x-python",
   "name": "python",
   "nbconvert_exporter": "python",
   "pygments_lexer": "ipython3",
   "version": "3.9.18"
  }
 },
 "nbformat": 4,
 "nbformat_minor": 5
}
