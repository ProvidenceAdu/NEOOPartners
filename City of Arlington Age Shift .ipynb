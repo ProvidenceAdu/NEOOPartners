{
 "cells": [
  {
   "cell_type": "markdown",
   "metadata": {
    "id": "5mAZXxZeQhyu"
   },
   "source": [
    "### Import Libraries"
   ]
  },
  {
   "cell_type": "markdown",
   "metadata": {
    "id": "mHRt1oGzQhyw"
   },
   "source": [
    "\n",
    "\n",
    "- To run this script we need the libraries below\n",
    "- Pandas : For creating DataFrames\n",
    "- Numpy:  For computations \n",
    "- OS : For modifying working directories \n",
    "- censusdata: This is a library for accessing US Census Bureau, we use some of its function to preview variables *\n",
    "- Census: Main library for accessing the US Census Bureau API *\n",
    "- pd.set_option allows us to view our entire output instead of it being truncated in jupyter notebook\n",
    "\n",
    "\n",
    "\n",
    " * You need to install these packages before you can use. Census = pip install census | censusdata = pip install CensusData"
   ]
  },
  {
   "cell_type": "code",
   "execution_count": 1,
   "metadata": {
    "colab": {
     "base_uri": "https://localhost:8080/",
     "height": 373
    },
    "id": "Z-Z4dA4rQhyx",
    "outputId": "ed591eaf-4f1e-4f00-c189-e8c933e6c23a"
   },
   "outputs": [],
   "source": [
    "import pandas as pd\n",
    "import numpy as np\n",
    "import os\n",
    "import censusdata as cs\n",
    "from census import Census\n",
    "import warnings\n",
    "\n",
    "pd.set_option('display.max_rows',None, 'display.max_columns',None,'display.max_colwidth', None)\n",
    "\n",
    "warnings.filterwarnings(\"ignore\", message=\".*DataFrame is highly fragmented.*\")"
   ]
  },
  {
   "cell_type": "markdown",
   "metadata": {
    "id": "VjVFeb0uQhyy"
   },
   "source": [
    "##### Set Directory \n",
    "\n",
    "- Jupyter notebooks have default directories \n",
    "- Use os.chdir to set your preferred directory"
   ]
  },
  {
   "cell_type": "code",
   "execution_count": 2,
   "metadata": {
    "colab": {
     "base_uri": "https://localhost:8080/",
     "height": 35
    },
    "id": "_TCdnGoyQhyz",
    "outputId": "736324b3-9ca3-4fe7-852f-e23472440256"
   },
   "outputs": [
    {
     "data": {
      "text/plain": [
       "'C:\\\\Users\\\\Thepr\\\\Downloads'"
      ]
     },
     "execution_count": 2,
     "metadata": {},
     "output_type": "execute_result"
    }
   ],
   "source": [
    "pwd"
   ]
  },
  {
   "cell_type": "markdown",
   "metadata": {
    "id": "MOWKQYPcQhyz"
   },
   "source": [
    "##### Pass your API Key\n",
    "\n",
    "- Go to this [website](https://api.census.gov/data/key_signup.html 'sign up for your personal API key') and sign up your personal API key \n",
    "\n",
    "- Once you get your API key, call the Census function and pass your API key. Eg. Census(\"API Key\") "
   ]
  },
  {
   "cell_type": "code",
   "execution_count": 3,
   "metadata": {
    "colab": {
     "base_uri": "https://localhost:8080/",
     "height": 165
    },
    "id": "J2UXok-AQhy0",
    "outputId": "365c75b5-55d7-41fe-836e-f5f1f5ba326a"
   },
   "outputs": [],
   "source": [
    "c = Census(\"e0577a26a616f4dda60446eae987e3b6d0d944a3\")"
   ]
  },
  {
   "cell_type": "markdown",
   "metadata": {
    "id": "gGNkgVI9Qhy0"
   },
   "source": [
    "#### Preview ACS variable \n",
    "- Use the censustable function from censusdata library to preview the census variables\n",
    "- To preview specify the dataset type eg. ACS year 5 estimates (acs5), then the year of interest(2019), then the table number('B21001')\n",
    "- Use the printtable function to format the output nicely "
   ]
  },
  {
   "cell_type": "code",
   "execution_count": 4,
   "metadata": {
    "id": "yMXJhN4EQhy0",
    "scrolled": false
   },
   "outputs": [
    {
     "name": "stdout",
     "output_type": "stream",
     "text": [
      "Variable     | Table                          | Label                                                    | Type \n",
      "-------------------------------------------------------------------------------------------------------------------\n",
      "B01001_001E  | SEX BY AGE                     | !! Estimate Total:                                       | int  \n",
      "B01001_002E  | SEX BY AGE                     | !! !! Estimate Total: Male:                              | int  \n",
      "B01001_003E  | SEX BY AGE                     | !! !! !! Estimate Total: Male: Under 5 years             | int  \n",
      "B01001_004E  | SEX BY AGE                     | !! !! !! Estimate Total: Male: 5 to 9 years              | int  \n",
      "B01001_005E  | SEX BY AGE                     | !! !! !! Estimate Total: Male: 10 to 14 years            | int  \n",
      "B01001_006E  | SEX BY AGE                     | !! !! !! Estimate Total: Male: 15 to 17 years            | int  \n",
      "B01001_007E  | SEX BY AGE                     | !! !! !! Estimate Total: Male: 18 and 19 years           | int  \n",
      "B01001_008E  | SEX BY AGE                     | !! !! !! Estimate Total: Male: 20 years                  | int  \n",
      "B01001_009E  | SEX BY AGE                     | !! !! !! Estimate Total: Male: 21 years                  | int  \n",
      "B01001_010E  | SEX BY AGE                     | !! !! !! Estimate Total: Male: 22 to 24 years            | int  \n",
      "B01001_011E  | SEX BY AGE                     | !! !! !! Estimate Total: Male: 25 to 29 years            | int  \n",
      "B01001_012E  | SEX BY AGE                     | !! !! !! Estimate Total: Male: 30 to 34 years            | int  \n",
      "B01001_013E  | SEX BY AGE                     | !! !! !! Estimate Total: Male: 35 to 39 years            | int  \n",
      "B01001_014E  | SEX BY AGE                     | !! !! !! Estimate Total: Male: 40 to 44 years            | int  \n",
      "B01001_015E  | SEX BY AGE                     | !! !! !! Estimate Total: Male: 45 to 49 years            | int  \n",
      "B01001_016E  | SEX BY AGE                     | !! !! !! Estimate Total: Male: 50 to 54 years            | int  \n",
      "B01001_017E  | SEX BY AGE                     | !! !! !! Estimate Total: Male: 55 to 59 years            | int  \n",
      "B01001_018E  | SEX BY AGE                     | !! !! !! Estimate Total: Male: 60 and 61 years           | int  \n",
      "B01001_019E  | SEX BY AGE                     | !! !! !! Estimate Total: Male: 62 to 64 years            | int  \n",
      "B01001_020E  | SEX BY AGE                     | !! !! !! Estimate Total: Male: 65 and 66 years           | int  \n",
      "B01001_021E  | SEX BY AGE                     | !! !! !! Estimate Total: Male: 67 to 69 years            | int  \n",
      "B01001_022E  | SEX BY AGE                     | !! !! !! Estimate Total: Male: 70 to 74 years            | int  \n",
      "B01001_023E  | SEX BY AGE                     | !! !! !! Estimate Total: Male: 75 to 79 years            | int  \n",
      "B01001_024E  | SEX BY AGE                     | !! !! !! Estimate Total: Male: 80 to 84 years            | int  \n",
      "B01001_025E  | SEX BY AGE                     | !! !! !! Estimate Total: Male: 85 years and over         | int  \n",
      "B01001_026E  | SEX BY AGE                     | !! !! Estimate Total: Female:                            | int  \n",
      "B01001_027E  | SEX BY AGE                     | !! !! !! Estimate Total: Female: Under 5 years           | int  \n",
      "B01001_028E  | SEX BY AGE                     | !! !! !! Estimate Total: Female: 5 to 9 years            | int  \n",
      "B01001_029E  | SEX BY AGE                     | !! !! !! Estimate Total: Female: 10 to 14 years          | int  \n",
      "B01001_030E  | SEX BY AGE                     | !! !! !! Estimate Total: Female: 15 to 17 years          | int  \n",
      "B01001_031E  | SEX BY AGE                     | !! !! !! Estimate Total: Female: 18 and 19 years         | int  \n",
      "B01001_032E  | SEX BY AGE                     | !! !! !! Estimate Total: Female: 20 years                | int  \n",
      "B01001_033E  | SEX BY AGE                     | !! !! !! Estimate Total: Female: 21 years                | int  \n",
      "B01001_034E  | SEX BY AGE                     | !! !! !! Estimate Total: Female: 22 to 24 years          | int  \n",
      "B01001_035E  | SEX BY AGE                     | !! !! !! Estimate Total: Female: 25 to 29 years          | int  \n",
      "B01001_036E  | SEX BY AGE                     | !! !! !! Estimate Total: Female: 30 to 34 years          | int  \n",
      "B01001_037E  | SEX BY AGE                     | !! !! !! Estimate Total: Female: 35 to 39 years          | int  \n",
      "B01001_038E  | SEX BY AGE                     | !! !! !! Estimate Total: Female: 40 to 44 years          | int  \n",
      "B01001_039E  | SEX BY AGE                     | !! !! !! Estimate Total: Female: 45 to 49 years          | int  \n",
      "B01001_040E  | SEX BY AGE                     | !! !! !! Estimate Total: Female: 50 to 54 years          | int  \n",
      "B01001_041E  | SEX BY AGE                     | !! !! !! Estimate Total: Female: 55 to 59 years          | int  \n",
      "B01001_042E  | SEX BY AGE                     | !! !! !! Estimate Total: Female: 60 and 61 years         | int  \n",
      "B01001_043E  | SEX BY AGE                     | !! !! !! Estimate Total: Female: 62 to 64 years          | int  \n",
      "B01001_044E  | SEX BY AGE                     | !! !! !! Estimate Total: Female: 65 and 66 years         | int  \n",
      "B01001_045E  | SEX BY AGE                     | !! !! !! Estimate Total: Female: 67 to 69 years          | int  \n",
      "B01001_046E  | SEX BY AGE                     | !! !! !! Estimate Total: Female: 70 to 74 years          | int  \n",
      "B01001_047E  | SEX BY AGE                     | !! !! !! Estimate Total: Female: 75 to 79 years          | int  \n",
      "B01001_048E  | SEX BY AGE                     | !! !! !! Estimate Total: Female: 80 to 84 years          | int  \n",
      "B01001_049E  | SEX BY AGE                     | !! !! !! Estimate Total: Female: 85 years and over       | int  \n",
      "-------------------------------------------------------------------------------------------------------------------\n"
     ]
    }
   ],
   "source": [
    "cs.printtable(cs.censustable('acs5',2019,'B01001'))"
   ]
  },
  {
   "cell_type": "markdown",
   "metadata": {
    "id": "I2JBbUyRQhy1"
   },
   "source": [
    "#### Downloading ACS data \n",
    "- We use the census library to download ACS variables for the census API. \n",
    "- We are able to access the census API because we passed our unique API key in the step above\n",
    "- To access the data with census library, we have to specify the dataset of interest(acs5) and call the 'get' function\n",
    "- The get function needs few key parameters including : NAME, ACS variable ID, geography of interest, and year of interest\n",
    "\n",
    "    - Name: The name parameter reports the census block name\n",
    "    \n",
    "    - ACS Variable: The variable has to be specific, Estimates has E at the end, Margion of Error has M \n",
    "    \n",
    "    - Geography: The geography uses a python dictionary.i.e key value pairs. we are interested in all blockgroup in Mecklenburg county. To get those we have to specify the geography using (for:name of geography and asteriks since we want all blockgroups), then for the county we have to specify the State ID (NC ID is 37) and the County ID (Meck County ID is 119), then the year (2019)\n",
    "    \n",
    "- The output after running the get function is a dictionary, so we wrap it in pandas DataFrame for further analysis"
   ]
  },
  {
   "cell_type": "code",
   "execution_count": 5,
   "metadata": {},
   "outputs": [
    {
     "data": {
      "text/plain": [
       "2023"
      ]
     },
     "execution_count": 5,
     "metadata": {},
     "output_type": "execute_result"
    }
   ],
   "source": [
    "year = 2023\n",
    "year"
   ]
  },
  {
   "cell_type": "code",
   "execution_count": 6,
   "metadata": {
    "id": "1e0QC-wLQhy1"
   },
   "outputs": [],
   "source": [
    "Year = [2013, 2023]\n",
    "AllData = []\n",
    "\n",
    "for year in Year:\n",
    "    \n",
    "    Data = pd.DataFrame(c.acs5.get(('NAME',\n",
    "                                    # SEX BY AGE - MALE\n",
    "                                    'B01001_003E','B01001_004E','B01001_005E','B01001_006E',\n",
    "                                    'B01001_007E','B01001_008E','B01001_009E','B01001_010E',\n",
    "                                    'B01001_011E','B01001_012E','B01001_013E','B01001_014E',\n",
    "                                    'B01001_015E','B01001_016E','B01001_017E','B01001_018E',\n",
    "                                    'B01001_019E','B01001_020E','B01001_021E','B01001_022E',\n",
    "                                    'B01001_023E','B01001_024E','B01001_025E',\n",
    "                                    \n",
    "                                    # SEX BY AGE - FEMALE\n",
    "                                    'B01001_027E','B01001_028E','B01001_029E','B01001_030E',\n",
    "                                    'B01001_031E','B01001_032E','B01001_033E','B01001_034E',\n",
    "                                    'B01001_035E','B01001_036E','B01001_037E','B01001_038E',\n",
    "                                    'B01001_039E','B01001_040E','B01001_041E','B01001_042E',\n",
    "                                    'B01001_043E','B01001_044E','B01001_045E','B01001_046E',\n",
    "                                    'B01001_047E','B01001_048E','B01001_049E',\n",
    "                                    \n",
    "                                    # TOTAL\n",
    "                                    'B01001_001E'\n",
    "                                    ),\n",
    "                                   {'for':'place:04000',\n",
    "                                    'in': 'state:48'}, year=year))\n",
    "\n",
    "    Data.rename(columns={\n",
    "        'B01001_003E':'Male_under_5E','B01001_004E':'Male_5_to_9E','B01001_005E':'Male_10_to_14E',\n",
    "        'B01001_006E':'Male_15_to_17E','B01001_007E':'Male_18_to_19E','B01001_008E':'Male_20_to_24E',\n",
    "        'B01001_009E':'Male_25_to_29E','B01001_010E':'Male_30_to_34E','B01001_011E':'Male_35_to_39E',\n",
    "        'B01001_012E':'Male_40_to_44E','B01001_013E':'Male_45_to_49E','B01001_014E':'Male_50_to_54E',\n",
    "        'B01001_015E':'Male_55_to_59E','B01001_016E':'Male_60_to_64E','B01001_017E':'Male_60_and_61E',\n",
    "        'B01001_018E':'Male_62_to_64E','B01001_019E':'Male_65_and_66E','B01001_020E':'Male_67_to_69E',\n",
    "        'B01001_021E':'Male_70_to_74E','B01001_022E':'Male_75_to_79E','B01001_023E':'Male_80_to_84E',\n",
    "        'B01001_024E':'Male_85_and_overE',\n",
    "\n",
    "        'B01001_027E':'Female_under_5E','B01001_028E':'Female_5_to_9E','B01001_029E':'Female_10_to_14E',\n",
    "        'B01001_030E':'Female_15_to_17E','B01001_031E':'Female_18_to_19E','B01001_032E':'Female_20_to_24E',\n",
    "        'B01001_033E':'Female_25_to_29E','B01001_034E':'Female_30_to_34E','B01001_035E':'Female_35_to_39E',\n",
    "        'B01001_036E':'Female_40_to_44E','B01001_037E':'Female_45_to_49E','B01001_038E':'Female_50_to_54E',\n",
    "        'B01001_039E':'Female_55_to_59E','B01001_040E':'Female_60_to_64E','B01001_041E':'Female_60_and_61E',\n",
    "        'B01001_042E':'Female_62_to_64E','B01001_043E':'Female_65_and_66E','B01001_044E':'Female_67_to_69E',\n",
    "        'B01001_045E':'Female_70_to_74E','B01001_046E':'Female_75_to_79E','B01001_047E':'Female_80_to_84E',\n",
    "        'B01001_048E':'Female_85_and_overE',\n",
    "        'B01001_001E': 'Total'\n",
    "    }, inplace=True)\n",
    "\n",
    "    \n",
    "        # Custom Age Groups (Estimates Only)\n",
    "    Data['0 - 9'] = (Data['Male_under_5E'] + Data['Male_5_to_9E'] + Data['Female_under_5E'] + Data['Female_5_to_9E'])\n",
    "\n",
    "    Data['10 - 19'] = (Data['Male_10_to_14E'] + Data['Male_15_to_17E'] + Data['Male_18_to_19E'] +\n",
    "                       Data['Female_10_to_14E'] + Data['Female_15_to_17E'] + Data['Female_18_to_19E'])\n",
    "\n",
    "    Data['20 - 34'] = (Data['Male_20_to_24E'] + Data['Male_25_to_29E'] + Data['Male_30_to_34E'] +\n",
    "                       Data['Female_20_to_24E'] + Data['Female_25_to_29E'] + Data['Female_30_to_34E'])\n",
    "\n",
    "    Data['35 - 44'] = (Data['Male_35_to_39E'] + Data['Male_40_to_44E'] +\n",
    "                       Data['Female_35_to_39E'] + Data['Female_40_to_44E'])\n",
    "\n",
    "    Data['45 - 54'] = (Data['Male_45_to_49E'] + Data['Male_50_to_54E'] +\n",
    "                       Data['Female_45_to_49E'] + Data['Female_50_to_54E'])\n",
    "\n",
    "    Data['55 - 64'] = (Data['Male_55_to_59E'] + Data['Male_60_and_61E'] + Data['Male_62_to_64E'] +\n",
    "                       Data['Female_55_to_59E'] + Data['Female_60_and_61E'] + Data['Female_62_to_64E'])\n",
    "\n",
    "    Data['65 - 74'] = (Data['Male_65_and_66E'] + Data['Male_67_to_69E'] + Data['Male_70_to_74E'] +\n",
    "                       Data['Female_65_and_66E'] + Data['Female_67_to_69E'] + Data['Female_70_to_74E'])\n",
    "\n",
    "    Data['75 - 84'] = (Data['Male_75_to_79E'] + Data['Male_80_to_84E'] +\n",
    "                       Data['Female_75_to_79E'] + Data['Female_80_to_84E'])\n",
    "\n",
    "    Data['85+'] = (Data['Male_85_and_overE'] + Data['Female_85_and_overE'])\n",
    "\n",
    "    Data['Year'] = year\n",
    "    \n",
    "    AgeGroup = ['0 - 9', '10 - 19', '20 - 34', '35 - 44','45 - 54', '55 - 64', '65 - 74', '75 - 84', '85+','Year','Total']\n",
    "    \n",
    "    \n",
    "    AllData.append(Data[AgeGroup])\n",
    "    \n",
    "DataCombine = pd.concat(AllData)\n",
    "DataCombine.set_index('Year', inplace = True)\n",
    "DataCombine = DataCombine.T\n",
    "\n",
    "DataCombine.columns = DataCombine.columns.astype(int)\n",
    "\n",
    "DataCombine['Percent of Total 2013'] = DataCombine[2013] / DataCombine.loc['Total', 2013] * 100\n",
    "DataCombine['Percent of Total 2023'] = DataCombine[2023] / DataCombine.loc['Total', 2023] * 100\n",
    "\n",
    "# Calculate percentage change between 2013 and 2023\n",
    "DataCombine['Percentage Change'] = ((DataCombine[2023] - DataCombine[2013]) / DataCombine[2013]) * 100\n",
    "\n",
    "# Drop the Total row\n",
    "FinalOutput = DataCombine.drop(index='Total')\n",
    "FinalOutput = FinalOutput.round(2)\n",
    "\n",
    "FinalOutput = FinalOutput.reset_index()\n",
    "FinalOutput = FinalOutput.rename(columns={'index': 'Age Group'})\n",
    "FinalOutput['Age Group'] = FinalOutput['Age Group'].apply(lambda x: f'=\"{x}\"' if '-' in x else x)\n",
    "FinalOutput.to_csv('City of Arlington Age Shift 2013 to 2023.csv', index=False)"
   ]
  },
  {
   "cell_type": "code",
   "execution_count": 7,
   "metadata": {},
   "outputs": [
    {
     "data": {
      "text/html": [
       "<div>\n",
       "<style scoped>\n",
       "    .dataframe tbody tr th:only-of-type {\n",
       "        vertical-align: middle;\n",
       "    }\n",
       "\n",
       "    .dataframe tbody tr th {\n",
       "        vertical-align: top;\n",
       "    }\n",
       "\n",
       "    .dataframe thead th {\n",
       "        text-align: right;\n",
       "    }\n",
       "</style>\n",
       "<table border=\"1\" class=\"dataframe\">\n",
       "  <thead>\n",
       "    <tr style=\"text-align: right;\">\n",
       "      <th>Year</th>\n",
       "      <th>Age Group</th>\n",
       "      <th>2013</th>\n",
       "      <th>2023</th>\n",
       "      <th>Percent of Total 2013</th>\n",
       "      <th>Percent of Total 2023</th>\n",
       "      <th>Percentage Change</th>\n",
       "    </tr>\n",
       "  </thead>\n",
       "  <tbody>\n",
       "    <tr>\n",
       "      <th>0</th>\n",
       "      <td>=\"0 - 9\"</td>\n",
       "      <td>58296.0</td>\n",
       "      <td>52344.0</td>\n",
       "      <td>15.70</td>\n",
       "      <td>13.26</td>\n",
       "      <td>-10.21</td>\n",
       "    </tr>\n",
       "    <tr>\n",
       "      <th>1</th>\n",
       "      <td>=\"10 - 19\"</td>\n",
       "      <td>55046.0</td>\n",
       "      <td>59906.0</td>\n",
       "      <td>14.83</td>\n",
       "      <td>15.17</td>\n",
       "      <td>8.83</td>\n",
       "    </tr>\n",
       "    <tr>\n",
       "      <th>2</th>\n",
       "      <td>=\"20 - 34\"</td>\n",
       "      <td>30923.0</td>\n",
       "      <td>31790.0</td>\n",
       "      <td>8.33</td>\n",
       "      <td>8.05</td>\n",
       "      <td>2.80</td>\n",
       "    </tr>\n",
       "    <tr>\n",
       "      <th>3</th>\n",
       "      <td>=\"35 - 44\"</td>\n",
       "      <td>56751.0</td>\n",
       "      <td>60947.0</td>\n",
       "      <td>15.29</td>\n",
       "      <td>15.44</td>\n",
       "      <td>7.39</td>\n",
       "    </tr>\n",
       "    <tr>\n",
       "      <th>4</th>\n",
       "      <td>=\"45 - 54\"</td>\n",
       "      <td>51901.0</td>\n",
       "      <td>53502.0</td>\n",
       "      <td>13.98</td>\n",
       "      <td>13.55</td>\n",
       "      <td>3.08</td>\n",
       "    </tr>\n",
       "    <tr>\n",
       "      <th>5</th>\n",
       "      <td>=\"55 - 64\"</td>\n",
       "      <td>51719.0</td>\n",
       "      <td>56825.0</td>\n",
       "      <td>13.93</td>\n",
       "      <td>14.39</td>\n",
       "      <td>9.87</td>\n",
       "    </tr>\n",
       "    <tr>\n",
       "      <th>6</th>\n",
       "      <td>=\"65 - 74\"</td>\n",
       "      <td>20157.0</td>\n",
       "      <td>28008.0</td>\n",
       "      <td>5.43</td>\n",
       "      <td>7.09</td>\n",
       "      <td>38.95</td>\n",
       "    </tr>\n",
       "    <tr>\n",
       "      <th>7</th>\n",
       "      <td>=\"75 - 84\"</td>\n",
       "      <td>12334.0</td>\n",
       "      <td>20091.0</td>\n",
       "      <td>3.32</td>\n",
       "      <td>5.09</td>\n",
       "      <td>62.89</td>\n",
       "    </tr>\n",
       "    <tr>\n",
       "      <th>8</th>\n",
       "      <td>85+</td>\n",
       "      <td>3575.0</td>\n",
       "      <td>4537.0</td>\n",
       "      <td>0.96</td>\n",
       "      <td>1.15</td>\n",
       "      <td>26.91</td>\n",
       "    </tr>\n",
       "  </tbody>\n",
       "</table>\n",
       "</div>"
      ],
      "text/plain": [
       "Year   Age Group     2013     2023  Percent of Total 2013  \\\n",
       "0       =\"0 - 9\"  58296.0  52344.0                  15.70   \n",
       "1     =\"10 - 19\"  55046.0  59906.0                  14.83   \n",
       "2     =\"20 - 34\"  30923.0  31790.0                   8.33   \n",
       "3     =\"35 - 44\"  56751.0  60947.0                  15.29   \n",
       "4     =\"45 - 54\"  51901.0  53502.0                  13.98   \n",
       "5     =\"55 - 64\"  51719.0  56825.0                  13.93   \n",
       "6     =\"65 - 74\"  20157.0  28008.0                   5.43   \n",
       "7     =\"75 - 84\"  12334.0  20091.0                   3.32   \n",
       "8            85+   3575.0   4537.0                   0.96   \n",
       "\n",
       "Year  Percent of Total 2023  Percentage Change  \n",
       "0                     13.26             -10.21  \n",
       "1                     15.17               8.83  \n",
       "2                      8.05               2.80  \n",
       "3                     15.44               7.39  \n",
       "4                     13.55               3.08  \n",
       "5                     14.39               9.87  \n",
       "6                      7.09              38.95  \n",
       "7                      5.09              62.89  \n",
       "8                      1.15              26.91  "
      ]
     },
     "execution_count": 7,
     "metadata": {},
     "output_type": "execute_result"
    }
   ],
   "source": [
    "FinalOutput"
   ]
  },
  {
   "cell_type": "markdown",
   "metadata": {
    "deletable": false,
    "editable": false,
    "id": "szBM2FclQhzP"
   },
   "source": [
    "#### Veterans"
   ]
  }
 ],
 "metadata": {
  "colab": {
   "name": "Quality of Life Explorer.ipynb",
   "provenance": [],
   "toc_visible": true
  },
  "kernelspec": {
   "display_name": "Python 3 (ipykernel)",
   "language": "python",
   "name": "python3"
  },
  "language_info": {
   "codemirror_mode": {
    "name": "ipython",
    "version": 3
   },
   "file_extension": ".py",
   "mimetype": "text/x-python",
   "name": "python",
   "nbconvert_exporter": "python",
   "pygments_lexer": "ipython3",
   "version": "3.9.18"
  }
 },
 "nbformat": 4,
 "nbformat_minor": 1
}
