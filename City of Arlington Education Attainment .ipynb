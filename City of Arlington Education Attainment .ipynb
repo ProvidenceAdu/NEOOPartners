{
 "cells": [
  {
   "cell_type": "markdown",
   "id": "b8fca1db",
   "metadata": {},
   "source": [
    "### Import Libraries"
   ]
  },
  {
   "cell_type": "markdown",
   "id": "aa3369b2",
   "metadata": {},
   "source": [
    "\n",
    "\n",
    "- To run this script we need the libraries below\n",
    "- Pandas : For creating DataFrames\n",
    "- Numpy:  For computations \n",
    "- OS : For modifying working directories \n",
    "- censusdata: This is a library for accessing US Census Bureau, we use some of its function to preview variables *\n",
    "- Census: Main library for accessing the US Census Bureau API *\n",
    "- pd.set_option allows us to view our entire output instead of it being truncated in jupyter notebook\n",
    "\n",
    "\n",
    "\n",
    " * You need to install these packages before you can use. Census = pip install census | censusdata = pip install CensusData"
   ]
  },
  {
   "cell_type": "code",
   "execution_count": 1,
   "id": "232f75de",
   "metadata": {},
   "outputs": [],
   "source": [
    "import pandas as pd\n",
    "import numpy as np\n",
    "import os\n",
    "import censusdata as cs\n",
    "from census import Census\n",
    "import warnings\n",
    "\n",
    "pd.set_option('display.max_rows',None, 'display.max_columns',None,'display.max_colwidth', None)\n",
    "\n",
    "warnings.filterwarnings(\"ignore\", message=\".*DataFrame is highly fragmented.*\")"
   ]
  },
  {
   "cell_type": "code",
   "execution_count": 2,
   "id": "b903df52",
   "metadata": {},
   "outputs": [
    {
     "data": {
      "text/plain": [
       "'C:\\\\Users\\\\Thepr\\\\Downloads'"
      ]
     },
     "execution_count": 2,
     "metadata": {},
     "output_type": "execute_result"
    }
   ],
   "source": [
    "pwd"
   ]
  },
  {
   "cell_type": "markdown",
   "id": "9a3dac18",
   "metadata": {},
   "source": [
    "##### Pass your API Key\n",
    "\n",
    "- Go to this [website](https://api.census.gov/data/key_signup.html 'sign up for your personal API key') and sign up your personal API key \n",
    "\n",
    "- Once you get your API key, call the Census function and pass your API key. Eg. Census(\"API Key\") "
   ]
  },
  {
   "cell_type": "code",
   "execution_count": 3,
   "id": "4bb6ce2c",
   "metadata": {},
   "outputs": [],
   "source": [
    "c = Census(\"e0577a26a616f4dda60446eae987e3b6d0d944a3\")"
   ]
  },
  {
   "cell_type": "markdown",
   "id": "c8ef31fa",
   "metadata": {},
   "source": [
    "#### Preview ACS variable "
   ]
  },
  {
   "cell_type": "code",
   "execution_count": 4,
   "id": "c0f9e872",
   "metadata": {},
   "outputs": [
    {
     "name": "stdout",
     "output_type": "stream",
     "text": [
      "Variable     | Table                          | Label                                                    | Type \n",
      "-------------------------------------------------------------------------------------------------------------------\n",
      "C15002A_001E | SEX BY EDUCATIONAL ATTAINMENT  | !! Estimate Total:                                       | int  \n",
      "C15002A_002E | SEX BY EDUCATIONAL ATTAINMENT  | !! !! Estimate Total: Male:                              | int  \n",
      "C15002A_003E | SEX BY EDUCATIONAL ATTAINMENT  | !! !! !! Estimate Total: Male: Less than high school dip | int  \n",
      "C15002A_004E | SEX BY EDUCATIONAL ATTAINMENT  | !! !! !! Estimate Total: Male: High school graduate (inc | int  \n",
      "C15002A_005E | SEX BY EDUCATIONAL ATTAINMENT  | !! !! !! Estimate Total: Male: Some college or associate | int  \n",
      "C15002A_006E | SEX BY EDUCATIONAL ATTAINMENT  | !! !! !! Estimate Total: Male: Bachelor's degree or high | int  \n",
      "C15002A_007E | SEX BY EDUCATIONAL ATTAINMENT  | !! !! Estimate Total: Female:                            | int  \n",
      "C15002A_008E | SEX BY EDUCATIONAL ATTAINMENT  | !! !! !! Estimate Total: Female: Less than high school d | int  \n",
      "C15002A_009E | SEX BY EDUCATIONAL ATTAINMENT  | !! !! !! Estimate Total: Female: High school graduate (i | int  \n",
      "C15002A_010E | SEX BY EDUCATIONAL ATTAINMENT  | !! !! !! Estimate Total: Female: Some college or associa | int  \n",
      "C15002A_011E | SEX BY EDUCATIONAL ATTAINMENT  | !! !! !! Estimate Total: Female: Bachelor's degree or hi | int  \n",
      "-------------------------------------------------------------------------------------------------------------------\n"
     ]
    }
   ],
   "source": [
    "cs.printtable(cs.censustable('acs5',2019,'C15002A'))"
   ]
  },
  {
   "cell_type": "markdown",
   "id": "765318c5",
   "metadata": {},
   "source": [
    "## Set Geographies\n",
    "- Arlington\n",
    "- Tarrant County\n",
    "- Dallas Fort Worth\n",
    "- Texas"
   ]
  },
  {
   "cell_type": "code",
   "execution_count": 5,
   "id": "7634548f",
   "metadata": {},
   "outputs": [],
   "source": [
    "\n",
    "geographies = {\n",
    "    'Arlington, TX': {'for': 'place:04000', 'in': 'state:48'},  \n",
    "    'Tarrant County, TX': {'for': 'county:439', 'in': 'state:48'},\n",
    "    'Dallas-Fort Worth-Arlington MSA': {'for': 'metropolitan statistical area/micropolitan statistical area:19100'},\n",
    "    'Texas State': {'for': 'state:48'}\n",
    "}\n"
   ]
  },
  {
   "cell_type": "markdown",
   "id": "c6dfd61d",
   "metadata": {},
   "source": [
    "## Get Data \n",
    "\n",
    "- **ACS 5-Year Estimate**"
   ]
  },
  {
   "cell_type": "code",
   "execution_count": 6,
   "id": "a4206685",
   "metadata": {},
   "outputs": [],
   "source": [
    "AllData = []\n",
    "Years = [2017, 2022]\n",
    "\n",
    "# Race \n",
    "Ethnicity = {'White alone': 'C15002A','Black or African American alone': 'C15002B',\n",
    "             'American Indian and Alaska Native alone': 'C15002C','Asian alone': 'C15002D',\n",
    "             'Native Hawaiian and Other Pacific Islander alone': 'C15002E',\n",
    "             'Some other race alone': 'C15002F','Two or more races': 'C15002G',\n",
    "             'White alone, not Hispanic or Latino': 'C15002H','Hispanic or Latino': 'C15002I'}\n",
    "\n",
    "for year in Years:\n",
    "    \n",
    "    for geo in geographies:\n",
    "        \n",
    "        juris = geographies[geo]\n",
    "        \n",
    "        for race in Ethnicity:\n",
    "            racialcategory = Ethnicity[race]\n",
    "          \n",
    "            highschool = [ f'{racialcategory}_004E', f'{racialcategory}_005E', f'{racialcategory}_006E',\n",
    "                          f'{racialcategory}_009E', f'{racialcategory}_010E', f'{racialcategory}_011E']\n",
    "            \n",
    "            bachelors = [ f'{racialcategory}_006E',f'{racialcategory}_011E']\n",
    "\n",
    "            fields = ['NAME'] + highschool + bachelors\n",
    "\n",
    "            # Get data\n",
    "            \n",
    "            ACS = c.acs5.get(fields, juris, year=year)[0]\n",
    "\n",
    "            # Compute totals\n",
    "            \n",
    "            highschooltotal = sum(int(ACS[row] or 0) for row in highschool)\n",
    "            bachelorstotal  = sum(int(ACS[row] or 0) for row in bachelors)\n",
    "\n",
    "            # Append to master list\n",
    "            \n",
    "            AllData.append({'Year': year,'Geography': geo,'Race': race,'Metric': 'High School or Higher',\n",
    "                            'Value': highschooltotal})\n",
    "\n",
    "            AllData.append({'Year': year,'Geography': geo,'Race': race,'Metric': \"Bachelor's or Higher\",\n",
    "                            'Value': bachelorstotal})\n",
    "\n",
    "\n",
    "Data = pd.DataFrame(AllData)\n",
    "\n",
    "\n",
    "\n",
    "\n",
    "Datapivot = Data.pivot_table(index=['Geography', 'Race', 'Metric'],columns='Year',values='Value').reset_index()\n",
    "\n",
    "Datapivot.columns.name = None\n",
    "Datapivot.rename(columns={2017: '2017', 2022: '2022'}, inplace=True)\n",
    "\n",
    "\n",
    "Datapivot['Change'] = Datapivot['2022'] - Datapivot['2017']\n",
    "Datapivot['Percent Change'] = (((Datapivot['2022'] - Datapivot['2017'])\n",
    "                                / Datapivot['2017']) * 100).round().astype(int).astype(str) + '%'\n",
    "\n",
    "\n",
    "\n",
    "for col in ['2017', '2022', 'Change']:\n",
    "    Datapivot[col] = Datapivot[col].apply(lambda x: f\"{x:,}\" if pd.notnull(x) else \"\")\n",
    "\n",
    "\n",
    "Datapivot['Eduction Attainment'] = Datapivot['Metric'].apply(lambda x: '    ' + x)\n",
    "\n",
    "# Final table\n",
    "FinalData = Datapivot[['Geography', 'Race', 'Eduction Attainment', '2017', '2022', 'Change', 'Percent Change']]\n",
    "\n",
    "\n",
    "\n",
    "# Display result\n",
    "FinalData.to_csv('Arlington Education Attainment by Race ACS 5-Year Estimates.csv', index = False)\n",
    "\n",
    "\n"
   ]
  },
  {
   "cell_type": "markdown",
   "id": "a98d25e6",
   "metadata": {},
   "source": [
    "- **Summary by Geography**"
   ]
  },
  {
   "cell_type": "code",
   "execution_count": 7,
   "id": "e8ee7a11",
   "metadata": {},
   "outputs": [],
   "source": [
    "Bachelors = Data[Data['Metric'] == \"Bachelor's or Higher\"]\n",
    "\n",
    "\n",
    "DataBachelors = Bachelors.groupby(['Geography', 'Year'])['Value'].sum().reset_index()\n",
    "\n",
    "\n",
    "BachcelorPivot = DataBachelors.pivot(index='Geography', columns='Year', values='Value').reset_index()\n",
    "\n",
    "BachcelorPivot.columns.name = None\n",
    "BachcelorPivot.rename(columns={2017: '2017', 2022: '2022'}, inplace=True)\n",
    "\n",
    "\n",
    "BachcelorPivot['Change'] = BachcelorPivot['2022'] - BachcelorPivot['2017']\n",
    "BachcelorPivot['Percent Change'] = ((BachcelorPivot['Change'] /\n",
    "                                     BachcelorPivot['2017']) * 100).round().astype(int).astype(str) + '%'\n",
    "\n",
    "\n",
    "for col in ['2017', '2022', 'Change']:\n",
    "    BachcelorPivot[col] = BachcelorPivot[col].apply(lambda x: f\"{x:,}\" if pd.notnull(x) else \"\")\n",
    "\n",
    "\n",
    "BachcelorPivot.rename(columns={'Geography': 'Geography Name'}, inplace=True)\n",
    "\n",
    "\n",
    "BachcelorPivot.to_csv('Education Attainment Bachelor Degree or Higher by Geography.csv', index=False)\n"
   ]
  }
 ],
 "metadata": {
  "kernelspec": {
   "display_name": "Python 3 (ipykernel)",
   "language": "python",
   "name": "python3"
  },
  "language_info": {
   "codemirror_mode": {
    "name": "ipython",
    "version": 3
   },
   "file_extension": ".py",
   "mimetype": "text/x-python",
   "name": "python",
   "nbconvert_exporter": "python",
   "pygments_lexer": "ipython3",
   "version": "3.9.18"
  }
 },
 "nbformat": 4,
 "nbformat_minor": 5
}
